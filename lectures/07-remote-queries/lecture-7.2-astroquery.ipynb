{
 "cells": [
  {
   "cell_type": "markdown",
   "metadata": {
    "slideshow": {
     "slide_type": "slide"
    }
   },
   "source": [
    "## Astroquery (continued) ##\n",
    "\n",
    "(based on https://github.com/ESO-python/ESOPythonTutorials)\n",
    "\n",
    "[Astroquery](http://astroquery.readthedocs.org) is a set of related tools for querying different astronomical database services,  e.g. SIMBAD, VizieR, and IRSA-IPAC, and for retrieving data from archives, e.g. the ESO, IRSA, and NRAO archives.  It also includes tools for querying other astronomy-related databases such as line-list servers at NIST (primarily for optical/NIR electronic transitions) and Splatalogue for mm/radio molecular transitions."
   ]
  },
  {
   "cell_type": "markdown",
   "metadata": {
    "slideshow": {
     "slide_type": "slide"
    }
   },
   "source": [
    "### Warning: Work in Progress\n",
    "\n",
    "Astroquery submodules _try_ to expose a common API (i.e., the function names, arguments, return values, should be the same from module to module). Each astroquery submodule should include a `query` method, or a set of `query_*` methods, depending on the capabilities the service offers. This is still _not_ the case universally (even if documentation says otherwise)."
   ]
  },
  {
   "cell_type": "markdown",
   "metadata": {
    "slideshow": {
     "slide_type": "slide"
    }
   },
   "source": [
    "## Examples: SIMBAD general query\n",
    "\n",
    "SIMBAD is the acronym for **S**et of **I**dentifications, **M**easurements and **B**ibliography for **A**stronomical **D**ata. The SIMBAD database is managed by the Centre de Données astronomiques de Strasbourg (CDS), France.\n",
    "\n",
    "SIMBAD supports queries by source name (`query_object`) and by region (`query_region`).  The returned values are (almost) always [astropy tables](docs.astropy.org/en/latest/tables/)."
   ]
  },
  {
   "cell_type": "code",
   "execution_count": 1,
   "metadata": {
    "slideshow": {
     "slide_type": "-"
    }
   },
   "outputs": [],
   "source": [
    "from astroquery.simbad import Simbad\n",
    "from astropy import coordinates\n",
    "from astropy import units as u"
   ]
  },
  {
   "cell_type": "markdown",
   "metadata": {
    "slideshow": {
     "slide_type": "slide"
    }
   },
   "source": [
    "Querying an object by name:"
   ]
  },
  {
   "cell_type": "code",
   "execution_count": 2,
   "metadata": {
    "slideshow": {
     "slide_type": "-"
    }
   },
   "outputs": [
    {
     "data": {
      "text/html": [
       "<div><i>Table length=1</i>\n",
       "<table id=\"table4368320496\" class=\"table-striped table-bordered table-condensed\">\n",
       "<thead><tr><th>MAIN_ID</th><th>RA</th><th>DEC</th><th>RA_PREC</th><th>DEC_PREC</th><th>COO_ERR_MAJA</th><th>COO_ERR_MINA</th><th>COO_ERR_ANGLE</th><th>COO_QUAL</th><th>COO_WAVELENGTH</th><th>COO_BIBCODE</th><th>SCRIPT_NUMBER_ID</th></tr></thead>\n",
       "<thead><tr><th></th><th>&quot;h:m:s&quot;</th><th>&quot;d:m:s&quot;</th><th></th><th></th><th>mas</th><th>mas</th><th>deg</th><th></th><th></th><th></th><th></th></tr></thead>\n",
       "<thead><tr><th>object</th><th>str13</th><th>str13</th><th>int16</th><th>int16</th><th>float32</th><th>float32</th><th>int16</th><th>str1</th><th>str1</th><th>object</th><th>int32</th></tr></thead>\n",
       "<tr><td>M  31</td><td>00 42 44.330</td><td>+41 16 07.50</td><td>7</td><td>7</td><td>--</td><td>--</td><td>0</td><td>C</td><td>I</td><td>2006AJ....131.1163S</td><td>1</td></tr>\n",
       "</table></div>"
      ],
      "text/plain": [
       "<Table length=1>\n",
       "MAIN_ID      RA          DEC      RA_PREC DEC_PREC COO_ERR_MAJA COO_ERR_MINA COO_ERR_ANGLE COO_QUAL COO_WAVELENGTH     COO_BIBCODE     SCRIPT_NUMBER_ID\n",
       "          \"h:m:s\"      \"d:m:s\"                         mas          mas           deg                                                                  \n",
       " object    str13        str13      int16   int16     float32      float32        int16       str1        str1             object            int32      \n",
       "------- ------------ ------------ ------- -------- ------------ ------------ ------------- -------- -------------- ------------------- ----------------\n",
       "  M  31 00 42 44.330 +41 16 07.50       7        7           --           --             0        C              I 2006AJ....131.1163S                1"
      ]
     },
     "execution_count": 2,
     "metadata": {},
     "output_type": "execute_result"
    }
   ],
   "source": [
    "result1 = Simbad.query_object('M 31')\n",
    "result1"
   ]
  },
  {
   "cell_type": "markdown",
   "metadata": {
    "slideshow": {
     "slide_type": "slide"
    }
   },
   "source": [
    "Querying by position:"
   ]
  },
  {
   "cell_type": "code",
   "execution_count": 3,
   "metadata": {
    "scrolled": true,
    "slideshow": {
     "slide_type": "-"
    }
   },
   "outputs": [
    {
     "name": "stderr",
     "output_type": "stream",
     "text": [
      "WARNING: InputWarning: Coordinate string is being interpreted as an ICRS coordinate. [astroquery.utils.commons]\n"
     ]
    },
    {
     "data": {
      "text/html": [
       "<div><i>Table length=705</i>\n",
       "<table id=\"table4368319296\" class=\"table-striped table-bordered table-condensed\">\n",
       "<thead><tr><th>MAIN_ID</th><th>RA</th><th>DEC</th><th>RA_PREC</th><th>DEC_PREC</th><th>COO_ERR_MAJA</th><th>COO_ERR_MINA</th><th>COO_ERR_ANGLE</th><th>COO_QUAL</th><th>COO_WAVELENGTH</th><th>COO_BIBCODE</th><th>SCRIPT_NUMBER_ID</th></tr></thead>\n",
       "<thead><tr><th></th><th>&quot;h:m:s&quot;</th><th>&quot;d:m:s&quot;</th><th></th><th></th><th>mas</th><th>mas</th><th>deg</th><th></th><th></th><th></th><th></th></tr></thead>\n",
       "<thead><tr><th>object</th><th>str13</th><th>str13</th><th>int16</th><th>int16</th><th>float32</th><th>float32</th><th>int16</th><th>str1</th><th>str1</th><th>object</th><th>int32</th></tr></thead>\n",
       "<tr><td>NAME Ori Region</td><td>05 35 17.30</td><td>-05 23 28.0</td><td>6</td><td>6</td><td>--</td><td>--</td><td>0</td><td>D</td><td>O</td><td></td><td>1</td></tr>\n",
       "<tr><td>[FRM2016] 344</td><td>05 35 17.2210</td><td>-05 23 26.542</td><td>9</td><td>9</td><td>--</td><td>--</td><td>0</td><td>C</td><td>R</td><td>2016ApJ...822...93F</td><td>1</td></tr>\n",
       "<tr><td>DOH  7 175-328</td><td>05 35 17.5</td><td>-05 23 28</td><td>5</td><td>5</td><td>--</td><td>--</td><td>0</td><td>D</td><td></td><td>2004AJ....127.3456D</td><td>1</td></tr>\n",
       "<tr><td>MAX 126</td><td>05 35 17.11</td><td>-05 23 29.3</td><td>6</td><td>6</td><td>--</td><td>--</td><td>0</td><td>D</td><td>I</td><td>2005AJ....129.1534R</td><td>1</td></tr>\n",
       "<tr><td>DOH  7 171-327</td><td>05 35 17.1</td><td>-05 23 27</td><td>5</td><td>5</td><td>--</td><td>--</td><td>0</td><td>D</td><td></td><td>2004AJ....127.3456D</td><td>1</td></tr>\n",
       "<tr><td>MAX 125</td><td>05 35 17.11</td><td>-05 23 26.6</td><td>6</td><td>6</td><td>--</td><td>--</td><td>0</td><td>D</td><td>I</td><td>2005AJ....129.1534R</td><td>1</td></tr>\n",
       "<tr><td>[OW94] 171-326</td><td>05 35 17.1</td><td>-05 23 26</td><td>5</td><td>5</td><td>--</td><td>--</td><td>0</td><td>D</td><td></td><td>2004AJ....127.3456D</td><td>1</td></tr>\n",
       "<tr><td>DOH  7 171-325</td><td>05 35 17.1</td><td>-05 23 25</td><td>5</td><td>5</td><td>--</td><td>--</td><td>0</td><td>D</td><td></td><td>2004AJ....127.3456D</td><td>1</td></tr>\n",
       "<tr><td>HH 1143</td><td>05 35 17.5</td><td>-05 23 25</td><td>5</td><td>5</td><td>--</td><td>--</td><td>0</td><td>E</td><td></td><td>2015AJ....150..108O</td><td>1</td></tr>\n",
       "<tr><td>DOH  7 175-324</td><td>05 35 17.5</td><td>-05 23 24</td><td>5</td><td>5</td><td>--</td><td>--</td><td>0</td><td>D</td><td></td><td>2004AJ....127.3456D</td><td>1</td></tr>\n",
       "<tr><td>COUP   900</td><td>05 35 17.5625</td><td>-05 23 24.868</td><td>14</td><td>14</td><td>1.428</td><td>1.260</td><td>90</td><td>C</td><td>O</td><td>2020yCat.1350....0G</td><td>1</td></tr>\n",
       "<tr><td>[H97b] 20001</td><td>05 35 17.22</td><td>-05 23 33.3</td><td>6</td><td>6</td><td>150.000</td><td>150.000</td><td>90</td><td>C</td><td>O</td><td>2009A&amp;A...502..883R</td><td>1</td></tr>\n",
       "<tr><td>DOH  7</td><td>05 35 17</td><td>-05 23.4</td><td>4</td><td>4</td><td>--</td><td>--</td><td>0</td><td>E</td><td></td><td></td><td>1</td></tr>\n",
       "<tr><td>TCC  77</td><td>05 35 16.851</td><td>-05 23 26.71</td><td>7</td><td>7</td><td>--</td><td>--</td><td>0</td><td>C</td><td>O</td><td>1998AJ....116..293B</td><td>1</td></tr>\n",
       "<tr><td>...</td><td>...</td><td>...</td><td>...</td><td>...</td><td>...</td><td>...</td><td>...</td><td>...</td><td>...</td><td>...</td><td>...</td></tr>\n",
       "<tr><td>[FRM2016] 114</td><td>05 35 13.3347</td><td>-05 23 29.771</td><td>9</td><td>9</td><td>--</td><td>--</td><td>0</td><td>C</td><td>R</td><td>2016ApJ...822...93F</td><td>1</td></tr>\n",
       "<tr><td>[SCB99] 271</td><td>05 35 21.211</td><td>-05 23 18.04</td><td>7</td><td>7</td><td>--</td><td>--</td><td>0</td><td>D</td><td></td><td>1999AJ....117.1375S</td><td>1</td></tr>\n",
       "<tr><td>V* V2370 Ori</td><td>05 35 20.6301</td><td>-05 22 55.677</td><td>14</td><td>14</td><td>0.599</td><td>0.602</td><td>90</td><td>C</td><td>O</td><td>2020yCat.1350....0G</td><td>1</td></tr>\n",
       "<tr><td>GMR J</td><td>05 35 15.992</td><td>-05 22 31.80</td><td>7</td><td>7</td><td>--</td><td>--</td><td>0</td><td>D</td><td></td><td></td><td>1</td></tr>\n",
       "<tr><td>[FRM2016] 455</td><td>05 35 19.8615</td><td>-05 22 42.406</td><td>9</td><td>9</td><td>--</td><td>--</td><td>0</td><td>C</td><td>R</td><td>2016ApJ...822...93F</td><td>1</td></tr>\n",
       "<tr><td>[FW2011] J053514.996-052239.411</td><td>05 35 14.996</td><td>-05 22 39.41</td><td>7</td><td>7</td><td>--</td><td>--</td><td>0</td><td>C</td><td>m</td><td>2011ApJ...742...64F</td><td>1</td></tr>\n",
       "<tr><td>[FTC93] 053253.59-052542.02</td><td>05 35 21.04</td><td>-05 23 49.0</td><td>6</td><td>6</td><td>--</td><td>--</td><td>0</td><td>D</td><td></td><td></td><td>1</td></tr>\n",
       "<tr><td>[OW94] 133-329</td><td>05 35 13.3</td><td>-05 23 29</td><td>5</td><td>5</td><td>--</td><td>--</td><td>0</td><td>D</td><td></td><td>2004AJ....127.3456D</td><td>1</td></tr>\n",
       "<tr><td>V* V1399 Ori</td><td>05 35 21.0488</td><td>-05 23 49.016</td><td>14</td><td>14</td><td>0.044</td><td>0.040</td><td>90</td><td>A</td><td>O</td><td>2020yCat.1350....0G</td><td>1</td></tr>\n",
       "<tr><td>[FRM2016] 112</td><td>05 35 13.2944</td><td>-05 23 29.674</td><td>9</td><td>9</td><td>--</td><td>--</td><td>0</td><td>C</td><td>R</td><td>2016ApJ...822...93F</td><td>1</td></tr>\n",
       "<tr><td>DOH 14 210-351</td><td>05 35 21.0</td><td>-05 23 51</td><td>5</td><td>5</td><td>--</td><td>--</td><td>0</td><td>D</td><td></td><td>2004AJ....127.3456D</td><td>1</td></tr>\n",
       "<tr><td>[H97b] 20072</td><td>05 35 16.91</td><td>-05 22 28.4</td><td>6</td><td>6</td><td>150.000</td><td>150.000</td><td>90</td><td>C</td><td>O</td><td>2009A&amp;A...502..883R</td><td>1</td></tr>\n",
       "<tr><td>[OW94] 134-342</td><td>05 35 13.4</td><td>-05 23 42</td><td>5</td><td>5</td><td>--</td><td>--</td><td>0</td><td>D</td><td>O</td><td>2003AJ....125..277O</td><td>1</td></tr>\n",
       "<tr><td>[SCB99] 181</td><td>05 35 17.608</td><td>-05 22 28.24</td><td>7</td><td>7</td><td>--</td><td>--</td><td>0</td><td>D</td><td></td><td>1999AJ....117.1375S</td><td>1</td></tr>\n",
       "<tr><td>MMB G208.996-19.386</td><td>05 35 14.50</td><td>-05 22 45.0</td><td>6</td><td>6</td><td>400.000</td><td>400.000</td><td>90</td><td>C</td><td>R</td><td>2010MNRAS.404.1029C</td><td>1</td></tr>\n",
       "</table></div>"
      ],
      "text/plain": [
       "<Table length=705>\n",
       "            MAIN_ID                   RA           DEC      RA_PREC DEC_PREC COO_ERR_MAJA COO_ERR_MINA COO_ERR_ANGLE COO_QUAL COO_WAVELENGTH     COO_BIBCODE     SCRIPT_NUMBER_ID\n",
       "                                   \"h:m:s\"       \"d:m:s\"                         mas          mas           deg                                                                  \n",
       "             object                 str13         str13      int16   int16     float32      float32        int16       str1        str1             object            int32      \n",
       "------------------------------- ------------- ------------- ------- -------- ------------ ------------ ------------- -------- -------------- ------------------- ----------------\n",
       "                NAME Ori Region   05 35 17.30   -05 23 28.0       6        6           --           --             0        D              O                                    1\n",
       "                  [FRM2016] 344 05 35 17.2210 -05 23 26.542       9        9           --           --             0        C              R 2016ApJ...822...93F                1\n",
       "                 DOH  7 175-328    05 35 17.5     -05 23 28       5        5           --           --             0        D                2004AJ....127.3456D                1\n",
       "                        MAX 126   05 35 17.11   -05 23 29.3       6        6           --           --             0        D              I 2005AJ....129.1534R                1\n",
       "                 DOH  7 171-327    05 35 17.1     -05 23 27       5        5           --           --             0        D                2004AJ....127.3456D                1\n",
       "                        MAX 125   05 35 17.11   -05 23 26.6       6        6           --           --             0        D              I 2005AJ....129.1534R                1\n",
       "                 [OW94] 171-326    05 35 17.1     -05 23 26       5        5           --           --             0        D                2004AJ....127.3456D                1\n",
       "                 DOH  7 171-325    05 35 17.1     -05 23 25       5        5           --           --             0        D                2004AJ....127.3456D                1\n",
       "                        HH 1143    05 35 17.5     -05 23 25       5        5           --           --             0        E                2015AJ....150..108O                1\n",
       "                 DOH  7 175-324    05 35 17.5     -05 23 24       5        5           --           --             0        D                2004AJ....127.3456D                1\n",
       "                     COUP   900 05 35 17.5625 -05 23 24.868      14       14        1.428        1.260            90        C              O 2020yCat.1350....0G                1\n",
       "                   [H97b] 20001   05 35 17.22   -05 23 33.3       6        6      150.000      150.000            90        C              O 2009A&A...502..883R                1\n",
       "                         DOH  7      05 35 17      -05 23.4       4        4           --           --             0        E                                                   1\n",
       "                        TCC  77  05 35 16.851  -05 23 26.71       7        7           --           --             0        C              O 1998AJ....116..293B                1\n",
       "                            ...           ...           ...     ...      ...          ...          ...           ...      ...            ...                 ...              ...\n",
       "                  [FRM2016] 114 05 35 13.3347 -05 23 29.771       9        9           --           --             0        C              R 2016ApJ...822...93F                1\n",
       "                    [SCB99] 271  05 35 21.211  -05 23 18.04       7        7           --           --             0        D                1999AJ....117.1375S                1\n",
       "                   V* V2370 Ori 05 35 20.6301 -05 22 55.677      14       14        0.599        0.602            90        C              O 2020yCat.1350....0G                1\n",
       "                          GMR J  05 35 15.992  -05 22 31.80       7        7           --           --             0        D                                                   1\n",
       "                  [FRM2016] 455 05 35 19.8615 -05 22 42.406       9        9           --           --             0        C              R 2016ApJ...822...93F                1\n",
       "[FW2011] J053514.996-052239.411  05 35 14.996  -05 22 39.41       7        7           --           --             0        C              m 2011ApJ...742...64F                1\n",
       "    [FTC93] 053253.59-052542.02   05 35 21.04   -05 23 49.0       6        6           --           --             0        D                                                   1\n",
       "                 [OW94] 133-329    05 35 13.3     -05 23 29       5        5           --           --             0        D                2004AJ....127.3456D                1\n",
       "                   V* V1399 Ori 05 35 21.0488 -05 23 49.016      14       14        0.044        0.040            90        A              O 2020yCat.1350....0G                1\n",
       "                  [FRM2016] 112 05 35 13.2944 -05 23 29.674       9        9           --           --             0        C              R 2016ApJ...822...93F                1\n",
       "                 DOH 14 210-351    05 35 21.0     -05 23 51       5        5           --           --             0        D                2004AJ....127.3456D                1\n",
       "                   [H97b] 20072   05 35 16.91   -05 22 28.4       6        6      150.000      150.000            90        C              O 2009A&A...502..883R                1\n",
       "                 [OW94] 134-342    05 35 13.4     -05 23 42       5        5           --           --             0        D              O 2003AJ....125..277O                1\n",
       "                    [SCB99] 181  05 35 17.608  -05 22 28.24       7        7           --           --             0        D                1999AJ....117.1375S                1\n",
       "            MMB G208.996-19.386   05 35 14.50   -05 22 45.0       6        6      400.000      400.000            90        C              R 2010MNRAS.404.1029C                1"
      ]
     },
     "execution_count": 3,
     "metadata": {},
     "output_type": "execute_result"
    }
   ],
   "source": [
    "result2 = Simbad.query_region(\"05h35m17.3s -05d23m28s\", radius=1*u.arcmin)\n",
    "result2"
   ]
  },
  {
   "cell_type": "markdown",
   "metadata": {
    "slideshow": {
     "slide_type": "slide"
    }
   },
   "source": [
    "Better:"
   ]
  },
  {
   "cell_type": "code",
   "execution_count": 5,
   "metadata": {
    "slideshow": {
     "slide_type": "-"
    }
   },
   "outputs": [
    {
     "data": {
      "text/html": [
       "<div><i>Table length=5</i>\n",
       "<table id=\"table4368319392\" class=\"table-striped table-bordered table-condensed\">\n",
       "<thead><tr><th>MAIN_ID</th><th>RA</th><th>DEC</th><th>RA_PREC</th><th>DEC_PREC</th><th>COO_ERR_MAJA</th><th>COO_ERR_MINA</th><th>COO_ERR_ANGLE</th><th>COO_QUAL</th><th>COO_WAVELENGTH</th><th>COO_BIBCODE</th><th>SCRIPT_NUMBER_ID</th></tr></thead>\n",
       "<thead><tr><th></th><th>&quot;h:m:s&quot;</th><th>&quot;d:m:s&quot;</th><th></th><th></th><th>mas</th><th>mas</th><th>deg</th><th></th><th></th><th></th><th></th></tr></thead>\n",
       "<thead><tr><th>object</th><th>str13</th><th>str13</th><th>int16</th><th>int16</th><th>float32</th><th>float32</th><th>int16</th><th>str1</th><th>str1</th><th>object</th><th>int32</th></tr></thead>\n",
       "<tr><td>NAME Barnard&apos;s star</td><td>17 57 48.4984</td><td>+04 41 36.113</td><td>14</td><td>14</td><td>0.026</td><td>0.029</td><td>90</td><td>A</td><td>O</td><td>2020yCat.1350....0G</td><td>1</td></tr>\n",
       "<tr><td>GJ   699 b</td><td>17 57 48.4997</td><td>+04 41 36.111</td><td>14</td><td>14</td><td>0.223</td><td>0.304</td><td>90</td><td>A</td><td>O</td><td>2018yCat.1345....0G</td><td>1</td></tr>\n",
       "<tr><td>UCAC4 474-068227</td><td>17 57 49.5702</td><td>+04 42 25.025</td><td>14</td><td>14</td><td>0.014</td><td>0.014</td><td>90</td><td>A</td><td>O</td><td>2020yCat.1350....0G</td><td>1</td></tr>\n",
       "<tr><td>TYC  425-262-1</td><td>17 57 51.9499</td><td>+04 42 20.200</td><td>14</td><td>14</td><td>0.018</td><td>0.018</td><td>90</td><td>A</td><td>O</td><td>2020yCat.1350....0G</td><td>1</td></tr>\n",
       "<tr><td>1RXS J175749.5+043955</td><td>17 57 49.505</td><td>+04 39 55.01</td><td>7</td><td>7</td><td>--</td><td>--</td><td>0</td><td>E</td><td></td><td>2000IAUC.7432R...1V</td><td>1</td></tr>\n",
       "</table></div>"
      ],
      "text/plain": [
       "<Table length=5>\n",
       "       MAIN_ID              RA           DEC      RA_PREC DEC_PREC COO_ERR_MAJA COO_ERR_MINA COO_ERR_ANGLE COO_QUAL COO_WAVELENGTH     COO_BIBCODE     SCRIPT_NUMBER_ID\n",
       "                         \"h:m:s\"       \"d:m:s\"                         mas          mas           deg                                                                  \n",
       "        object            str13         str13      int16   int16     float32      float32        int16       str1        str1             object            int32      \n",
       "--------------------- ------------- ------------- ------- -------- ------------ ------------ ------------- -------- -------------- ------------------- ----------------\n",
       "  NAME Barnard's star 17 57 48.4984 +04 41 36.113      14       14        0.026        0.029            90        A              O 2020yCat.1350....0G                1\n",
       "           GJ   699 b 17 57 48.4997 +04 41 36.111      14       14        0.223        0.304            90        A              O 2018yCat.1345....0G                1\n",
       "     UCAC4 474-068227 17 57 49.5702 +04 42 25.025      14       14        0.014        0.014            90        A              O 2020yCat.1350....0G                1\n",
       "       TYC  425-262-1 17 57 51.9499 +04 42 20.200      14       14        0.018        0.018            90        A              O 2020yCat.1350....0G                1\n",
       "1RXS J175749.5+043955  17 57 49.505  +04 39 55.01       7        7           --           --             0        E                2000IAUC.7432R...1V                1"
      ]
     },
     "execution_count": 5,
     "metadata": {},
     "output_type": "execute_result"
    }
   ],
   "source": [
    "co = coordinates.SkyCoord(l=31.0087, b=14.0627,\n",
    "                          unit=(u.deg, u.deg),\n",
    "                          frame='galactic')\n",
    "result3 = Simbad.query_region(co)\n",
    "result3"
   ]
  },
  {
   "cell_type": "markdown",
   "metadata": {
    "slideshow": {
     "slide_type": "slide"
    }
   },
   "source": [
    "### SIMBAD: Querying named catalogs"
   ]
  },
  {
   "cell_type": "markdown",
   "metadata": {
    "slideshow": {
     "slide_type": "-"
    }
   },
   "source": [
    "There are also other query tools for some services, e.g. SIMBAD has a `query_catalog` feature that allows you to query named catalogs, e.g. the NGC catalog or the ESO catalog:"
   ]
  },
  {
   "cell_type": "code",
   "execution_count": 6,
   "metadata": {
    "slideshow": {
     "slide_type": "slide"
    }
   },
   "outputs": [
    {
     "data": {
      "text/html": [
       "<div><i>Table length=100</i>\n",
       "<table id=\"table4565292752\" class=\"table-striped table-bordered table-condensed\">\n",
       "<thead><tr><th>MAIN_ID</th><th>RA</th><th>DEC</th><th>RA_PREC</th><th>DEC_PREC</th><th>COO_ERR_MAJA</th><th>COO_ERR_MINA</th><th>COO_ERR_ANGLE</th><th>COO_QUAL</th><th>COO_WAVELENGTH</th><th>COO_BIBCODE</th><th>SCRIPT_NUMBER_ID</th></tr></thead>\n",
       "<thead><tr><th></th><th>&quot;h:m:s&quot;</th><th>&quot;d:m:s&quot;</th><th></th><th></th><th>mas</th><th>mas</th><th>deg</th><th></th><th></th><th></th><th></th></tr></thead>\n",
       "<thead><tr><th>object</th><th>str13</th><th>str13</th><th>int16</th><th>int16</th><th>float32</th><th>float32</th><th>int16</th><th>str1</th><th>str1</th><th>object</th><th>int32</th></tr></thead>\n",
       "<tr><td>ESO-HA    1</td><td>08 30 07.4083</td><td>-43 25 46.560</td><td>9</td><td>9</td><td>60.000</td><td>60.000</td><td>90</td><td>C</td><td>N</td><td>2003yCat.2246....0C</td><td>1</td></tr>\n",
       "<tr><td>NGC  2573</td><td>01 41 38.0018</td><td>-89 20 04.272</td><td>14</td><td>14</td><td>0.029</td><td>0.031</td><td>90</td><td>A</td><td>O</td><td>2020yCat.1350....0G</td><td>1</td></tr>\n",
       "<tr><td>ESO   1-2</td><td>05 04 36.8</td><td>-87 34 19</td><td>5</td><td>5</td><td>8000.000</td><td>8000.000</td><td>90</td><td>D</td><td></td><td>1982ESO...C......0L</td><td>1</td></tr>\n",
       "<tr><td>ESO   1-3</td><td>05 22 36.509</td><td>-87 50 50.02</td><td>7</td><td>7</td><td>--</td><td>--</td><td>0</td><td>C</td><td>I</td><td>2006AJ....131.1163S</td><td>1</td></tr>\n",
       "<tr><td>ESO   1-4</td><td>07 49 28.8151</td><td>-87 56 00.294</td><td>14</td><td>14</td><td>1.104</td><td>1.264</td><td>90</td><td>C</td><td>O</td><td>2020yCat.1350....0G</td><td>1</td></tr>\n",
       "<tr><td>ESO   1-5</td><td>08 53 05.006</td><td>-88 05 23.00</td><td>7</td><td>7</td><td>--</td><td>--</td><td>0</td><td>C</td><td>I</td><td>2006AJ....131.1163S</td><td>1</td></tr>\n",
       "<tr><td>ESO   1-6</td><td>14 27 19.4934</td><td>-87 46 19.983</td><td>14</td><td>14</td><td>0.913</td><td>0.905</td><td>90</td><td>C</td><td>O</td><td>2020yCat.1350....0G</td><td>1</td></tr>\n",
       "<tr><td>ESO   1-7</td><td>17 02 45.879</td><td>-88 55 01.94</td><td>7</td><td>7</td><td>--</td><td>--</td><td>0</td><td>C</td><td>I</td><td>2006AJ....131.1163S</td><td>1</td></tr>\n",
       "<tr><td>ESO   1-8</td><td>23 07 33.618</td><td>-89 06 59.07</td><td>7</td><td>7</td><td>--</td><td>--</td><td>0</td><td>C</td><td>I</td><td>2006AJ....131.1163S</td><td>1</td></tr>\n",
       "<tr><td>ESO   1-9</td><td>23 12 28.1037</td><td>-89 07 34.427</td><td>14</td><td>14</td><td>0.057</td><td>0.052</td><td>90</td><td>A</td><td>O</td><td>2020yCat.1350....0G</td><td>1</td></tr>\n",
       "<tr><td>NGC  2573</td><td>01 41 38.0018</td><td>-89 20 04.272</td><td>14</td><td>14</td><td>0.029</td><td>0.031</td><td>90</td><td>A</td><td>O</td><td>2020yCat.1350....0G</td><td>1</td></tr>\n",
       "<tr><td>ESO   1-2</td><td>05 04 36.8</td><td>-87 34 19</td><td>5</td><td>5</td><td>8000.000</td><td>8000.000</td><td>90</td><td>D</td><td></td><td>1982ESO...C......0L</td><td>1</td></tr>\n",
       "<tr><td>ESO   1-3</td><td>05 22 36.509</td><td>-87 50 50.02</td><td>7</td><td>7</td><td>--</td><td>--</td><td>0</td><td>C</td><td>I</td><td>2006AJ....131.1163S</td><td>1</td></tr>\n",
       "<tr><td>ESO   1-4</td><td>07 49 28.8151</td><td>-87 56 00.294</td><td>14</td><td>14</td><td>1.104</td><td>1.264</td><td>90</td><td>C</td><td>O</td><td>2020yCat.1350....0G</td><td>1</td></tr>\n",
       "<tr><td>...</td><td>...</td><td>...</td><td>...</td><td>...</td><td>...</td><td>...</td><td>...</td><td>...</td><td>...</td><td>...</td><td>...</td></tr>\n",
       "<tr><td>ESO   4-21</td><td>05 40 32.6951</td><td>-84 19 57.671</td><td>14</td><td>14</td><td>4.639</td><td>5.126</td><td>90</td><td>C</td><td>O</td><td>2020yCat.1350....0G</td><td>1</td></tr>\n",
       "<tr><td>ESO   4-22</td><td>05 45 30.4</td><td>-83 12 35</td><td>5</td><td>5</td><td>8000.000</td><td>8000.000</td><td>90</td><td>D</td><td></td><td>1982ESO...C......0L</td><td>1</td></tr>\n",
       "<tr><td>ESO   4-23</td><td>05 51 58.8452</td><td>-83 17 49.977</td><td>14</td><td>14</td><td>15.979</td><td>28.957</td><td>90</td><td>C</td><td>O</td><td>2020yCat.1350....0G</td><td>1</td></tr>\n",
       "<tr><td>ESO   4-1</td><td>03 29 35.1057</td><td>-83 40 41.855</td><td>14</td><td>14</td><td>3.564</td><td>3.421</td><td>90</td><td>C</td><td>O</td><td>2020yCat.1350....0G</td><td>1</td></tr>\n",
       "<tr><td>ESO   4-2</td><td>03 34 58.098</td><td>-82 57 05.04</td><td>7</td><td>7</td><td>--</td><td>--</td><td>0</td><td>C</td><td>I</td><td>2006AJ....131.1163S</td><td>1</td></tr>\n",
       "<tr><td>ESO   4-3</td><td>03 29 49.8</td><td>-87 09 41</td><td>5</td><td>5</td><td>8000.000</td><td>8000.000</td><td>90</td><td>D</td><td></td><td>1982ESO...C......0L</td><td>1</td></tr>\n",
       "<tr><td>ESO   4-4</td><td>03 42 06.1</td><td>-83 53 01</td><td>5</td><td>5</td><td>8000.000</td><td>8000.000</td><td>90</td><td>D</td><td></td><td>1982ESO...C......0L</td><td>1</td></tr>\n",
       "<tr><td>ESO   4-5</td><td>03 44 15.9792</td><td>-83 09 11.733</td><td>14</td><td>14</td><td>15.880</td><td>18.816</td><td>90</td><td>C</td><td>O</td><td>2020yCat.1350....0G</td><td>1</td></tr>\n",
       "<tr><td>ESO   4-6</td><td>03 49 36.9</td><td>-83 57 41</td><td>5</td><td>5</td><td>8000.000</td><td>8000.000</td><td>90</td><td>D</td><td></td><td>1982ESO...C......0L</td><td>1</td></tr>\n",
       "<tr><td>IC 2051</td><td>03 52 00.7563</td><td>-83 49 50.582</td><td>14</td><td>14</td><td>0.295</td><td>0.284</td><td>90</td><td>A</td><td>O</td><td>2020yCat.1350....0G</td><td>1</td></tr>\n",
       "<tr><td>ESO   4-8</td><td>03 58 49.2115</td><td>-82 30 56.680</td><td>14</td><td>14</td><td>1.629</td><td>1.557</td><td>90</td><td>C</td><td>O</td><td>2020yCat.1350....0G</td><td>1</td></tr>\n",
       "<tr><td>ESO   4-9</td><td>03 57 53.5</td><td>-84 21 50</td><td>5</td><td>5</td><td>8000.000</td><td>8000.000</td><td>90</td><td>D</td><td></td><td>1982ESO...C......0L</td><td>1</td></tr>\n",
       "<tr><td>ESO   4-10</td><td>03 59 49.2005</td><td>-84 05 37.853</td><td>14</td><td>14</td><td>0.442</td><td>0.474</td><td>90</td><td>A</td><td>O</td><td>2020yCat.1350....0G</td><td>1</td></tr>\n",
       "<tr><td>ESO   4-11</td><td>04 00 36.9151</td><td>-84 22 00.258</td><td>14</td><td>14</td><td>33.387</td><td>8.693</td><td>90</td><td>C</td><td>O</td><td>2020yCat.1350....0G</td><td>1</td></tr>\n",
       "<tr><td>ESO   4-12</td><td>04 22 19.5093</td><td>-85 22 38.742</td><td>14</td><td>14</td><td>1.881</td><td>1.872</td><td>90</td><td>C</td><td>O</td><td>2020yCat.1350....0G</td><td>1</td></tr>\n",
       "</table></div>"
      ],
      "text/plain": [
       "<Table length=100>\n",
       "  MAIN_ID         RA           DEC      RA_PREC DEC_PREC COO_ERR_MAJA COO_ERR_MINA COO_ERR_ANGLE COO_QUAL COO_WAVELENGTH     COO_BIBCODE     SCRIPT_NUMBER_ID\n",
       "               \"h:m:s\"       \"d:m:s\"                         mas          mas           deg                                                                  \n",
       "   object       str13         str13      int16   int16     float32      float32        int16       str1        str1             object            int32      \n",
       "----------- ------------- ------------- ------- -------- ------------ ------------ ------------- -------- -------------- ------------------- ----------------\n",
       "ESO-HA    1 08 30 07.4083 -43 25 46.560       9        9       60.000       60.000            90        C              N 2003yCat.2246....0C                1\n",
       "  NGC  2573 01 41 38.0018 -89 20 04.272      14       14        0.029        0.031            90        A              O 2020yCat.1350....0G                1\n",
       "  ESO   1-2    05 04 36.8     -87 34 19       5        5     8000.000     8000.000            90        D                1982ESO...C......0L                1\n",
       "  ESO   1-3  05 22 36.509  -87 50 50.02       7        7           --           --             0        C              I 2006AJ....131.1163S                1\n",
       "  ESO   1-4 07 49 28.8151 -87 56 00.294      14       14        1.104        1.264            90        C              O 2020yCat.1350....0G                1\n",
       "  ESO   1-5  08 53 05.006  -88 05 23.00       7        7           --           --             0        C              I 2006AJ....131.1163S                1\n",
       "  ESO   1-6 14 27 19.4934 -87 46 19.983      14       14        0.913        0.905            90        C              O 2020yCat.1350....0G                1\n",
       "  ESO   1-7  17 02 45.879  -88 55 01.94       7        7           --           --             0        C              I 2006AJ....131.1163S                1\n",
       "  ESO   1-8  23 07 33.618  -89 06 59.07       7        7           --           --             0        C              I 2006AJ....131.1163S                1\n",
       "  ESO   1-9 23 12 28.1037 -89 07 34.427      14       14        0.057        0.052            90        A              O 2020yCat.1350....0G                1\n",
       "  NGC  2573 01 41 38.0018 -89 20 04.272      14       14        0.029        0.031            90        A              O 2020yCat.1350....0G                1\n",
       "  ESO   1-2    05 04 36.8     -87 34 19       5        5     8000.000     8000.000            90        D                1982ESO...C......0L                1\n",
       "  ESO   1-3  05 22 36.509  -87 50 50.02       7        7           --           --             0        C              I 2006AJ....131.1163S                1\n",
       "  ESO   1-4 07 49 28.8151 -87 56 00.294      14       14        1.104        1.264            90        C              O 2020yCat.1350....0G                1\n",
       "        ...           ...           ...     ...      ...          ...          ...           ...      ...            ...                 ...              ...\n",
       " ESO   4-21 05 40 32.6951 -84 19 57.671      14       14        4.639        5.126            90        C              O 2020yCat.1350....0G                1\n",
       " ESO   4-22    05 45 30.4     -83 12 35       5        5     8000.000     8000.000            90        D                1982ESO...C......0L                1\n",
       " ESO   4-23 05 51 58.8452 -83 17 49.977      14       14       15.979       28.957            90        C              O 2020yCat.1350....0G                1\n",
       "  ESO   4-1 03 29 35.1057 -83 40 41.855      14       14        3.564        3.421            90        C              O 2020yCat.1350....0G                1\n",
       "  ESO   4-2  03 34 58.098  -82 57 05.04       7        7           --           --             0        C              I 2006AJ....131.1163S                1\n",
       "  ESO   4-3    03 29 49.8     -87 09 41       5        5     8000.000     8000.000            90        D                1982ESO...C......0L                1\n",
       "  ESO   4-4    03 42 06.1     -83 53 01       5        5     8000.000     8000.000            90        D                1982ESO...C......0L                1\n",
       "  ESO   4-5 03 44 15.9792 -83 09 11.733      14       14       15.880       18.816            90        C              O 2020yCat.1350....0G                1\n",
       "  ESO   4-6    03 49 36.9     -83 57 41       5        5     8000.000     8000.000            90        D                1982ESO...C......0L                1\n",
       "    IC 2051 03 52 00.7563 -83 49 50.582      14       14        0.295        0.284            90        A              O 2020yCat.1350....0G                1\n",
       "  ESO   4-8 03 58 49.2115 -82 30 56.680      14       14        1.629        1.557            90        C              O 2020yCat.1350....0G                1\n",
       "  ESO   4-9    03 57 53.5     -84 21 50       5        5     8000.000     8000.000            90        D                1982ESO...C......0L                1\n",
       " ESO   4-10 03 59 49.2005 -84 05 37.853      14       14        0.442        0.474            90        A              O 2020yCat.1350....0G                1\n",
       " ESO   4-11 04 00 36.9151 -84 22 00.258      14       14       33.387        8.693            90        C              O 2020yCat.1350....0G                1\n",
       " ESO   4-12 04 22 19.5093 -85 22 38.742      14       14        1.881        1.872            90        C              O 2020yCat.1350....0G                1"
      ]
     },
     "execution_count": 6,
     "metadata": {},
     "output_type": "execute_result"
    }
   ],
   "source": [
    "Simbad.ROW_LIMIT = 100\n",
    "esocat = Simbad.query_catalog('eso')\n",
    "esocat"
   ]
  },
  {
   "cell_type": "code",
   "execution_count": 7,
   "metadata": {
    "slideshow": {
     "slide_type": "slide"
    }
   },
   "outputs": [
    {
     "data": {
      "text/html": [
       "<div><i>Table length=100</i>\n",
       "<table id=\"table4427872768\" class=\"table-striped table-bordered table-condensed\">\n",
       "<thead><tr><th>MAIN_ID</th><th>RA</th><th>DEC</th><th>RA_PREC</th><th>DEC_PREC</th><th>COO_ERR_MAJA</th><th>COO_ERR_MINA</th><th>COO_ERR_ANGLE</th><th>COO_QUAL</th><th>COO_WAVELENGTH</th><th>COO_BIBCODE</th><th>SCRIPT_NUMBER_ID</th></tr></thead>\n",
       "<thead><tr><th></th><th>&quot;h:m:s&quot;</th><th>&quot;d:m:s&quot;</th><th></th><th></th><th>mas</th><th>mas</th><th>deg</th><th></th><th></th><th></th><th></th></tr></thead>\n",
       "<thead><tr><th>object</th><th>str13</th><th>str13</th><th>int16</th><th>int16</th><th>float32</th><th>float32</th><th>int16</th><th>str1</th><th>str1</th><th>object</th><th>int32</th></tr></thead>\n",
       "<tr><td>NGC     1</td><td>00 07 15.8562</td><td>+27 42 29.020</td><td>14</td><td>14</td><td>0.794</td><td>0.665</td><td>90</td><td>C</td><td>O</td><td>2020yCat.1350....0G</td><td>1</td></tr>\n",
       "<tr><td>NGC     2</td><td>00 07 17.1156</td><td>+27 40 42.034</td><td>14</td><td>14</td><td>1.137</td><td>0.937</td><td>90</td><td>C</td><td>O</td><td>2020yCat.1350....0G</td><td>1</td></tr>\n",
       "<tr><td>NGC     3</td><td>00 07 16.7979</td><td>+08 18 05.976</td><td>14</td><td>14</td><td>4.609</td><td>3.472</td><td>90</td><td>C</td><td>O</td><td>2020yCat.1350....0G</td><td>1</td></tr>\n",
       "<tr><td>NGC     4</td><td>00 07 24.4</td><td>+08 22 30</td><td>5</td><td>5</td><td>--</td><td>--</td><td>0</td><td>D</td><td>O</td><td>2003A&amp;A...412...45P</td><td>1</td></tr>\n",
       "<tr><td>NGC     5</td><td>00 07 48.8659</td><td>+35 21 44.143</td><td>14</td><td>14</td><td>1.530</td><td>1.143</td><td>90</td><td>C</td><td>O</td><td>2020yCat.1350....0G</td><td>1</td></tr>\n",
       "<tr><td>NGC     7</td><td>00 08 20.3</td><td>-29 55 01</td><td>5</td><td>5</td><td>--</td><td>--</td><td>0</td><td>D</td><td>O</td><td>2003A&amp;A...412...45P</td><td>1</td></tr>\n",
       "<tr><td>NGC     8</td><td>00 08 45.3</td><td>+23 50 19</td><td>5</td><td>5</td><td>--</td><td>--</td><td>0</td><td>D</td><td>O</td><td>2003A&amp;A...412...45P</td><td>1</td></tr>\n",
       "<tr><td>NGC     9</td><td>00 08 54.6826</td><td>+23 49 00.823</td><td>14</td><td>14</td><td>39.031</td><td>23.534</td><td>90</td><td>C</td><td>O</td><td>2020yCat.1350....0G</td><td>1</td></tr>\n",
       "<tr><td>NGC    10</td><td>00 08 34.5389</td><td>-33 51 30.197</td><td>14</td><td>14</td><td>1.532</td><td>1.546</td><td>90</td><td>C</td><td>O</td><td>2020yCat.1350....0G</td><td>1</td></tr>\n",
       "<tr><td>NGC    11</td><td>00 08 42.494</td><td>+37 26 52.39</td><td>7</td><td>7</td><td>--</td><td>--</td><td>0</td><td>C</td><td>I</td><td>2006AJ....131.1163S</td><td>1</td></tr>\n",
       "<tr><td>NGC    12</td><td>00 08 44.7412</td><td>+04 36 45.267</td><td>14</td><td>14</td><td>6.006</td><td>3.595</td><td>90</td><td>C</td><td>O</td><td>2020yCat.1350....0G</td><td>1</td></tr>\n",
       "<tr><td>NGC    13</td><td>00 08 47.7150</td><td>+33 25 59.974</td><td>14</td><td>14</td><td>0.512</td><td>0.411</td><td>90</td><td>A</td><td>O</td><td>2020yCat.1350....0G</td><td>1</td></tr>\n",
       "<tr><td>NGC    14</td><td>00 08 46.4261</td><td>+15 48 56.516</td><td>14</td><td>14</td><td>0.229</td><td>0.197</td><td>90</td><td>A</td><td>O</td><td>2020yCat.1350....0G</td><td>1</td></tr>\n",
       "<tr><td>NGC    15</td><td>00 09 02.4789</td><td>+21 37 28.465</td><td>14</td><td>14</td><td>1.423</td><td>1.069</td><td>90</td><td>C</td><td>O</td><td>2020yCat.1350....0G</td><td>1</td></tr>\n",
       "<tr><td>...</td><td>...</td><td>...</td><td>...</td><td>...</td><td>...</td><td>...</td><td>...</td><td>...</td><td>...</td><td>...</td><td>...</td></tr>\n",
       "<tr><td>NGC    85</td><td>00 21 25.5485</td><td>+22 30 42.255</td><td>14</td><td>14</td><td>1.022</td><td>0.768</td><td>90</td><td>C</td><td>O</td><td>2020yCat.1350....0G</td><td>1</td></tr>\n",
       "<tr><td>IC 1546</td><td>00 21 29.0228</td><td>+22 30 21.097</td><td>14</td><td>14</td><td>1.902</td><td>1.067</td><td>90</td><td>C</td><td>O</td><td>2020yCat.1350....0G</td><td>1</td></tr>\n",
       "<tr><td>NGC    86</td><td>00 21 28.5467</td><td>+22 33 23.228</td><td>14</td><td>14</td><td>0.961</td><td>0.848</td><td>90</td><td>C</td><td>O</td><td>2020yCat.1350....0G</td><td>1</td></tr>\n",
       "<tr><td>NGC    87</td><td>00 21 14.062</td><td>-48 37 48.28</td><td>7</td><td>7</td><td>--</td><td>--</td><td>0</td><td>C</td><td>I</td><td>2006AJ....131.1163S</td><td>1</td></tr>\n",
       "<tr><td>NGC    88</td><td>00 21 22.0352</td><td>-48 38 24.141</td><td>14</td><td>14</td><td>9.315</td><td>13.188</td><td>90</td><td>C</td><td>O</td><td>2020yCat.1350....0G</td><td>1</td></tr>\n",
       "<tr><td>NGC    89</td><td>00 21 24.355</td><td>-48 39 55.28</td><td>7</td><td>7</td><td>--</td><td>--</td><td>0</td><td>C</td><td>I</td><td>2006AJ....131.1163S</td><td>1</td></tr>\n",
       "<tr><td>NGC    90</td><td>00 21 51.3799</td><td>+22 23 59.851</td><td>14</td><td>14</td><td>1.755</td><td>1.195</td><td>90</td><td>C</td><td>O</td><td>2020yCat.1350....0G</td><td>1</td></tr>\n",
       "<tr><td>UCAC2  39602310</td><td>00 21 51.6262</td><td>+22 22 05.619</td><td>14</td><td>14</td><td>0.019</td><td>0.017</td><td>90</td><td>A</td><td>O</td><td>2020yCat.1350....0G</td><td>1</td></tr>\n",
       "<tr><td>NGC    92</td><td>00 21 31.713</td><td>-48 37 29.23</td><td>7</td><td>7</td><td>--</td><td>--</td><td>0</td><td>C</td><td>I</td><td>2006AJ....131.1163S</td><td>1</td></tr>\n",
       "<tr><td>NGC    93</td><td>00 22 03.2268</td><td>+22 24 29.199</td><td>14</td><td>14</td><td>1.090</td><td>0.994</td><td>90</td><td>C</td><td>O</td><td>2020yCat.1350....0G</td><td>1</td></tr>\n",
       "<tr><td>NGC    94</td><td>00 22 13.5334</td><td>+22 28 58.853</td><td>14</td><td>14</td><td>0.661</td><td>0.544</td><td>90</td><td>C</td><td>O</td><td>2020yCat.1350....0G</td><td>1</td></tr>\n",
       "<tr><td>NGC    95</td><td>00 22 13.5409</td><td>+10 29 29.706</td><td>14</td><td>14</td><td>0.304</td><td>0.231</td><td>90</td><td>A</td><td>O</td><td>2020yCat.1350....0G</td><td>1</td></tr>\n",
       "<tr><td>NGC    96</td><td>00 22 17.7202</td><td>+22 32 46.713</td><td>14</td><td>14</td><td>0.899</td><td>0.528</td><td>90</td><td>C</td><td>O</td><td>2020yCat.1350....0G</td><td>1</td></tr>\n",
       "<tr><td>NGC    97</td><td>00 22 30.0200</td><td>+29 44 43.139</td><td>14</td><td>14</td><td>1.345</td><td>0.662</td><td>90</td><td>C</td><td>O</td><td>2020yCat.1350....0G</td><td>1</td></tr>\n",
       "<tr><td>NGC    98</td><td>00 22 49.5591</td><td>-45 16 08.606</td><td>14</td><td>14</td><td>0.512</td><td>0.561</td><td>90</td><td>C</td><td>O</td><td>2020yCat.1350....0G</td><td>1</td></tr>\n",
       "</table></div>"
      ],
      "text/plain": [
       "<Table length=100>\n",
       "    MAIN_ID           RA           DEC      RA_PREC DEC_PREC COO_ERR_MAJA COO_ERR_MINA COO_ERR_ANGLE COO_QUAL COO_WAVELENGTH     COO_BIBCODE     SCRIPT_NUMBER_ID\n",
       "                   \"h:m:s\"       \"d:m:s\"                         mas          mas           deg                                                                  \n",
       "     object         str13         str13      int16   int16     float32      float32        int16       str1        str1             object            int32      \n",
       "--------------- ------------- ------------- ------- -------- ------------ ------------ ------------- -------- -------------- ------------------- ----------------\n",
       "      NGC     1 00 07 15.8562 +27 42 29.020      14       14        0.794        0.665            90        C              O 2020yCat.1350....0G                1\n",
       "      NGC     2 00 07 17.1156 +27 40 42.034      14       14        1.137        0.937            90        C              O 2020yCat.1350....0G                1\n",
       "      NGC     3 00 07 16.7979 +08 18 05.976      14       14        4.609        3.472            90        C              O 2020yCat.1350....0G                1\n",
       "      NGC     4    00 07 24.4     +08 22 30       5        5           --           --             0        D              O 2003A&A...412...45P                1\n",
       "      NGC     5 00 07 48.8659 +35 21 44.143      14       14        1.530        1.143            90        C              O 2020yCat.1350....0G                1\n",
       "      NGC     7    00 08 20.3     -29 55 01       5        5           --           --             0        D              O 2003A&A...412...45P                1\n",
       "      NGC     8    00 08 45.3     +23 50 19       5        5           --           --             0        D              O 2003A&A...412...45P                1\n",
       "      NGC     9 00 08 54.6826 +23 49 00.823      14       14       39.031       23.534            90        C              O 2020yCat.1350....0G                1\n",
       "      NGC    10 00 08 34.5389 -33 51 30.197      14       14        1.532        1.546            90        C              O 2020yCat.1350....0G                1\n",
       "      NGC    11  00 08 42.494  +37 26 52.39       7        7           --           --             0        C              I 2006AJ....131.1163S                1\n",
       "      NGC    12 00 08 44.7412 +04 36 45.267      14       14        6.006        3.595            90        C              O 2020yCat.1350....0G                1\n",
       "      NGC    13 00 08 47.7150 +33 25 59.974      14       14        0.512        0.411            90        A              O 2020yCat.1350....0G                1\n",
       "      NGC    14 00 08 46.4261 +15 48 56.516      14       14        0.229        0.197            90        A              O 2020yCat.1350....0G                1\n",
       "      NGC    15 00 09 02.4789 +21 37 28.465      14       14        1.423        1.069            90        C              O 2020yCat.1350....0G                1\n",
       "            ...           ...           ...     ...      ...          ...          ...           ...      ...            ...                 ...              ...\n",
       "      NGC    85 00 21 25.5485 +22 30 42.255      14       14        1.022        0.768            90        C              O 2020yCat.1350....0G                1\n",
       "        IC 1546 00 21 29.0228 +22 30 21.097      14       14        1.902        1.067            90        C              O 2020yCat.1350....0G                1\n",
       "      NGC    86 00 21 28.5467 +22 33 23.228      14       14        0.961        0.848            90        C              O 2020yCat.1350....0G                1\n",
       "      NGC    87  00 21 14.062  -48 37 48.28       7        7           --           --             0        C              I 2006AJ....131.1163S                1\n",
       "      NGC    88 00 21 22.0352 -48 38 24.141      14       14        9.315       13.188            90        C              O 2020yCat.1350....0G                1\n",
       "      NGC    89  00 21 24.355  -48 39 55.28       7        7           --           --             0        C              I 2006AJ....131.1163S                1\n",
       "      NGC    90 00 21 51.3799 +22 23 59.851      14       14        1.755        1.195            90        C              O 2020yCat.1350....0G                1\n",
       "UCAC2  39602310 00 21 51.6262 +22 22 05.619      14       14        0.019        0.017            90        A              O 2020yCat.1350....0G                1\n",
       "      NGC    92  00 21 31.713  -48 37 29.23       7        7           --           --             0        C              I 2006AJ....131.1163S                1\n",
       "      NGC    93 00 22 03.2268 +22 24 29.199      14       14        1.090        0.994            90        C              O 2020yCat.1350....0G                1\n",
       "      NGC    94 00 22 13.5334 +22 28 58.853      14       14        0.661        0.544            90        C              O 2020yCat.1350....0G                1\n",
       "      NGC    95 00 22 13.5409 +10 29 29.706      14       14        0.304        0.231            90        A              O 2020yCat.1350....0G                1\n",
       "      NGC    96 00 22 17.7202 +22 32 46.713      14       14        0.899        0.528            90        C              O 2020yCat.1350....0G                1\n",
       "      NGC    97 00 22 30.0200 +29 44 43.139      14       14        1.345        0.662            90        C              O 2020yCat.1350....0G                1\n",
       "      NGC    98 00 22 49.5591 -45 16 08.606      14       14        0.512        0.561            90        C              O 2020yCat.1350....0G                1"
      ]
     },
     "execution_count": 7,
     "metadata": {},
     "output_type": "execute_result"
    }
   ],
   "source": [
    "ngccat = Simbad.query_catalog('ngc')\n",
    "ngccat"
   ]
  },
  {
   "cell_type": "markdown",
   "metadata": {
    "slideshow": {
     "slide_type": "slide"
    }
   },
   "source": [
    "### Querying sources from publications\n",
    "\n",
    "In SIMBAD, you can also query a publication to find the sources"
   ]
  },
  {
   "cell_type": "code",
   "execution_count": 8,
   "metadata": {},
   "outputs": [
    {
     "data": {
      "text/html": [
       "<div><i>Table length=14</i>\n",
       "<table id=\"table4385643392\" class=\"table-striped table-bordered table-condensed\">\n",
       "<thead><tr><th>MAIN_ID</th><th>RA</th><th>DEC</th><th>RA_PREC</th><th>DEC_PREC</th><th>COO_ERR_MAJA</th><th>COO_ERR_MINA</th><th>COO_ERR_ANGLE</th><th>COO_QUAL</th><th>COO_WAVELENGTH</th><th>COO_BIBCODE</th><th>SCRIPT_NUMBER_ID</th></tr></thead>\n",
       "<thead><tr><th></th><th>&quot;h:m:s&quot;</th><th>&quot;d:m:s&quot;</th><th></th><th></th><th>mas</th><th>mas</th><th>deg</th><th></th><th></th><th></th><th></th></tr></thead>\n",
       "<thead><tr><th>object</th><th>str13</th><th>str13</th><th>int16</th><th>int16</th><th>float32</th><th>float32</th><th>int16</th><th>str1</th><th>str1</th><th>object</th><th>int32</th></tr></thead>\n",
       "<tr><td>M  31</td><td>00 42 44.330</td><td>+41 16 07.50</td><td>7</td><td>7</td><td>--</td><td>--</td><td>0</td><td>C</td><td>I</td><td>2006AJ....131.1163S</td><td>1</td></tr>\n",
       "<tr><td>[NYR2002] S167-54-21.5</td><td>02 28</td><td>+00.0</td><td>2</td><td>2</td><td>--</td><td>--</td><td>0</td><td>E</td><td></td><td></td><td>1</td></tr>\n",
       "<tr><td>[NYR2002] S200-24-19.8</td><td>05 03</td><td>+00.0</td><td>2</td><td>2</td><td>--</td><td>--</td><td>0</td><td>E</td><td></td><td></td><td>1</td></tr>\n",
       "<tr><td>[NYR2002] S183+22-19.4</td><td>07 26</td><td>+36.0</td><td>2</td><td>2</td><td>--</td><td>--</td><td>0</td><td>E</td><td></td><td></td><td>1</td></tr>\n",
       "<tr><td>[NYR2002] S218+22-19.5</td><td>08 19</td><td>+06.0</td><td>2</td><td>2</td><td>--</td><td>--</td><td>0</td><td>E</td><td></td><td></td><td>1</td></tr>\n",
       "<tr><td>[NYR2002] S223+20-19.4</td><td>08 21</td><td>+01.0</td><td>2</td><td>2</td><td>--</td><td>--</td><td>0</td><td>E</td><td></td><td></td><td>1</td></tr>\n",
       "<tr><td>[NYR2002] S297+63-20.5</td><td>12 41</td><td>+00.0</td><td>2</td><td>2</td><td>--</td><td>--</td><td>0</td><td>E</td><td></td><td></td><td>1</td></tr>\n",
       "<tr><td>[NYR2002] S006+41-20.0</td><td>14 01</td><td>+08.0</td><td>2</td><td>2</td><td>--</td><td>--</td><td>0</td><td>E</td><td></td><td></td><td>1</td></tr>\n",
       "<tr><td>[NYR2002] S341+57-22.5</td><td>14 10</td><td>+00.0</td><td>2</td><td>2</td><td>--</td><td>--</td><td>0</td><td>E</td><td></td><td></td><td>1</td></tr>\n",
       "<tr><td>NAME Serpens Dwarf</td><td>15 16 05.30</td><td>-00 06 41.0</td><td>6</td><td>6</td><td>--</td><td>--</td><td>0</td><td>D</td><td></td><td>2006MNRAS.365.1357D</td><td>1</td></tr>\n",
       "<tr><td>NAME Galactic Center</td><td>17 45 39.6021</td><td>-29 00 22.000</td><td>9</td><td>9</td><td>--</td><td>--</td><td>0</td><td>E</td><td>G</td><td>2018A&amp;A...612A...1H</td><td>1</td></tr>\n",
       "<tr><td>NAME SDG</td><td>18 55 03.1</td><td>-30 28 42</td><td>5</td><td>5</td><td>--</td><td>--</td><td>0</td><td>D</td><td></td><td>2004AJ....127.2031K</td><td>1</td></tr>\n",
       "<tr><td>[NYR2002] S052-32-20.4</td><td>21 18</td><td>+00.0</td><td>2</td><td>2</td><td>--</td><td>--</td><td>0</td><td>E</td><td></td><td></td><td>1</td></tr>\n",
       "<tr><td>NAME Galactic Bulge</td><td></td><td></td><td>0</td><td>0</td><td>--</td><td>--</td><td>0</td><td></td><td></td><td></td><td>1</td></tr>\n",
       "</table></div>"
      ],
      "text/plain": [
       "<Table length=14>\n",
       "       MAIN_ID               RA           DEC      RA_PREC DEC_PREC COO_ERR_MAJA COO_ERR_MINA COO_ERR_ANGLE COO_QUAL COO_WAVELENGTH     COO_BIBCODE     SCRIPT_NUMBER_ID\n",
       "                          \"h:m:s\"       \"d:m:s\"                         mas          mas           deg                                                                  \n",
       "        object             str13         str13      int16   int16     float32      float32        int16       str1        str1             object            int32      \n",
       "---------------------- ------------- ------------- ------- -------- ------------ ------------ ------------- -------- -------------- ------------------- ----------------\n",
       "                 M  31  00 42 44.330  +41 16 07.50       7        7           --           --             0        C              I 2006AJ....131.1163S                1\n",
       "[NYR2002] S167-54-21.5         02 28         +00.0       2        2           --           --             0        E                                                   1\n",
       "[NYR2002] S200-24-19.8         05 03         +00.0       2        2           --           --             0        E                                                   1\n",
       "[NYR2002] S183+22-19.4         07 26         +36.0       2        2           --           --             0        E                                                   1\n",
       "[NYR2002] S218+22-19.5         08 19         +06.0       2        2           --           --             0        E                                                   1\n",
       "[NYR2002] S223+20-19.4         08 21         +01.0       2        2           --           --             0        E                                                   1\n",
       "[NYR2002] S297+63-20.5         12 41         +00.0       2        2           --           --             0        E                                                   1\n",
       "[NYR2002] S006+41-20.0         14 01         +08.0       2        2           --           --             0        E                                                   1\n",
       "[NYR2002] S341+57-22.5         14 10         +00.0       2        2           --           --             0        E                                                   1\n",
       "    NAME Serpens Dwarf   15 16 05.30   -00 06 41.0       6        6           --           --             0        D                2006MNRAS.365.1357D                1\n",
       "  NAME Galactic Center 17 45 39.6021 -29 00 22.000       9        9           --           --             0        E              G 2018A&A...612A...1H                1\n",
       "              NAME SDG    18 55 03.1     -30 28 42       5        5           --           --             0        D                2004AJ....127.2031K                1\n",
       "[NYR2002] S052-32-20.4         21 18         +00.0       2        2           --           --             0        E                                                   1\n",
       "   NAME Galactic Bulge                                   0        0           --           --             0                                                            1"
      ]
     },
     "execution_count": 8,
     "metadata": {},
     "output_type": "execute_result"
    }
   ],
   "source": [
    "newberg2002 = Simbad.query_bibobj('2002ApJ...569..245N')\n",
    "newberg2002"
   ]
  },
  {
   "cell_type": "markdown",
   "metadata": {
    "slideshow": {
     "slide_type": "slide"
    }
   },
   "source": [
    "Finally, you can modify the default parameters of the query tool, such as the `TIMEOUT` (the maximum wait time before deciding the query has failed) and the `ROW_LIMIT` (the maximum number of entries returned) by creating a new object.  You can also tell SIMBAD to return additional information, e.g. the number of citations for each object."
   ]
  },
  {
   "cell_type": "code",
   "execution_count": 9,
   "metadata": {
    "slideshow": {
     "slide_type": "-"
    }
   },
   "outputs": [
    {
     "data": {
      "text/html": [
       "<div><i>Table length=14</i>\n",
       "<table id=\"table4565073056\" class=\"table-striped table-bordered table-condensed\">\n",
       "<thead><tr><th>MAIN_ID</th><th>RA</th><th>DEC</th><th>RA_PREC</th><th>DEC_PREC</th><th>COO_ERR_MAJA</th><th>COO_ERR_MINA</th><th>COO_ERR_ANGLE</th><th>COO_QUAL</th><th>COO_WAVELENGTH</th><th>COO_BIBCODE</th><th>BIBLIST_1800_2014</th><th>SCRIPT_NUMBER_ID</th></tr></thead>\n",
       "<thead><tr><th></th><th>&quot;h:m:s&quot;</th><th>&quot;d:m:s&quot;</th><th></th><th></th><th>mas</th><th>mas</th><th>deg</th><th></th><th></th><th></th><th></th><th></th></tr></thead>\n",
       "<thead><tr><th>object</th><th>str13</th><th>str13</th><th>int16</th><th>int16</th><th>float32</th><th>float32</th><th>int16</th><th>str1</th><th>str1</th><th>object</th><th>int32</th><th>int32</th></tr></thead>\n",
       "<tr><td>M  31</td><td>00 42 44.330</td><td>+41 16 07.50</td><td>7</td><td>7</td><td>--</td><td>--</td><td>0</td><td>C</td><td>I</td><td>2006AJ....131.1163S</td><td>8391</td><td>1</td></tr>\n",
       "<tr><td>[NYR2002] S167-54-21.5</td><td>02 28</td><td>+00.0</td><td>2</td><td>2</td><td>--</td><td>--</td><td>0</td><td>E</td><td></td><td></td><td>8</td><td>1</td></tr>\n",
       "<tr><td>[NYR2002] S200-24-19.8</td><td>05 03</td><td>+00.0</td><td>2</td><td>2</td><td>--</td><td>--</td><td>0</td><td>E</td><td></td><td></td><td>4</td><td>1</td></tr>\n",
       "<tr><td>[NYR2002] S183+22-19.4</td><td>07 26</td><td>+36.0</td><td>2</td><td>2</td><td>--</td><td>--</td><td>0</td><td>E</td><td></td><td></td><td>3</td><td>1</td></tr>\n",
       "<tr><td>[NYR2002] S218+22-19.5</td><td>08 19</td><td>+06.0</td><td>2</td><td>2</td><td>--</td><td>--</td><td>0</td><td>E</td><td></td><td></td><td>3</td><td>1</td></tr>\n",
       "<tr><td>[NYR2002] S223+20-19.4</td><td>08 21</td><td>+01.0</td><td>2</td><td>2</td><td>--</td><td>--</td><td>0</td><td>E</td><td></td><td></td><td>6</td><td>1</td></tr>\n",
       "<tr><td>[NYR2002] S297+63-20.5</td><td>12 41</td><td>+00.0</td><td>2</td><td>2</td><td>--</td><td>--</td><td>0</td><td>E</td><td></td><td></td><td>14</td><td>1</td></tr>\n",
       "<tr><td>[NYR2002] S006+41-20.0</td><td>14 01</td><td>+08.0</td><td>2</td><td>2</td><td>--</td><td>--</td><td>0</td><td>E</td><td></td><td></td><td>2</td><td>1</td></tr>\n",
       "<tr><td>[NYR2002] S341+57-22.5</td><td>14 10</td><td>+00.0</td><td>2</td><td>2</td><td>--</td><td>--</td><td>0</td><td>E</td><td></td><td></td><td>6</td><td>1</td></tr>\n",
       "<tr><td>NAME Serpens Dwarf</td><td>15 16 05.30</td><td>-00 06 41.0</td><td>6</td><td>6</td><td>--</td><td>--</td><td>0</td><td>D</td><td></td><td>2006MNRAS.365.1357D</td><td>450</td><td>1</td></tr>\n",
       "<tr><td>NAME Galactic Center</td><td>17 45 39.6021</td><td>-29 00 22.000</td><td>9</td><td>9</td><td>--</td><td>--</td><td>0</td><td>E</td><td>G</td><td>2018A&amp;A...612A...1H</td><td>7612</td><td>1</td></tr>\n",
       "<tr><td>NAME SDG</td><td>18 55 03.1</td><td>-30 28 42</td><td>5</td><td>5</td><td>--</td><td>--</td><td>0</td><td>D</td><td></td><td>2004AJ....127.2031K</td><td>1205</td><td>1</td></tr>\n",
       "<tr><td>[NYR2002] S052-32-20.4</td><td>21 18</td><td>+00.0</td><td>2</td><td>2</td><td>--</td><td>--</td><td>0</td><td>E</td><td></td><td></td><td>2</td><td>1</td></tr>\n",
       "<tr><td>NAME Galactic Bulge</td><td></td><td></td><td>0</td><td>0</td><td>--</td><td>--</td><td>0</td><td></td><td></td><td></td><td>2143</td><td>1</td></tr>\n",
       "</table></div>"
      ],
      "text/plain": [
       "<Table length=14>\n",
       "       MAIN_ID               RA           DEC      RA_PREC DEC_PREC COO_ERR_MAJA COO_ERR_MINA COO_ERR_ANGLE COO_QUAL COO_WAVELENGTH     COO_BIBCODE     BIBLIST_1800_2014 SCRIPT_NUMBER_ID\n",
       "                          \"h:m:s\"       \"d:m:s\"                         mas          mas           deg                                                                                    \n",
       "        object             str13         str13      int16   int16     float32      float32        int16       str1        str1             object             int32            int32      \n",
       "---------------------- ------------- ------------- ------- -------- ------------ ------------ ------------- -------- -------------- ------------------- ----------------- ----------------\n",
       "                 M  31  00 42 44.330  +41 16 07.50       7        7           --           --             0        C              I 2006AJ....131.1163S              8391                1\n",
       "[NYR2002] S167-54-21.5         02 28         +00.0       2        2           --           --             0        E                                                    8                1\n",
       "[NYR2002] S200-24-19.8         05 03         +00.0       2        2           --           --             0        E                                                    4                1\n",
       "[NYR2002] S183+22-19.4         07 26         +36.0       2        2           --           --             0        E                                                    3                1\n",
       "[NYR2002] S218+22-19.5         08 19         +06.0       2        2           --           --             0        E                                                    3                1\n",
       "[NYR2002] S223+20-19.4         08 21         +01.0       2        2           --           --             0        E                                                    6                1\n",
       "[NYR2002] S297+63-20.5         12 41         +00.0       2        2           --           --             0        E                                                   14                1\n",
       "[NYR2002] S006+41-20.0         14 01         +08.0       2        2           --           --             0        E                                                    2                1\n",
       "[NYR2002] S341+57-22.5         14 10         +00.0       2        2           --           --             0        E                                                    6                1\n",
       "    NAME Serpens Dwarf   15 16 05.30   -00 06 41.0       6        6           --           --             0        D                2006MNRAS.365.1357D               450                1\n",
       "  NAME Galactic Center 17 45 39.6021 -29 00 22.000       9        9           --           --             0        E              G 2018A&A...612A...1H              7612                1\n",
       "              NAME SDG    18 55 03.1     -30 28 42       5        5           --           --             0        D                2004AJ....127.2031K              1205                1\n",
       "[NYR2002] S052-32-20.4         21 18         +00.0       2        2           --           --             0        E                                                    2                1\n",
       "   NAME Galactic Bulge                                   0        0           --           --             0                                                          2143                1"
      ]
     },
     "execution_count": 9,
     "metadata": {},
     "output_type": "execute_result"
    }
   ],
   "source": [
    "customSimbad = Simbad()\n",
    "customSimbad.ROW_LIMIT = 100\n",
    "customSimbad.add_votable_fields('bibcodelist(1800-2014)')\n",
    "\n",
    "# bibcodelist(date1-date2) lists the number of bibliography\n",
    "# items referring to each object over that date range\n",
    "newberg2002 = customSimbad.query_bibobj('2002ApJ...569..245N')\n",
    "newberg2002"
   ]
  },
  {
   "cell_type": "markdown",
   "metadata": {
    "slideshow": {
     "slide_type": "slide"
    }
   },
   "source": [
    "## More than just catalogs\n",
    "There are archive query services that return images, spectra, instrument information, and metadata in addition to catalogs."
   ]
  },
  {
   "cell_type": "markdown",
   "metadata": {
    "slideshow": {
     "slide_type": "slide"
    }
   },
   "source": [
    "### Example: ESO archive\n",
    "\n",
    "The ESO service has the following methods:\n",
    "\n",
    " * `list_instruments` to list the available instruments that can be queried\n",
    " * `list_surveys` lists the available large public surveys\n",
    " * `query_instrument` queries for data sets from a specific instrument\n",
    " * `query_surveys` does the same for surveys\n",
    " * `get_headers` gets header information for any datasets listed from a previous query\n",
    " * `login` logs you in with your username, which is *required* for *any* data retrieval (even public data)\n",
    " * `retrieve_datasets` or (deprecated) `data_retrieval` allows you to stage *and* download any data set your username is allowed to access\n",
    " \n",
    "Queries are cached, so repeating them should be fast.  Downloaded data is also cached to the `Eso.cache_location`"
   ]
  },
  {
   "cell_type": "code",
   "execution_count": 10,
   "metadata": {
    "slideshow": {
     "slide_type": "slide"
    }
   },
   "outputs": [],
   "source": [
    "from astroquery.eso import Eso"
   ]
  },
  {
   "cell_type": "code",
   "execution_count": 11,
   "metadata": {
    "slideshow": {
     "slide_type": "-"
    }
   },
   "outputs": [
    {
     "data": {
      "text/plain": [
       "['fors1',\n",
       " 'fors2',\n",
       " 'sphere',\n",
       " 'vimos',\n",
       " 'omegacam',\n",
       " 'eris',\n",
       " 'hawki',\n",
       " 'isaac',\n",
       " 'naco',\n",
       " 'visir',\n",
       " 'vircam',\n",
       " 'apex',\n",
       " 'giraffe',\n",
       " 'uves',\n",
       " 'xshooter',\n",
       " 'espresso',\n",
       " 'muse',\n",
       " 'crires',\n",
       " 'kmos',\n",
       " 'sinfoni',\n",
       " 'amber',\n",
       " 'gravity',\n",
       " 'matisse',\n",
       " 'midi',\n",
       " 'pionier',\n",
       " 'wlgsu']"
      ]
     },
     "execution_count": 11,
     "metadata": {},
     "output_type": "execute_result"
    }
   ],
   "source": [
    "Eso.list_instruments()"
   ]
  },
  {
   "cell_type": "markdown",
   "metadata": {
    "slideshow": {
     "slide_type": "slide"
    }
   },
   "source": [
    "In order to figure out how to construct a query, you can open the form directly"
   ]
  },
  {
   "cell_type": "code",
   "execution_count": 12,
   "metadata": {
    "slideshow": {
     "slide_type": "-"
    }
   },
   "outputs": [],
   "source": [
    "Eso.query_instrument('kmos', open_form=True)"
   ]
  },
  {
   "cell_type": "markdown",
   "metadata": {
    "slideshow": {
     "slide_type": "-"
    }
   },
   "source": [
    "or use the ``help`` keyword.  The printout will then show what keywords correspond to each form name.  For example, the keyword ``pi_coi`` corresponds to the form box ``PI/CoI Name``."
   ]
  },
  {
   "cell_type": "code",
   "execution_count": 13,
   "metadata": {
    "slideshow": {
     "slide_type": "-"
    }
   },
   "outputs": [
    {
     "name": "stdout",
     "output_type": "stream",
     "text": [
      "INFO: List of accepted column_filters parameters. [astroquery.eso.core]\n",
      "INFO: The presence of a column in the result table can be controlled if prefixed with a [ ] checkbox. [astroquery.eso.core]\n",
      "INFO: The default columns in the result table are shown as already ticked: [x]. [astroquery.eso.core]\n",
      "\n",
      "Target Information\n",
      "------------------\n",
      "    target: \n",
      "    resolver: simbad (SIMBAD name), ned (NED name), none (OBJECT as specified by the observer)\n",
      "    coord_sys: eq (Equatorial (FK5)), gal (Galactic)\n",
      "    coord1: \n",
      "    coord2: \n",
      "    box: \n",
      "    format: sexagesimal (Sexagesimal), decimal (Decimal)\n",
      "[x] wdb_input_file: \n",
      "\n",
      "Observation and proposal parameters\n",
      "-----------------------------------\n",
      "[ ] night: \n",
      "    stime: \n",
      "    starttime: 00 (00 hrs [UT]), 01 (01 hrs [UT]), 02 (02 hrs [UT]), 03 (03 hrs [UT]), 04 (04 hrs [UT]), 05 (05 hrs [UT]), 06 (06 hrs [UT]), 07 (07 hrs [UT]), 08 (08 hrs [UT]), 09 (09 hrs [UT]), 10 (10 hrs [UT]), 11 (11 hrs [UT]), 12 (12 hrs [UT]), 13 (13 hrs [UT]), 14 (14 hrs [UT]), 15 (15 hrs [UT]), 16 (16 hrs [UT]), 17 (17 hrs [UT]), 18 (18 hrs [UT]), 19 (19 hrs [UT]), 20 (20 hrs [UT]), 21 (21 hrs [UT]), 22 (22 hrs [UT]), 23 (23 hrs [UT]), 24 (24 hrs [UT])\n",
      "    etime: \n",
      "    endtime: 00 (00 hrs [UT]), 01 (01 hrs [UT]), 02 (02 hrs [UT]), 03 (03 hrs [UT]), 04 (04 hrs [UT]), 05 (05 hrs [UT]), 06 (06 hrs [UT]), 07 (07 hrs [UT]), 08 (08 hrs [UT]), 09 (09 hrs [UT]), 10 (10 hrs [UT]), 11 (11 hrs [UT]), 12 (12 hrs [UT]), 13 (13 hrs [UT]), 14 (14 hrs [UT]), 15 (15 hrs [UT]), 16 (16 hrs [UT]), 17 (17 hrs [UT]), 18 (18 hrs [UT]), 19 (19 hrs [UT]), 20 (20 hrs [UT]), 21 (21 hrs [UT]), 22 (22 hrs [UT]), 23 (23 hrs [UT]), 24 (24 hrs [UT])\n",
      "[x] prog_id: \n",
      "[ ] prog_type: % (Any), 0 (Normal), 1 (GTO), 2 (DDT), 3 (ToO), 4 (Large), 5 (Short), 6 (Calibration)\n",
      "[ ] obs_mode: % (All modes), s (Service), v (Visitor)\n",
      "[ ] pi_coi: \n",
      "    pi_coi_name: PI_only (as PI only), none (as PI or CoI)\n",
      "[ ] prog_title: \n",
      "\n",
      "Generic File Information\n",
      "------------------------\n",
      "[x] dp_id: \n",
      "[x] ob_id: \n",
      "[x] obs_targ_name: \n",
      "[x] exptime: \n",
      "[x] dp_cat: % (Any), ACQUISITION (ACQUISITION), CALIB (CALIB), SCIENCE (SCIENCE)\n",
      "[x] dp_type: % (Any), DARK (DARK), FLAT% (FLAT), FLAT,LAMP (FLAT,LAMP), FLAT,OFF (FLAT,OFF), FLAT,SKY (FLAT,SKY), OBJECT (OBJECT), OBJECT,SKY (OBJECT,SKY), OBJECT,SKY,STD,FLUX (OBJECT,SKY,STD,FLUX), SKY (SKY), WAVE,LAMP (WAVE,LAMP), WAVE,OFF (WAVE,OFF)\n",
      "    dp_type_user: \n",
      "[x] dp_tech: % (Any), IFU (IFU), IMAGE (IMAGE), SPECTRUM (SPECTRUM)\n",
      "    dp_tech_user: \n",
      "[ ] tpl_id: \n",
      "[x] tpl_start: \n",
      "[ ] tpl_nexp: \n",
      "[ ] tpl_expno: \n",
      "[ ] obs_tplno: \n",
      "\n",
      "Specific Instrument Information\n",
      "-------------------------------\n",
      "[x] ins_grat1_name: % (Any), IZ% (IZ), YJ% (YJ), H% (H), K% (K), HK% (HK)\n",
      "[x] ins_filt1_name: % (Any), IZ% (IZ), YJ% (YJ), H% (H), K% (K), HK% (HK)\n",
      "[x] ins_lamp1_name: \n",
      "[x] ins_lamp2_name: \n",
      "[x] ins_lamp3_name: \n",
      "[x] det_seq1_dit: \n",
      "[x] det_ndit: \n",
      "\n",
      "Ambient Parameters\n",
      "------------------\n",
      "[x] fwhm_avg: \n",
      "[ ] airmass_range: \n",
      "[ ] night_flag: % (Any), 0 (Night), 1 (Twilight), 2 (Daytime)\n",
      "[ ] moon_illu: \n",
      "\n",
      "Result set\n",
      "----------\n",
      "    order:  (nothing (faster)), dp_id (Observation Time), dp_cat (DPR.CATG), dp_tech (DPR.TECH), tpl_start (TPL.START), ob_id asc (OB.ID (ascending)), ob_id desc (OB.ID (descending)), period asc,prog_id asc (Period and Run ID (earliest first)), period desc,prog_id desc (Period and Run ID (latest first))\n"
     ]
    }
   ],
   "source": [
    "Eso.query_instrument('kmos', help=True)"
   ]
  },
  {
   "cell_type": "code",
   "execution_count": 14,
   "metadata": {
    "slideshow": {
     "slide_type": "slide"
    }
   },
   "outputs": [
    {
     "data": {
      "text/html": [
       "<div><i>Table length=50</i>\n",
       "<table id=\"table4693445792\" class=\"table-striped table-bordered table-condensed\">\n",
       "<thead><tr><th>Release Date</th><th>Object</th><th>RA</th><th>DEC</th><th>Target Ra Dec</th><th>Target l b</th><th>Program ID</th><th>DP.ID</th><th>OB.ID</th><th>OBS.TARG.NAME</th><th>EXPTIME</th><th>DPR.CATG</th><th>DPR.TYPE</th><th>DPR.TECH</th><th>INS MODE</th><th>SEQ.ARM</th><th>DET.READ.CLOCK</th><th>INS.FILT1.NAME</th><th>INS.OPTI2.NAME</th><th>INS.OPTI3.NAME</th><th>INS.OPTI4.NAME</th><th>INS.OPTI5.NAME</th><th>DIMM Seeing-avg</th></tr></thead>\n",
       "<thead><tr><th>str10</th><th>str8</th><th>float64</th><th>float64</th><th>str23</th><th>str21</th><th>str13</th><th>str29</th><th>int64</th><th>str22</th><th>float64</th><th>str11</th><th>str8</th><th>str20</th><th>str8</th><th>str3</th><th>str20</th><th>str1</th><th>str4</th><th>str7</th><th>str7</th><th>str7</th><th>str11</th></tr></thead>\n",
       "<tr><td>2016-01-28</td><td>LAMP,AFC</td><td>167.009583</td><td>-76.67619</td><td>11:08:02.30 -76:40:34.3</td><td>296.960415 -15.018610</td><td>096.C-0979(A)</td><td>XSHOO.2016-01-28T05:58:34.628</td><td>1261417</td><td>LM717</td><td>2.0</td><td>CALIB</td><td>LAMP,AFC</td><td>ECHELLE</td><td>CALIB</td><td>NIR</td><td>--</td><td>--</td><td>SLOT</td><td>Pin_0.5</td><td>Pin_0.5</td><td>Pin_0.5</td><td>0.90 [0.04]</td></tr>\n",
       "<tr><td>2016-01-28</td><td>LAMP,AFC</td><td>167.009583</td><td>-76.67619</td><td>11:08:02.30 -76:40:34.3</td><td>296.960415 -15.018610</td><td>096.C-0979(A)</td><td>XSHOO.2016-01-28T05:59:04.026</td><td>1261417</td><td>LM717</td><td>1.0</td><td>CALIB</td><td>LAMP,AFC</td><td>ECHELLE</td><td>CALIB</td><td>VIS</td><td>400k/1pt/lg/AFC</td><td>--</td><td>PIN</td><td>5.0x11</td><td>5.0x11</td><td>5.0x11</td><td>0.90 [0.04]</td></tr>\n",
       "<tr><td>2016-01-28</td><td>OBJECT</td><td>167.010573</td><td>-76.67625</td><td>11:08:02.54 -76:40:34.5</td><td>296.960657 -15.018573</td><td>096.C-0979(A)</td><td>XSHOO.2016-01-28T06:02:27.308</td><td>1261417</td><td>LM717</td><td>15.0</td><td>ACQUISITION</td><td>OBJECT</td><td>IMAGE</td><td>IMAG</td><td>AGC</td><td>acetecE2V57I_ENG.clk</td><td>V</td><td>MIR</td><td>5.0x11</td><td>5.0x11</td><td>5.0x11</td><td>0.93 [0.04]</td></tr>\n",
       "<tr><td>2016-01-28</td><td>LAMP,AFC</td><td>167.009583</td><td>-76.67619</td><td>11:08:02.30 -76:40:34.3</td><td>296.960415 -15.018610</td><td>096.C-0979(A)</td><td>XSHOO.2016-01-28T05:59:03.842</td><td>1261417</td><td>LM717</td><td>2.0</td><td>CALIB</td><td>LAMP,AFC</td><td>ECHELLE</td><td>CALIB</td><td>NIR</td><td>--</td><td>--</td><td>PIN</td><td>5.0x11</td><td>5.0x11</td><td>5.0x11</td><td>0.90 [0.04]</td></tr>\n",
       "<tr><td>2016-01-28</td><td>LAMP,AFC</td><td>241.460833</td><td>-25.55378</td><td>16:05:50.60 -25:33:13.6</td><td>348.826268 19.528763</td><td>096.C-0979(A)</td><td>XSHOO.2016-01-28T09:03:47.852</td><td>1261387</td><td>PZ99J160550.5-2533</td><td>5.0</td><td>CALIB</td><td>LAMP,AFC</td><td>ECHELLE</td><td>CALIB</td><td>UVB</td><td>400k/1pt/lg/AFC</td><td>--</td><td>SLOT</td><td>Pin_0.5</td><td>Pin_0.5</td><td>Pin_0.5</td><td>1.30 [0.05]</td></tr>\n",
       "<tr><td>2016-01-28</td><td>LAMP,AFC</td><td>241.460833</td><td>-25.55378</td><td>16:05:50.60 -25:33:13.6</td><td>348.826268 19.528763</td><td>096.C-0979(A)</td><td>XSHOO.2016-01-28T09:04:17.059</td><td>1261387</td><td>PZ99J160550.5-2533</td><td>1.0</td><td>CALIB</td><td>LAMP,AFC</td><td>ECHELLE</td><td>CALIB</td><td>VIS</td><td>400k/1pt/lg/AFC</td><td>--</td><td>PIN</td><td>5.0x11</td><td>5.0x11</td><td>5.0x11</td><td>1.30 [0.05]</td></tr>\n",
       "<tr><td>2017-08-08</td><td>OBJECT</td><td>241.072175</td><td>-19.70769</td><td>16:04:17.32 -19:42:27.7</td><td>353.067645 23.863089</td><td>097.C-0378(A)</td><td>XSHOO.2016-08-07T23:52:45.367</td><td>1318219</td><td>2MASSJ16041740-1942287</td><td>4.0</td><td>ACQUISITION</td><td>OBJECT</td><td>IMAGE</td><td>IMAG</td><td>AGC</td><td>acetecE2V57I_ENG.clk</td><td>V</td><td>MIR</td><td>5.0x11</td><td>5.0x11</td><td>5.0x11</td><td>0.99 [0.01]</td></tr>\n",
       "<tr><td>2016-08-07</td><td>LAMP,AFC</td><td>241.072496</td><td>-19.70797</td><td>16:04:17.40 -19:42:28.7</td><td>353.067650 23.862677</td><td>097.C-0378(A)</td><td>XSHOO.2016-08-07T23:48:34.309</td><td>1318219</td><td>2MASSJ16041740-1942287</td><td>5.0</td><td>CALIB</td><td>LAMP,AFC</td><td>ECHELLE</td><td>CALIB</td><td>UVB</td><td>400k/1pt/lg/AFC</td><td>--</td><td>SLOT</td><td>Pin_0.5</td><td>Pin_0.5</td><td>Pin_0.5</td><td>N/A</td></tr>\n",
       "<tr><td>2016-08-07</td><td>LAMP,AFC</td><td>241.072496</td><td>-19.70797</td><td>16:04:17.40 -19:42:28.7</td><td>353.067650 23.862677</td><td>097.C-0378(A)</td><td>XSHOO.2016-08-07T23:48:35.117</td><td>1318219</td><td>2MASSJ16041740-1942287</td><td>2.0</td><td>CALIB</td><td>LAMP,AFC</td><td>ECHELLE</td><td>CALIB</td><td>NIR</td><td>--</td><td>--</td><td>SLOT</td><td>Pin_0.5</td><td>Pin_0.5</td><td>Pin_0.5</td><td>N/A</td></tr>\n",
       "<tr><td>2016-08-07</td><td>LAMP,AFC</td><td>241.072496</td><td>-19.70797</td><td>16:04:17.40 -19:42:28.7</td><td>353.067650 23.862677</td><td>097.C-0378(A)</td><td>XSHOO.2016-08-07T23:49:03.663</td><td>1318219</td><td>2MASSJ16041740-1942287</td><td>2.0</td><td>CALIB</td><td>LAMP,AFC</td><td>ECHELLE</td><td>CALIB</td><td>NIR</td><td>--</td><td>--</td><td>PIN</td><td>5.0x11</td><td>5.0x11</td><td>5.0x11</td><td>N/A</td></tr>\n",
       "<tr><td>2012-02-26</td><td>LAMP,AFC</td><td>83.837425</td><td>-5.52265</td><td>05:35:20.98 -05:31:21.5</td><td>209.145497 -19.427455</td><td>288.C-5038(A)</td><td>XSHOO.2012-02-26T02:37:51.806</td><td>729629</td><td>OM-1186</td><td>0.5</td><td>CALIB</td><td>LAMP,AFC</td><td>ECHELLE</td><td>CALIB</td><td>VIS</td><td>400k/1pt/lg/AFC</td><td>V</td><td>SLOT</td><td>Pin_0.5</td><td>Pin_0.5</td><td>Pin_0.5</td><td>1.07 [0.05]</td></tr>\n",
       "<tr><td>2012-02-26</td><td>LAMP,AFC</td><td>83.837425</td><td>-5.52265</td><td>05:35:20.98 -05:31:21.5</td><td>209.145497 -19.427455</td><td>288.C-5038(A)</td><td>XSHOO.2012-02-26T02:38:23.908</td><td>729629</td><td>OM-1186</td><td>0.5</td><td>CALIB</td><td>LAMP,AFC</td><td>ECHELLE</td><td>CALIB</td><td>VIS</td><td>400k/1pt/lg/AFC</td><td>V</td><td>PIN</td><td>5.0x11</td><td>5.0x11</td><td>5.0x11</td><td>1.15 [0.08]</td></tr>\n",
       "<tr><td>2013-02-27</td><td>OBJECT</td><td>83.837684</td><td>-5.52255</td><td>05:35:21.04 -05:31:21.2</td><td>209.145487 -19.427161</td><td>288.C-5038(A)</td><td>XSHOO.2012-02-26T02:41:35.429</td><td>729629</td><td>OM-1186</td><td>5.0</td><td>ACQUISITION</td><td>OBJECT</td><td>IMAGE</td><td>IMAG</td><td>--</td><td>acetecE2V57I_ENG.clk</td><td>V</td><td>MIR</td><td>5.0x11</td><td>5.0x11</td><td>5.0x11</td><td>1.08 [0.03]</td></tr>\n",
       "<tr><td>2012-02-26</td><td>LAMP,AFC</td><td>83.837425</td><td>-5.52265</td><td>05:35:20.98 -05:31:21.5</td><td>209.145458 -19.427436</td><td>288.C-5038(A)</td><td>XSHOO.2012-02-26T02:38:24.054</td><td>729629</td><td>OM-1186</td><td>1.0</td><td>CALIB</td><td>LAMP,AFC</td><td>ECHELLE</td><td>CALIB</td><td>NIR</td><td>--</td><td>V</td><td>PIN</td><td>5.0x11</td><td>5.0x11</td><td>5.0x11</td><td>1.15 [0.08]</td></tr>\n",
       "<tr><td>2012-02-26</td><td>LAMP,AFC</td><td>83.837425</td><td>-5.52265</td><td>05:35:20.98 -05:31:21.5</td><td>209.145458 -19.427436</td><td>288.C-5038(A)</td><td>XSHOO.2012-02-26T02:37:50.587</td><td>729629</td><td>OM-1186</td><td>10.0</td><td>CALIB</td><td>LAMP,AFC</td><td>ECHELLE</td><td>CALIB</td><td>UVB</td><td>400k/1pt/lg/AFC</td><td>V</td><td>SLOT</td><td>Pin_0.5</td><td>Pin_0.5</td><td>Pin_0.5</td><td>1.07 [0.05]</td></tr>\n",
       "<tr><td>...</td><td>...</td><td>...</td><td>...</td><td>...</td><td>...</td><td>...</td><td>...</td><td>...</td><td>...</td><td>...</td><td>...</td><td>...</td><td>...</td><td>...</td><td>...</td><td>...</td><td>...</td><td>...</td><td>...</td><td>...</td><td>...</td><td>...</td></tr>\n",
       "<tr><td>2013-02-27</td><td>OM-1186</td><td>83.837088</td><td>-5.52221</td><td>05:35:20.90 -05:31:20.0</td><td>209.144920 -19.427555</td><td>288.C-5038(A)</td><td>XSHOO.2012-02-26T02:51:27.191</td><td>729629</td><td>OM-1186</td><td>300.0</td><td>SCIENCE</td><td>OBJECT</td><td>ECHELLE,SLIT,NODDING</td><td>SLITSPEC</td><td>VIS</td><td>100k/1pt/hg</td><td>V</td><td>SLOT</td><td>0.5x11</td><td>0.4x11</td><td>0.4x11</td><td>0.96 [0.07]</td></tr>\n",
       "<tr><td>2013-03-08</td><td>OM-3125</td><td>83.839823</td><td>-5.57897</td><td>05:35:21.56 -05:34:44.3</td><td>209.199930 -19.450755</td><td>288.C-5038(A)</td><td>XSHOO.2012-03-07T01:39:45.039</td><td>729631</td><td>OM-3125</td><td>300.0</td><td>SCIENCE</td><td>OBJECT</td><td>ECHELLE,SLIT,NODDING</td><td>SLITSPEC</td><td>VIS</td><td>100k/1pt/hg</td><td>V</td><td>SLOT</td><td>0.5x11</td><td>0.4x11</td><td>0.4x11</td><td>1.25 [0.15]</td></tr>\n",
       "<tr><td>2013-03-08</td><td>OM-3125</td><td>83.840953</td><td>-5.57978</td><td>05:35:21.83 -05:34:47.2</td><td>209.201235 -19.450117</td><td>288.C-5038(A)</td><td>XSHOO.2012-03-07T01:47:37.329</td><td>729631</td><td>OM-3125</td><td>300.0</td><td>SCIENCE</td><td>OBJECT</td><td>ECHELLE,SLIT,NODDING</td><td>SLITSPEC</td><td>VIS</td><td>100k/1pt/hg</td><td>V</td><td>SLOT</td><td>0.5x11</td><td>0.4x11</td><td>0.4x11</td><td>1.20 [0.07]</td></tr>\n",
       "<tr><td>2012-03-07</td><td>LAMP,AFC</td><td>83.840362</td><td>-5.57969</td><td>05:35:21.69 -05:34:46.9</td><td>209.200829 -19.450583</td><td>288.C-5038(A)</td><td>XSHOO.2012-03-07T01:18:53.618</td><td>729631</td><td>OM-3125</td><td>10.0</td><td>CALIB</td><td>LAMP,AFC</td><td>ECHELLE</td><td>CALIB</td><td>UVB</td><td>400k/1pt/lg/AFC</td><td>U</td><td>SLOT</td><td>Pin_0.5</td><td>Pin_0.5</td><td>Pin_0.5</td><td>1.15 [0.01]</td></tr>\n",
       "<tr><td>2012-03-07</td><td>LAMP,AFC</td><td>83.840362</td><td>-5.57969</td><td>05:35:21.69 -05:34:46.9</td><td>209.200829 -19.450583</td><td>288.C-5038(A)</td><td>XSHOO.2012-03-07T01:18:54.730</td><td>729631</td><td>OM-3125</td><td>1.0</td><td>CALIB</td><td>LAMP,AFC</td><td>ECHELLE</td><td>CALIB</td><td>NIR</td><td>--</td><td>U</td><td>SLOT</td><td>Pin_0.5</td><td>Pin_0.5</td><td>Pin_0.5</td><td>1.15 [0.01]</td></tr>\n",
       "<tr><td>2013-03-08</td><td>OM-3125</td><td>83.840953</td><td>-5.57978</td><td>05:35:21.83 -05:34:47.2</td><td>209.201195 -19.450099</td><td>288.C-5038(A)</td><td>XSHOO.2012-03-07T01:24:01.322</td><td>729631</td><td>OM-3125</td><td>300.0</td><td>SCIENCE</td><td>OBJECT</td><td>ECHELLE,SLIT,NODDING</td><td>SLITSPEC</td><td>UVB</td><td>100k/1pt/hg</td><td>V</td><td>SLOT</td><td>0.5x11</td><td>0.4x11</td><td>0.4x11</td><td>1.07 [0.09]</td></tr>\n",
       "<tr><td>2012-03-07</td><td>LAMP,AFC</td><td>83.840363</td><td>-5.57969</td><td>05:35:21.69 -05:34:46.9</td><td>209.200829 -19.450582</td><td>288.C-5038(A)</td><td>XSHOO.2012-03-07T01:19:28.460</td><td>729631</td><td>OM-3125</td><td>10.0</td><td>CALIB</td><td>LAMP,AFC</td><td>ECHELLE</td><td>CALIB</td><td>UVB</td><td>400k/1pt/lg/AFC</td><td>U</td><td>PIN</td><td>5.0x11</td><td>5.0x11</td><td>5.0x11</td><td>1.21 [0.10]</td></tr>\n",
       "<tr><td>2013-03-08</td><td>OM-3125</td><td>83.839823</td><td>-5.57897</td><td>05:35:21.56 -05:34:44.3</td><td>209.199891 -19.450737</td><td>288.C-5038(A)</td><td>XSHOO.2012-03-07T01:32:01.407</td><td>729631</td><td>OM-3125</td><td>150.0</td><td>SCIENCE</td><td>OBJECT</td><td>ECHELLE,SLIT,NODDING</td><td>SLITSPEC</td><td>NIR</td><td>--</td><td>V</td><td>SLOT</td><td>0.5x11</td><td>0.4x11</td><td>0.4x11</td><td>1.35 [0.11]</td></tr>\n",
       "<tr><td>2013-03-08</td><td>OBJECT</td><td>83.840388</td><td>-5.57937</td><td>05:35:21.69 -05:34:45.7</td><td>209.200538 -19.450416</td><td>288.C-5038(A)</td><td>XSHOO.2012-03-07T01:23:08.218</td><td>729631</td><td>OM-3125</td><td>3.0</td><td>ACQUISITION</td><td>OBJECT</td><td>IMAGE</td><td>IMAG</td><td>--</td><td>acetecE2V57I_ENG.clk</td><td>V</td><td>MIR</td><td>5.0x11</td><td>5.0x11</td><td>5.0x11</td><td>1.17 [0.04]</td></tr>\n",
       "<tr><td>2013-03-08</td><td>OBJECT</td><td>83.840388</td><td>-5.57937</td><td>05:35:21.69 -05:34:45.7</td><td>209.200538 -19.450416</td><td>288.C-5038(A)</td><td>XSHOO.2012-03-07T01:22:57.099</td><td>729631</td><td>OM-3125</td><td>3.0</td><td>ACQUISITION</td><td>OBJECT</td><td>IMAGE</td><td>IMAG</td><td>--</td><td>acetecE2V57I_ENG.clk</td><td>V</td><td>MIR</td><td>5.0x11</td><td>5.0x11</td><td>5.0x11</td><td>1.17 [0.04]</td></tr>\n",
       "<tr><td>2013-03-08</td><td>OM-3125</td><td>83.839823</td><td>-5.57897</td><td>05:35:21.56 -05:34:44.3</td><td>209.199891 -19.450737</td><td>288.C-5038(A)</td><td>XSHOO.2012-03-07T01:39:48.331</td><td>729631</td><td>OM-3125</td><td>150.0</td><td>SCIENCE</td><td>OBJECT</td><td>ECHELLE,SLIT,NODDING</td><td>SLITSPEC</td><td>NIR</td><td>--</td><td>V</td><td>SLOT</td><td>0.5x11</td><td>0.4x11</td><td>0.4x11</td><td>1.20 [0.15]</td></tr>\n",
       "<tr><td>2013-03-08</td><td>OM-3125</td><td>83.839823</td><td>-5.57897</td><td>05:35:21.56 -05:34:44.3</td><td>209.199891 -19.450737</td><td>288.C-5038(A)</td><td>XSHOO.2012-03-07T01:31:53.481</td><td>729631</td><td>OM-3125</td><td>300.0</td><td>SCIENCE</td><td>OBJECT</td><td>ECHELLE,SLIT,NODDING</td><td>SLITSPEC</td><td>UVB</td><td>100k/1pt/hg</td><td>V</td><td>SLOT</td><td>0.5x11</td><td>0.4x11</td><td>0.4x11</td><td>1.31 [0.12]</td></tr>\n",
       "<tr><td>2012-03-07</td><td>LAMP,AFC</td><td>83.840362</td><td>-5.57969</td><td>05:35:21.69 -05:34:46.9</td><td>209.200868 -19.450602</td><td>288.C-5038(A)</td><td>XSHOO.2012-03-07T01:18:54.838</td><td>729631</td><td>OM-3125</td><td>0.5</td><td>CALIB</td><td>LAMP,AFC</td><td>ECHELLE</td><td>CALIB</td><td>VIS</td><td>400k/1pt/lg/AFC</td><td>U</td><td>SLOT</td><td>Pin_0.5</td><td>Pin_0.5</td><td>Pin_0.5</td><td>1.15 [0.01]</td></tr>\n",
       "<tr><td>2013-03-08</td><td>OM-3125</td><td>83.840953</td><td>-5.57978</td><td>05:35:21.83 -05:34:47.2</td><td>209.201235 -19.450117</td><td>288.C-5038(A)</td><td>XSHOO.2012-03-07T01:24:06.503</td><td>729631</td><td>OM-3125</td><td>300.0</td><td>SCIENCE</td><td>OBJECT</td><td>ECHELLE,SLIT,NODDING</td><td>SLITSPEC</td><td>VIS</td><td>100k/1pt/hg</td><td>V</td><td>SLOT</td><td>0.5x11</td><td>0.4x11</td><td>0.4x11</td><td>1.07 [0.09]</td></tr>\n",
       "<tr><td>2012-03-07</td><td>LAMP,AFC</td><td>83.840363</td><td>-5.57969</td><td>05:35:21.69 -05:34:46.9</td><td>209.200868 -19.450601</td><td>288.C-5038(A)</td><td>XSHOO.2012-03-07T01:19:29.680</td><td>729631</td><td>OM-3125</td><td>0.5</td><td>CALIB</td><td>LAMP,AFC</td><td>ECHELLE</td><td>CALIB</td><td>VIS</td><td>400k/1pt/lg/AFC</td><td>U</td><td>PIN</td><td>5.0x11</td><td>5.0x11</td><td>5.0x11</td><td>1.21 [0.10]</td></tr>\n",
       "</table></div>"
      ],
      "text/plain": [
       "<Table length=50>\n",
       "Release Date  Object      RA        DEC         Target Ra Dec            Target l b        Program ID  ... INS.FILT1.NAME INS.OPTI2.NAME INS.OPTI3.NAME INS.OPTI4.NAME INS.OPTI5.NAME DIMM Seeing-avg\n",
       "   str10       str8    float64    float64           str23                  str21             str13     ...      str1           str4           str7           str7           str7           str11     \n",
       "------------ -------- ---------- --------- ----------------------- --------------------- ------------- ... -------------- -------------- -------------- -------------- -------------- ---------------\n",
       "  2016-01-28 LAMP,AFC 167.009583 -76.67619 11:08:02.30 -76:40:34.3 296.960415 -15.018610 096.C-0979(A) ...             --           SLOT        Pin_0.5        Pin_0.5        Pin_0.5     0.90 [0.04]\n",
       "  2016-01-28 LAMP,AFC 167.009583 -76.67619 11:08:02.30 -76:40:34.3 296.960415 -15.018610 096.C-0979(A) ...             --            PIN         5.0x11         5.0x11         5.0x11     0.90 [0.04]\n",
       "  2016-01-28   OBJECT 167.010573 -76.67625 11:08:02.54 -76:40:34.5 296.960657 -15.018573 096.C-0979(A) ...              V            MIR         5.0x11         5.0x11         5.0x11     0.93 [0.04]\n",
       "  2016-01-28 LAMP,AFC 167.009583 -76.67619 11:08:02.30 -76:40:34.3 296.960415 -15.018610 096.C-0979(A) ...             --            PIN         5.0x11         5.0x11         5.0x11     0.90 [0.04]\n",
       "  2016-01-28 LAMP,AFC 241.460833 -25.55378 16:05:50.60 -25:33:13.6  348.826268 19.528763 096.C-0979(A) ...             --           SLOT        Pin_0.5        Pin_0.5        Pin_0.5     1.30 [0.05]\n",
       "  2016-01-28 LAMP,AFC 241.460833 -25.55378 16:05:50.60 -25:33:13.6  348.826268 19.528763 096.C-0979(A) ...             --            PIN         5.0x11         5.0x11         5.0x11     1.30 [0.05]\n",
       "  2017-08-08   OBJECT 241.072175 -19.70769 16:04:17.32 -19:42:27.7  353.067645 23.863089 097.C-0378(A) ...              V            MIR         5.0x11         5.0x11         5.0x11     0.99 [0.01]\n",
       "  2016-08-07 LAMP,AFC 241.072496 -19.70797 16:04:17.40 -19:42:28.7  353.067650 23.862677 097.C-0378(A) ...             --           SLOT        Pin_0.5        Pin_0.5        Pin_0.5             N/A\n",
       "  2016-08-07 LAMP,AFC 241.072496 -19.70797 16:04:17.40 -19:42:28.7  353.067650 23.862677 097.C-0378(A) ...             --           SLOT        Pin_0.5        Pin_0.5        Pin_0.5             N/A\n",
       "  2016-08-07 LAMP,AFC 241.072496 -19.70797 16:04:17.40 -19:42:28.7  353.067650 23.862677 097.C-0378(A) ...             --            PIN         5.0x11         5.0x11         5.0x11             N/A\n",
       "  2012-02-26 LAMP,AFC  83.837425  -5.52265 05:35:20.98 -05:31:21.5 209.145497 -19.427455 288.C-5038(A) ...              V           SLOT        Pin_0.5        Pin_0.5        Pin_0.5     1.07 [0.05]\n",
       "  2012-02-26 LAMP,AFC  83.837425  -5.52265 05:35:20.98 -05:31:21.5 209.145497 -19.427455 288.C-5038(A) ...              V            PIN         5.0x11         5.0x11         5.0x11     1.15 [0.08]\n",
       "  2013-02-27   OBJECT  83.837684  -5.52255 05:35:21.04 -05:31:21.2 209.145487 -19.427161 288.C-5038(A) ...              V            MIR         5.0x11         5.0x11         5.0x11     1.08 [0.03]\n",
       "  2012-02-26 LAMP,AFC  83.837425  -5.52265 05:35:20.98 -05:31:21.5 209.145458 -19.427436 288.C-5038(A) ...              V            PIN         5.0x11         5.0x11         5.0x11     1.15 [0.08]\n",
       "  2012-02-26 LAMP,AFC  83.837425  -5.52265 05:35:20.98 -05:31:21.5 209.145458 -19.427436 288.C-5038(A) ...              V           SLOT        Pin_0.5        Pin_0.5        Pin_0.5     1.07 [0.05]\n",
       "         ...      ...        ...       ...                     ...                   ...           ... ...            ...            ...            ...            ...            ...             ...\n",
       "  2013-02-27  OM-1186  83.837088  -5.52221 05:35:20.90 -05:31:20.0 209.144920 -19.427555 288.C-5038(A) ...              V           SLOT         0.5x11         0.4x11         0.4x11     0.96 [0.07]\n",
       "  2013-03-08  OM-3125  83.839823  -5.57897 05:35:21.56 -05:34:44.3 209.199930 -19.450755 288.C-5038(A) ...              V           SLOT         0.5x11         0.4x11         0.4x11     1.25 [0.15]\n",
       "  2013-03-08  OM-3125  83.840953  -5.57978 05:35:21.83 -05:34:47.2 209.201235 -19.450117 288.C-5038(A) ...              V           SLOT         0.5x11         0.4x11         0.4x11     1.20 [0.07]\n",
       "  2012-03-07 LAMP,AFC  83.840362  -5.57969 05:35:21.69 -05:34:46.9 209.200829 -19.450583 288.C-5038(A) ...              U           SLOT        Pin_0.5        Pin_0.5        Pin_0.5     1.15 [0.01]\n",
       "  2012-03-07 LAMP,AFC  83.840362  -5.57969 05:35:21.69 -05:34:46.9 209.200829 -19.450583 288.C-5038(A) ...              U           SLOT        Pin_0.5        Pin_0.5        Pin_0.5     1.15 [0.01]\n",
       "  2013-03-08  OM-3125  83.840953  -5.57978 05:35:21.83 -05:34:47.2 209.201195 -19.450099 288.C-5038(A) ...              V           SLOT         0.5x11         0.4x11         0.4x11     1.07 [0.09]\n",
       "  2012-03-07 LAMP,AFC  83.840363  -5.57969 05:35:21.69 -05:34:46.9 209.200829 -19.450582 288.C-5038(A) ...              U            PIN         5.0x11         5.0x11         5.0x11     1.21 [0.10]\n",
       "  2013-03-08  OM-3125  83.839823  -5.57897 05:35:21.56 -05:34:44.3 209.199891 -19.450737 288.C-5038(A) ...              V           SLOT         0.5x11         0.4x11         0.4x11     1.35 [0.11]\n",
       "  2013-03-08   OBJECT  83.840388  -5.57937 05:35:21.69 -05:34:45.7 209.200538 -19.450416 288.C-5038(A) ...              V            MIR         5.0x11         5.0x11         5.0x11     1.17 [0.04]\n",
       "  2013-03-08   OBJECT  83.840388  -5.57937 05:35:21.69 -05:34:45.7 209.200538 -19.450416 288.C-5038(A) ...              V            MIR         5.0x11         5.0x11         5.0x11     1.17 [0.04]\n",
       "  2013-03-08  OM-3125  83.839823  -5.57897 05:35:21.56 -05:34:44.3 209.199891 -19.450737 288.C-5038(A) ...              V           SLOT         0.5x11         0.4x11         0.4x11     1.20 [0.15]\n",
       "  2013-03-08  OM-3125  83.839823  -5.57897 05:35:21.56 -05:34:44.3 209.199891 -19.450737 288.C-5038(A) ...              V           SLOT         0.5x11         0.4x11         0.4x11     1.31 [0.12]\n",
       "  2012-03-07 LAMP,AFC  83.840362  -5.57969 05:35:21.69 -05:34:46.9 209.200868 -19.450602 288.C-5038(A) ...              U           SLOT        Pin_0.5        Pin_0.5        Pin_0.5     1.15 [0.01]\n",
       "  2013-03-08  OM-3125  83.840953  -5.57978 05:35:21.83 -05:34:47.2 209.201235 -19.450117 288.C-5038(A) ...              V           SLOT         0.5x11         0.4x11         0.4x11     1.07 [0.09]\n",
       "  2012-03-07 LAMP,AFC  83.840363  -5.57969 05:35:21.69 -05:34:46.9 209.200868 -19.450601 288.C-5038(A) ...              U            PIN         5.0x11         5.0x11         5.0x11     1.21 [0.10]"
      ]
     },
     "execution_count": 14,
     "metadata": {},
     "output_type": "execute_result"
    }
   ],
   "source": [
    "result = Eso.query_instrument('xshooter', pi_coi='manara')\n",
    "result"
   ]
  },
  {
   "cell_type": "markdown",
   "metadata": {
    "slideshow": {
     "slide_type": "slide"
    }
   },
   "source": [
    "How do I get a unique list of programs that contained these observations?\n",
    "\n",
    "A simple python trick: a ``set`` is an unordered collection of unique objects (just like in math).  ``np.unique`` does the same thing, but returns a numpy array, which is ordered."
   ]
  },
  {
   "cell_type": "code",
   "execution_count": 16,
   "metadata": {
    "slideshow": {
     "slide_type": "-"
    }
   },
   "outputs": [
    {
     "data": {
      "text/plain": [
       "{'096.C-0979(A)', '097.C-0378(A)', '288.C-5038(A)'}"
      ]
     },
     "execution_count": 16,
     "metadata": {},
     "output_type": "execute_result"
    }
   ],
   "source": [
    "set(result['Program ID'])"
   ]
  },
  {
   "cell_type": "markdown",
   "metadata": {
    "slideshow": {
     "slide_type": "slide"
    }
   },
   "source": [
    "## Line List Tools ##\n",
    "\n",
    "The LAMDA, Splatalogue, and NIST services query online resources related to spectroscopic lines.  "
   ]
  },
  {
   "cell_type": "code",
   "execution_count": 17,
   "metadata": {
    "slideshow": {
     "slide_type": "fragment"
    }
   },
   "outputs": [],
   "source": [
    "from astroquery.nist import Nist"
   ]
  },
  {
   "cell_type": "code",
   "execution_count": 19,
   "metadata": {
    "scrolled": false,
    "slideshow": {
     "slide_type": "fragment"
    }
   },
   "outputs": [
    {
     "data": {
      "text/html": [
       "<div><i>Table length=53</i>\n",
       "<table id=\"table4838223248\" class=\"table-striped table-bordered table-condensed\">\n",
       "<thead><tr><th>Observed</th><th>Ritz</th><th>Transition</th><th>Rel.</th><th>Aki</th><th>fik</th><th>Acc.</th><th>Ei           Ek</th><th>Lower level</th><th>Upper level</th><th>Type</th><th>TP</th><th>Line</th></tr></thead>\n",
       "<thead><tr><th>float64</th><th>float64</th><th>float64</th><th>int64</th><th>float64</th><th>float64</th><th>str3</th><th>str38</th><th>str19</th><th>str19</th><th>str2</th><th>str5</th><th>str8</th></tr></thead>\n",
       "<tr><td>--</td><td>4102.85985517</td><td>24373.2429403</td><td>--</td><td>4287700.0</td><td>0.021641</td><td>AAA</td><td>10.19880615024     -  [13.22070313941]</td><td>2p     | 2P*  | 1/2</td><td>6d     | 2D   | 3/2</td><td>--</td><td>T7771</td><td>--</td></tr>\n",
       "<tr><td>--</td><td>4102.86191087</td><td>24373.2307283</td><td>--</td><td>245010.0</td><td>0.00061832</td><td>AAA</td><td>10.19880615024     -   13.22070162532</td><td>2p     | 2P*  | 1/2</td><td>6s     | 2S   | 1/2</td><td>--</td><td>T7771</td><td>--</td></tr>\n",
       "<tr><td>--</td><td>4102.8632</td><td>24373.223</td><td>--</td><td>--</td><td>--</td><td>--</td><td>--</td><td>|      |</td><td>|      |</td><td>--</td><td>--</td><td>c57</td></tr>\n",
       "<tr><td>4102.86503488</td><td>4102.86503481</td><td>24373.2121704</td><td>--</td><td>--</td><td>--</td><td>--</td><td>10.19881052514816  -   13.22070369934</td><td>2s     | 2S   | 1/2</td><td>6d     | 2D   | 5/2</td><td>E2</td><td>--</td><td>L11759</td></tr>\n",
       "<tr><td>--</td><td>4102.86579132</td><td>24373.2076763</td><td>--</td><td>2858300.0</td><td>0.014427</td><td>AAA</td><td>10.19881052514816  -  [13.22070314214]</td><td>2s     | 2S   | 1/2</td><td>6p     | 2P*  | 3/2</td><td>--</td><td>T7771</td><td>--</td></tr>\n",
       "<tr><td>4102.86785081</td><td>4102.86785074</td><td>24373.1954423</td><td>--</td><td>--</td><td>--</td><td>--</td><td>10.19881052514816  -   13.22070162532</td><td>2s     | 2S   | 1/2</td><td>6s     | 2S   | 1/2</td><td>M1</td><td>--</td><td>L11759</td></tr>\n",
       "<tr><td>--</td><td>4102.8680725</td><td>24373.1941249</td><td>--</td><td>2858400.0</td><td>0.0072136</td><td>AAA</td><td>10.19881052514816  -  [13.22070146198]</td><td>2s     | 2S   | 1/2</td><td>6p     | 2P*  | 1/2</td><td>--</td><td>T7771</td><td>--</td></tr>\n",
       "<tr><td>4102.892</td><td>4102.8991</td><td>24373.05</td><td>70000</td><td>973200.0</td><td>0.022105</td><td>AAA</td><td>10.1988358         -   13.22070389</td><td>2      |      |</td><td>6      |      |</td><td>--</td><td>T8637</td><td>L7436c29</td></tr>\n",
       "<tr><td>--</td><td>4102.8922</td><td>24373.051</td><td>--</td><td>--</td><td>--</td><td>--</td><td>--</td><td>|      |</td><td>|      |</td><td>--</td><td>--</td><td>c58</td></tr>\n",
       "<tr><td>--</td><td>4102.92068748</td><td>24372.8815683</td><td>--</td><td>5145000.0</td><td>0.019477</td><td>AAA</td><td>10.19885151459     -   13.22070369934</td><td>2p     | 2P*  | 3/2</td><td>6d     | 2D   | 5/2</td><td>--</td><td>T7771</td><td>--</td></tr>\n",
       "<tr><td>--</td><td>4102.9208</td><td>24372.881</td><td>--</td><td>--</td><td>--</td><td>--</td><td>--</td><td>|      |</td><td>|      |</td><td>--</td><td>--</td><td>c59</td></tr>\n",
       "<tr><td>--</td><td>4102.92144772</td><td>24372.8770522</td><td>--</td><td>857480.0</td><td>0.0021641</td><td>AAA</td><td>10.19885151459     -  [13.22070313941]</td><td>2p     | 2P*  | 3/2</td><td>6d     | 2D   | 3/2</td><td>--</td><td>T7771</td><td>--</td></tr>\n",
       "<tr><td>--</td><td>4102.92350348</td><td>24372.8648402</td><td>--</td><td>490060.0</td><td>0.00061839</td><td>AAA</td><td>10.19885151459     -   13.22070162532</td><td>2p     | 2P*  | 3/2</td><td>6s     | 2S   | 1/2</td><td>--</td><td>T7771</td><td>--</td></tr>\n",
       "<tr><td>--</td><td>4341.647191</td><td>23032.73288</td><td>--</td><td>7854800.0</td><td>0.044395</td><td>AAA</td><td>10.19880615024     -   13.054501074</td><td>2p     | 2P*  | 1/2</td><td>5d     | 2D   | 3/2</td><td>--</td><td>T7771</td><td>--</td></tr>\n",
       "<tr><td>--</td><td>4341.6512</td><td>23032.712</td><td>--</td><td>--</td><td>--</td><td>--</td><td>--</td><td>|      |</td><td>|      |</td><td>--</td><td>--</td><td>c60</td></tr>\n",
       "<tr><td>...</td><td>...</td><td>...</td><td>...</td><td>...</td><td>...</td><td>...</td><td>...</td><td>...</td><td>...</td><td>...</td><td>...</td><td>...</td></tr>\n",
       "<tr><td>6564.522552</td><td>6564.522556</td><td>15233.40033</td><td>--</td><td>53877000.0</td><td>0.69614</td><td>AAA</td><td>10.19880615024     -   12.0875070783</td><td>2p     | 2P*  | 1/2</td><td>3d     | 2D   | 3/2</td><td>--</td><td>T7771</td><td>L2752</td></tr>\n",
       "<tr><td>--</td><td>6564.527</td><td>15233.39</td><td>--</td><td>--</td><td>--</td><td>--</td><td>--</td><td>|      |</td><td>|      |</td><td>--</td><td>--</td><td>c67</td></tr>\n",
       "<tr><td>--</td><td>6564.535</td><td>15233.372</td><td>--</td><td>--</td><td>--</td><td>--</td><td>--</td><td>|      |</td><td>|      |</td><td>--</td><td>--</td><td>c68</td></tr>\n",
       "<tr><td>6564.537684</td><td>6564.537685</td><td>15233.365214</td><td>--</td><td>22448000.0</td><td>0.29005</td><td>AAA</td><td>10.19881052514816  -   12.0875071004</td><td>2s     | 2S   | 1/2</td><td>3p     | 2P*  | 3/2</td><td>--</td><td>T7771</td><td>L6891c38</td></tr>\n",
       "<tr><td>--</td><td>6564.564672</td><td>15233.302588</td><td>--</td><td>2104600.0</td><td>0.013597</td><td>AAA</td><td>10.19880615024     -   12.0874949611</td><td>2p     | 2P*  | 1/2</td><td>3s     | 2S   | 1/2</td><td>--</td><td>T7771</td><td>--</td></tr>\n",
       "<tr><td>--</td><td>6564.579878</td><td>15233.267302</td><td>--</td><td>--</td><td>--</td><td>--</td><td>10.19881052514816  -   12.0874949611</td><td>2s     | 2S   | 1/2</td><td>3s     | 2S   | 1/2</td><td>M1</td><td>--</td><td>--</td></tr>\n",
       "<tr><td>--</td><td>6564.583</td><td>15233.26</td><td>--</td><td>--</td><td>--</td><td>--</td><td>--</td><td>|      |</td><td>|      |</td><td>--</td><td>--</td><td>c66</td></tr>\n",
       "<tr><td>6564.584404</td><td>6564.584403</td><td>15233.256799</td><td>--</td><td>22449000.0</td><td>0.14503</td><td>AAA</td><td>10.19881052514816  -   12.0874936591</td><td>2s     | 2S   | 1/2</td><td>3p     | 2P*  | 1/2</td><td>--</td><td>T7771</td><td>L6891c38</td></tr>\n",
       "<tr><td>6564.6</td><td>6564.632</td><td>15233.21</td><td>500000</td><td>44101000.0</td><td>0.64108</td><td>AAA</td><td>10.1988358         -   12.0875052</td><td>2      |      |</td><td>3      |      |</td><td>--</td><td>T8637</td><td>L7400c29</td></tr>\n",
       "<tr><td>--</td><td>6564.608</td><td>15233.202</td><td>--</td><td>--</td><td>--</td><td>--</td><td>--</td><td>|      |</td><td>|      |</td><td>--</td><td>--</td><td>c69</td></tr>\n",
       "<tr><td>6564.66464</td><td>6564.66466</td><td>15233.07061</td><td>--</td><td>64651000.0</td><td>0.62654</td><td>AAA</td><td>10.19885151459     -   12.0875115582</td><td>2p     | 2P*  | 3/2</td><td>3d     | 2D   | 5/2</td><td>--</td><td>T7771</td><td>L2752</td></tr>\n",
       "<tr><td>--</td><td>6564.6662</td><td>15233.067</td><td>--</td><td>--</td><td>--</td><td>--</td><td>--</td><td>|      |</td><td>|      |</td><td>--</td><td>--</td><td>c71</td></tr>\n",
       "<tr><td>--</td><td>6564.667</td><td>15233.065</td><td>--</td><td>--</td><td>--</td><td>--</td><td>--</td><td>|      |</td><td>|      |</td><td>--</td><td>--</td><td>c70</td></tr>\n",
       "<tr><td>--</td><td>6564.680232</td><td>15233.034432</td><td>--</td><td>10775000.0</td><td>0.069615</td><td>AAA</td><td>10.19885151459     -   12.0875070783</td><td>2p     | 2P*  | 3/2</td><td>3d     | 2D   | 3/2</td><td>--</td><td>T7771</td><td>--</td></tr>\n",
       "<tr><td>--</td><td>6564.722349</td><td>15232.9367</td><td>--</td><td>4209700.0</td><td>0.013599</td><td>AAA</td><td>10.19885151459     -   12.0874949611</td><td>2p     | 2P*  | 3/2</td><td>3s     | 2S   | 1/2</td><td>--</td><td>T7771</td><td>--</td></tr>\n",
       "</table></div>"
      ],
      "text/plain": [
       "<Table length=53>\n",
       "   Observed        Ritz       Transition   Rel.     Aki        fik     Acc.            Ei           Ek                 Lower level         Upper level     Type   TP    Line  \n",
       "   float64       float64       float64    int64   float64    float64   str3                 str38                         str19               str19        str2  str5   str8  \n",
       "------------- ------------- ------------- ------ ---------- ---------- ---- -------------------------------------- ------------------- ------------------- ---- ----- --------\n",
       "           -- 4102.85985517 24373.2429403     --  4287700.0   0.021641  AAA 10.19880615024     -  [13.22070313941] 2p     | 2P*  | 1/2 6d     | 2D   | 3/2   -- T7771       --\n",
       "           -- 4102.86191087 24373.2307283     --   245010.0 0.00061832  AAA  10.19880615024     -   13.22070162532 2p     | 2P*  | 1/2 6s     | 2S   | 1/2   -- T7771       --\n",
       "           --     4102.8632     24373.223     --         --         --   --                                     --            |      |            |      |   --    --      c57\n",
       "4102.86503488 4102.86503481 24373.2121704     --         --         --   --  10.19881052514816  -   13.22070369934 2s     | 2S   | 1/2 6d     | 2D   | 5/2   E2    --   L11759\n",
       "           -- 4102.86579132 24373.2076763     --  2858300.0   0.014427  AAA 10.19881052514816  -  [13.22070314214] 2s     | 2S   | 1/2 6p     | 2P*  | 3/2   -- T7771       --\n",
       "4102.86785081 4102.86785074 24373.1954423     --         --         --   --  10.19881052514816  -   13.22070162532 2s     | 2S   | 1/2 6s     | 2S   | 1/2   M1    --   L11759\n",
       "           --  4102.8680725 24373.1941249     --  2858400.0  0.0072136  AAA 10.19881052514816  -  [13.22070146198] 2s     | 2S   | 1/2 6p     | 2P*  | 1/2   -- T7771       --\n",
       "     4102.892     4102.8991      24373.05  70000   973200.0   0.022105  AAA     10.1988358         -   13.22070389     2      |      |     6      |      |   -- T8637 L7436c29\n",
       "           --     4102.8922     24373.051     --         --         --   --                                     --            |      |            |      |   --    --      c58\n",
       "           -- 4102.92068748 24372.8815683     --  5145000.0   0.019477  AAA  10.19885151459     -   13.22070369934 2p     | 2P*  | 3/2 6d     | 2D   | 5/2   -- T7771       --\n",
       "           --     4102.9208     24372.881     --         --         --   --                                     --            |      |            |      |   --    --      c59\n",
       "           -- 4102.92144772 24372.8770522     --   857480.0  0.0021641  AAA 10.19885151459     -  [13.22070313941] 2p     | 2P*  | 3/2 6d     | 2D   | 3/2   -- T7771       --\n",
       "           -- 4102.92350348 24372.8648402     --   490060.0 0.00061839  AAA  10.19885151459     -   13.22070162532 2p     | 2P*  | 3/2 6s     | 2S   | 1/2   -- T7771       --\n",
       "           --   4341.647191   23032.73288     --  7854800.0   0.044395  AAA    10.19880615024     -   13.054501074 2p     | 2P*  | 1/2 5d     | 2D   | 3/2   -- T7771       --\n",
       "           --     4341.6512     23032.712     --         --         --   --                                     --            |      |            |      |   --    --      c60\n",
       "          ...           ...           ...    ...        ...        ...  ...                                    ...                 ...                 ...  ...   ...      ...\n",
       "  6564.522552   6564.522556   15233.40033     -- 53877000.0    0.69614  AAA   10.19880615024     -   12.0875070783 2p     | 2P*  | 1/2 3d     | 2D   | 3/2   -- T7771    L2752\n",
       "           --      6564.527      15233.39     --         --         --   --                                     --            |      |            |      |   --    --      c67\n",
       "           --      6564.535     15233.372     --         --         --   --                                     --            |      |            |      |   --    --      c68\n",
       "  6564.537684   6564.537685  15233.365214     -- 22448000.0    0.29005  AAA   10.19881052514816  -   12.0875071004 2s     | 2S   | 1/2 3p     | 2P*  | 3/2   -- T7771 L6891c38\n",
       "           --   6564.564672  15233.302588     --  2104600.0   0.013597  AAA   10.19880615024     -   12.0874949611 2p     | 2P*  | 1/2 3s     | 2S   | 1/2   -- T7771       --\n",
       "           --   6564.579878  15233.267302     --         --         --   --   10.19881052514816  -   12.0874949611 2s     | 2S   | 1/2 3s     | 2S   | 1/2   M1    --       --\n",
       "           --      6564.583      15233.26     --         --         --   --                                     --            |      |            |      |   --    --      c66\n",
       "  6564.584404   6564.584403  15233.256799     -- 22449000.0    0.14503  AAA   10.19881052514816  -   12.0874936591 2s     | 2S   | 1/2 3p     | 2P*  | 1/2   -- T7771 L6891c38\n",
       "       6564.6      6564.632      15233.21 500000 44101000.0    0.64108  AAA      10.1988358         -   12.0875052     2      |      |     3      |      |   -- T8637 L7400c29\n",
       "           --      6564.608     15233.202     --         --         --   --                                     --            |      |            |      |   --    --      c69\n",
       "   6564.66464    6564.66466   15233.07061     -- 64651000.0    0.62654  AAA   10.19885151459     -   12.0875115582 2p     | 2P*  | 3/2 3d     | 2D   | 5/2   -- T7771    L2752\n",
       "           --     6564.6662     15233.067     --         --         --   --                                     --            |      |            |      |   --    --      c71\n",
       "           --      6564.667     15233.065     --         --         --   --                                     --            |      |            |      |   --    --      c70\n",
       "           --   6564.680232  15233.034432     -- 10775000.0   0.069615  AAA   10.19885151459     -   12.0875070783 2p     | 2P*  | 3/2 3d     | 2D   | 3/2   -- T7771       --\n",
       "           --   6564.722349    15232.9367     --  4209700.0   0.013599  AAA   10.19885151459     -   12.0874949611 2p     | 2P*  | 3/2 3s     | 2S   | 1/2   -- T7771       --"
      ]
     },
     "execution_count": 19,
     "metadata": {},
     "output_type": "execute_result"
    }
   ],
   "source": [
    "table = Nist.query(4000 * u.AA, 7000 * u.AA, linename=\"H I\")\n",
    "table"
   ]
  },
  {
   "cell_type": "code",
   "execution_count": 20,
   "metadata": {
    "slideshow": {
     "slide_type": "slide"
    }
   },
   "outputs": [],
   "source": [
    "from astroquery.splatalogue import Splatalogue"
   ]
  },
  {
   "cell_type": "markdown",
   "metadata": {
    "slideshow": {
     "slide_type": "fragment"
    }
   },
   "source": [
    "Splatalogue (\"spectral line catalogue\") provides access to mm lines."
   ]
  },
  {
   "cell_type": "code",
   "execution_count": 21,
   "metadata": {
    "slideshow": {
     "slide_type": "fragment"
    }
   },
   "outputs": [
    {
     "data": {
      "text/plain": [
       "{'02813 CO v = 1 - Carbon Monoxide': '990',\n",
       " '02812 CO v = 0 - Carbon Monoxide': '204',\n",
       " '02815 CO v = 3 - Carbon Monoxide': '1343',\n",
       " '02814 CO v = 2 - Carbon Monoxide': '991'}"
      ]
     },
     "execution_count": 21,
     "metadata": {},
     "output_type": "execute_result"
    }
   ],
   "source": [
    "just_CO = Splatalogue.get_species_ids(' CO ') # note the spaces\n",
    "just_CO"
   ]
  },
  {
   "cell_type": "code",
   "execution_count": 22,
   "metadata": {
    "slideshow": {
     "slide_type": "fragment"
    }
   },
   "outputs": [
    {
     "data": {
      "text/html": [
       "<div><i>Table length=1</i>\n",
       "<table id=\"table4839521248\" class=\"table-striped table-bordered table-condensed\">\n",
       "<thead><tr><th>Species</th><th>Chemical Name</th><th>Freq-GHz(rest frame,redshifted)</th><th>Freq Err(rest frame,redshifted)</th><th>Meas Freq-GHz(rest frame,redshifted)</th><th>Meas Freq Err(rest frame,redshifted)</th><th>Resolved QNs</th><th>CDMS/JPL Intensity</th><th>S&lt;sub&gt;ij&lt;/sub&gt;&amp;#956;&lt;sup&gt;2&lt;/sup&gt; (D&lt;sup&gt;2&lt;/sup&gt;)</th><th>S&lt;sub&gt;ij&lt;/sub&gt;</th><th>Log&lt;sub&gt;10&lt;/sub&gt; (A&lt;sub&gt;ij&lt;/sub&gt;)</th><th>Lovas/AST Intensity</th><th>E_L (cm^-1)</th><th>E_L (K)</th><th>E_U (cm^-1)</th><th>E_U (K)</th><th>Linelist</th></tr></thead>\n",
       "<thead><tr><th>str5</th><th>str15</th><th>int64</th><th>int64</th><th>float64</th><th>float64</th><th>str3</th><th>float64</th><th>float64</th><th>float64</th><th>float64</th><th>float64</th><th>float64</th><th>float64</th><th>float64</th><th>float64</th><th>str4</th></tr></thead>\n",
       "<tr><td>COv=0</td><td>Carbon Monoxide</td><td>--</td><td>--</td><td>230.538</td><td>5e-07</td><td>2-1</td><td>-4.1197</td><td>0.02423</td><td>2.0</td><td>-6.1605</td><td>70.0</td><td>3.845</td><td>5.53207</td><td>11.53492</td><td>16.59608</td><td>CDMS</td></tr>\n",
       "</table></div>"
      ],
      "text/plain": [
       "<Table length=1>\n",
       "Species  Chemical Name  Freq-GHz(rest frame,redshifted) Freq Err(rest frame,redshifted) Meas Freq-GHz(rest frame,redshifted) ... E_L (cm^-1) E_L (K) E_U (cm^-1) E_U (K)  Linelist\n",
       "  str5       str15                   int64                           int64                            float64                ...   float64   float64   float64   float64    str4  \n",
       "------- --------------- ------------------------------- ------------------------------- ------------------------------------ ... ----------- ------- ----------- -------- --------\n",
       "  COv=0 Carbon Monoxide                              --                              --                              230.538 ...       3.845 5.53207    11.53492 16.59608     CDMS"
      ]
     },
     "execution_count": 22,
     "metadata": {},
     "output_type": "execute_result"
    }
   ],
   "source": [
    "CO2to1 = Splatalogue.query_lines(1*u.mm, 2*u.mm, chemical_name=\" CO \",\n",
    "                                 only_NRAO_recommended=True,\n",
    "                                 energy_max=50, energy_type='eu_k')\n",
    "CO2to1"
   ]
  },
  {
   "cell_type": "markdown",
   "metadata": {},
   "source": [
    "### Cone Search services"
   ]
  },
  {
   "cell_type": "code",
   "execution_count": 23,
   "metadata": {},
   "outputs": [
    {
     "data": {
      "text/html": [
       "<div><i>Table length=4028</i>\n",
       "<table id=\"table4848199616\" class=\"table-striped table-bordered table-condensed\">\n",
       "<thead><tr><th>objID</th><th>gsc2ID</th><th>gsc1ID</th><th>hstID</th><th>ra</th><th>dec</th><th>epoch</th><th>raEpsilon</th><th>decEpsilon</th><th>rapm</th><th>decpm</th><th>rapmErr</th><th>decpmErr</th><th>deltaEpoch</th><th>FpgMag</th><th>FpgMagErr</th><th>FpgMagCode</th><th>JpgMag</th><th>JpgMagErr</th><th>JpgMagCode</th><th>NpgMag</th><th>NpgMagErr</th><th>NpgMagCode</th><th>UMag</th><th>UMagErr</th><th>UMagCode</th><th>BMag</th><th>BMagErr</th><th>BMagCode</th><th>VMag</th><th>VMagErr</th><th>VMagCode</th><th>RMag</th><th>RMagErr</th><th>RMagCode</th><th>IMag</th><th>IMagErr</th><th>IMagCode</th><th>JMag</th><th>JMagErr</th><th>JMagCode</th><th>HMag</th><th>HMagErr</th><th>HMagCode</th><th>KMag</th><th>KMagErr</th><th>KMagCode</th><th>class</th><th>semiMajorAxis</th><th>eccentricity</th><th>positionAngle</th><th>sourceStatus</th><th>variableFlag</th><th>multipleFlag</th><th>compassGSC2id</th><th>Mag</th></tr></thead>\n",
       "<thead><tr><th></th><th></th><th></th><th></th><th>deg</th><th>deg</th><th>yr</th><th>arcsec</th><th>arcsec</th><th>mas / yr</th><th>mas / yr</th><th>mas / yr</th><th>mas / yr</th><th>yr</th><th>mag</th><th>mag</th><th></th><th>mag</th><th>mag</th><th></th><th>mag</th><th>mag</th><th></th><th>mag</th><th>mag</th><th></th><th>mag</th><th>mag</th><th></th><th>mag</th><th>mag</th><th></th><th>mag</th><th>mag</th><th></th><th>mag</th><th>mag</th><th></th><th>mag</th><th>mag</th><th></th><th>mag</th><th>mag</th><th></th><th>mag</th><th>mag</th><th></th><th></th><th>pixel</th><th></th><th>deg</th><th></th><th></th><th></th><th></th><th>mag</th></tr></thead>\n",
       "<thead><tr><th>int64</th><th>object</th><th>object</th><th>object</th><th>float64</th><th>float64</th><th>float32</th><th>float32</th><th>float32</th><th>float32</th><th>float32</th><th>float32</th><th>float32</th><th>float32</th><th>float32</th><th>float32</th><th>int32</th><th>float32</th><th>float32</th><th>int32</th><th>float32</th><th>float32</th><th>int32</th><th>float32</th><th>float32</th><th>int32</th><th>float32</th><th>float32</th><th>int32</th><th>float32</th><th>float32</th><th>int32</th><th>float32</th><th>float32</th><th>int32</th><th>float32</th><th>float32</th><th>int32</th><th>float32</th><th>float32</th><th>int32</th><th>float32</th><th>float32</th><th>int32</th><th>float32</th><th>float32</th><th>int32</th><th>int32</th><th>float32</th><th>float32</th><th>float32</th><th>int64</th><th>int32</th><th>int32</th><th>int64</th><th>float32</th></tr></thead>\n",
       "<tr><td>23323175812944</td><td>00424433+4116085</td><td></td><td>2MJG1R2O</td><td>10.684737</td><td>41.269035</td><td>1997.815</td><td>0.08</td><td>0.07</td><td>0.0</td><td>0.0</td><td>0.0</td><td>0.0</td><td>0.0</td><td>99.99</td><td>99.99</td><td>99</td><td>99.99</td><td>99.99</td><td>99</td><td>99.99</td><td>99.99</td><td>99</td><td>99.99</td><td>99.99</td><td>99</td><td>99.99</td><td>99.99</td><td>99</td><td>99.99</td><td>99.99</td><td>99</td><td>99.99</td><td>99.99</td><td>99</td><td>99.99</td><td>99.99</td><td>99</td><td>9.453</td><td>0.052</td><td>47</td><td>8.668</td><td>0.051</td><td>48</td><td>8.475</td><td>0.051</td><td>49</td><td>4</td><td>0.0</td><td>0.0</td><td>0.0</td><td>77777700</td><td>0</td><td>0</td><td>6453800072293</td><td>9.453</td></tr>\n",
       "<tr><td>23323175812948</td><td>00424403+4116069</td><td></td><td>2MJG1R2S</td><td>10.683469</td><td>41.268585</td><td>1997.815</td><td>0.13</td><td>0.12</td><td>0.0</td><td>0.0</td><td>0.0</td><td>0.0</td><td>0.0</td><td>99.99</td><td>99.99</td><td>99</td><td>99.99</td><td>99.99</td><td>99</td><td>99.99</td><td>99.99</td><td>99</td><td>99.99</td><td>99.99</td><td>99</td><td>99.99</td><td>99.99</td><td>99</td><td>99.99</td><td>99.99</td><td>99</td><td>99.99</td><td>99.99</td><td>99</td><td>99.99</td><td>99.99</td><td>99</td><td>9.321</td><td>-999.0</td><td>47</td><td>8.614</td><td>-999.0</td><td>48</td><td>10.601</td><td>0.025</td><td>49</td><td>4</td><td>0.0</td><td>0.0</td><td>0.0</td><td>77777700</td><td>0</td><td>0</td><td>6453800072297</td><td>9.321</td></tr>\n",
       "<tr><td>23323175812933</td><td>00424455+4116103</td><td></td><td>2MJG1R2D</td><td>10.685657</td><td>41.26955</td><td>1997.815</td><td>0.13</td><td>0.12</td><td>0.0</td><td>0.0</td><td>0.0</td><td>0.0</td><td>0.0</td><td>99.99</td><td>99.99</td><td>99</td><td>99.99</td><td>99.99</td><td>99</td><td>99.99</td><td>99.99</td><td>99</td><td>99.99</td><td>99.99</td><td>99</td><td>99.99</td><td>99.99</td><td>99</td><td>99.99</td><td>99.99</td><td>99</td><td>99.99</td><td>99.99</td><td>99</td><td>99.99</td><td>99.99</td><td>99</td><td>10.773</td><td>0.069</td><td>47</td><td>8.532</td><td>-999.0</td><td>48</td><td>8.254</td><td>-999.0</td><td>49</td><td>4</td><td>0.0</td><td>0.0</td><td>0.0</td><td>77777700</td><td>0</td><td>0</td><td>6453800072282</td><td>10.773</td></tr>\n",
       "<tr><td>23323175812939</td><td>00424464+4116092</td><td></td><td>2MJG1R2J</td><td>10.686026</td><td>41.269226</td><td>1997.815</td><td>0.13</td><td>0.12</td><td>0.0</td><td>0.0</td><td>0.0</td><td>0.0</td><td>0.0</td><td>99.99</td><td>99.99</td><td>99</td><td>99.99</td><td>99.99</td><td>99</td><td>99.99</td><td>99.99</td><td>99</td><td>99.99</td><td>99.99</td><td>99</td><td>99.99</td><td>99.99</td><td>99</td><td>99.99</td><td>99.99</td><td>99</td><td>99.99</td><td>99.99</td><td>99</td><td>99.99</td><td>99.99</td><td>99</td><td>9.299</td><td>-999.0</td><td>47</td><td>8.606</td><td>-999.0</td><td>48</td><td>10.119</td><td>0.056</td><td>49</td><td>4</td><td>0.0</td><td>0.0</td><td>0.0</td><td>77777700</td><td>0</td><td>0</td><td>6453800072288</td><td>9.299</td></tr>\n",
       "<tr><td>23323175812930</td><td>00424403+4116108</td><td></td><td>2MJG1R2A</td><td>10.683465</td><td>41.269676</td><td>1997.815</td><td>0.13</td><td>0.11</td><td>0.0</td><td>0.0</td><td>0.0</td><td>0.0</td><td>0.0</td><td>99.99</td><td>99.99</td><td>99</td><td>99.99</td><td>99.99</td><td>99</td><td>99.99</td><td>99.99</td><td>99</td><td>99.99</td><td>99.99</td><td>99</td><td>99.99</td><td>99.99</td><td>99</td><td>99.99</td><td>99.99</td><td>99</td><td>99.99</td><td>99.99</td><td>99</td><td>99.99</td><td>99.99</td><td>99</td><td>11.507</td><td>0.056</td><td>47</td><td>8.744</td><td>-999.0</td><td>48</td><td>8.489</td><td>-999.0</td><td>49</td><td>4</td><td>0.0</td><td>0.0</td><td>0.0</td><td>77777700</td><td>0</td><td>0</td><td>6453800072279</td><td>11.507</td></tr>\n",
       "<tr><td>23323175812931</td><td>00424464+4116106</td><td></td><td>2MJG1R2B</td><td>10.686015</td><td>41.26963</td><td>1997.815</td><td>0.13</td><td>0.12</td><td>0.0</td><td>0.0</td><td>0.0</td><td>0.0</td><td>0.0</td><td>99.99</td><td>99.99</td><td>99</td><td>99.99</td><td>99.99</td><td>99</td><td>99.99</td><td>99.99</td><td>99</td><td>99.99</td><td>99.99</td><td>99</td><td>99.99</td><td>99.99</td><td>99</td><td>99.99</td><td>99.99</td><td>99</td><td>99.99</td><td>99.99</td><td>99</td><td>99.99</td><td>99.99</td><td>99</td><td>9.399</td><td>-999.0</td><td>47</td><td>9.985</td><td>0.07</td><td>48</td><td>8.429</td><td>-999.0</td><td>49</td><td>4</td><td>0.0</td><td>0.0</td><td>0.0</td><td>77777700</td><td>0</td><td>0</td><td>6453800072280</td><td>9.399</td></tr>\n",
       "<tr><td>23323175812973</td><td>00424446+4116016</td><td></td><td>2MJG1R3H</td><td>10.68527</td><td>41.267124</td><td>1997.815</td><td>0.13</td><td>0.12</td><td>0.0</td><td>0.0</td><td>0.0</td><td>0.0</td><td>0.0</td><td>99.99</td><td>99.99</td><td>99</td><td>99.99</td><td>99.99</td><td>99</td><td>99.99</td><td>99.99</td><td>99</td><td>99.99</td><td>99.99</td><td>99</td><td>99.99</td><td>99.99</td><td>99</td><td>99.99</td><td>99.99</td><td>99</td><td>99.99</td><td>99.99</td><td>99</td><td>99.99</td><td>99.99</td><td>99</td><td>12.07</td><td>0.035</td><td>47</td><td>9.301</td><td>-999.0</td><td>48</td><td>9.057</td><td>-999.0</td><td>49</td><td>4</td><td>0.0</td><td>0.0</td><td>0.0</td><td>77777700</td><td>0</td><td>0</td><td>6453800072322</td><td>12.07</td></tr>\n",
       "<tr><td>23323175812966</td><td>00424398+4116028</td><td></td><td>2MJG1R3A</td><td>10.683263</td><td>41.267456</td><td>1997.815</td><td>0.13</td><td>0.12</td><td>0.0</td><td>0.0</td><td>0.0</td><td>0.0</td><td>0.0</td><td>99.99</td><td>99.99</td><td>99</td><td>99.99</td><td>99.99</td><td>99</td><td>99.99</td><td>99.99</td><td>99</td><td>99.99</td><td>99.99</td><td>99</td><td>99.99</td><td>99.99</td><td>99</td><td>99.99</td><td>99.99</td><td>99</td><td>99.99</td><td>99.99</td><td>99</td><td>99.99</td><td>99.99</td><td>99</td><td>12.136</td><td>0.04</td><td>47</td><td>9.226</td><td>-999.0</td><td>48</td><td>8.994</td><td>-999.0</td><td>49</td><td>4</td><td>0.0</td><td>0.0</td><td>0.0</td><td>77777700</td><td>0</td><td>0</td><td>6453800072315</td><td>12.136</td></tr>\n",
       "<tr><td>23323175812979</td><td>00424420+4116009</td><td></td><td>2MJG1R3N</td><td>10.68418</td><td>41.266941</td><td>1997.815</td><td>0.13</td><td>0.12</td><td>0.0</td><td>0.0</td><td>0.0</td><td>0.0</td><td>0.0</td><td>99.99</td><td>99.99</td><td>99</td><td>99.99</td><td>99.99</td><td>99</td><td>99.99</td><td>99.99</td><td>99</td><td>99.99</td><td>99.99</td><td>99</td><td>99.99</td><td>99.99</td><td>99</td><td>99.99</td><td>99.99</td><td>99</td><td>99.99</td><td>99.99</td><td>99</td><td>99.99</td><td>99.99</td><td>99</td><td>10.065</td><td>-999.0</td><td>47</td><td>9.374</td><td>-999.0</td><td>48</td><td>11.504</td><td>0.052</td><td>49</td><td>4</td><td>0.0</td><td>0.0</td><td>0.0</td><td>77777700</td><td>0</td><td>0</td><td>6453800072328</td><td>10.065</td></tr>\n",
       "<tr><td>23323175812958</td><td>00424377+4116045</td><td></td><td>2MJG1R32</td><td>10.682383</td><td>41.267925</td><td>1997.815</td><td>0.1</td><td>0.09</td><td>0.0</td><td>0.0</td><td>0.0</td><td>0.0</td><td>0.0</td><td>99.99</td><td>99.99</td><td>99</td><td>99.99</td><td>99.99</td><td>99</td><td>99.99</td><td>99.99</td><td>99</td><td>99.99</td><td>99.99</td><td>99</td><td>99.99</td><td>99.99</td><td>99</td><td>99.99</td><td>99.99</td><td>99</td><td>99.99</td><td>99.99</td><td>99</td><td>99.99</td><td>99.99</td><td>99</td><td>12.446</td><td>0.061</td><td>47</td><td>11.753</td><td>0.063</td><td>48</td><td>9.075</td><td>-999.0</td><td>49</td><td>4</td><td>0.0</td><td>0.0</td><td>0.0</td><td>77777700</td><td>0</td><td>0</td><td>6453800072307</td><td>12.446</td></tr>\n",
       "<tr><td>23323175812923</td><td>00424386+4116123</td><td></td><td>2MJG1R23</td><td>10.682777</td><td>41.270111</td><td>1997.815</td><td>0.1</td><td>0.09</td><td>0.0</td><td>0.0</td><td>0.0</td><td>0.0</td><td>0.0</td><td>99.99</td><td>99.99</td><td>99</td><td>99.99</td><td>99.99</td><td>99</td><td>99.99</td><td>99.99</td><td>99</td><td>99.99</td><td>99.99</td><td>99</td><td>99.99</td><td>99.99</td><td>99</td><td>99.99</td><td>99.99</td><td>99</td><td>99.99</td><td>99.99</td><td>99</td><td>99.99</td><td>99.99</td><td>99</td><td>9.977</td><td>-999.0</td><td>47</td><td>11.683</td><td>0.056</td><td>48</td><td>11.839</td><td>0.062</td><td>49</td><td>4</td><td>0.0</td><td>0.0</td><td>0.0</td><td>77777700</td><td>0</td><td>0</td><td>6453800072272</td><td>9.977</td></tr>\n",
       "<tr><td>23323175812909</td><td>00424460+4116141</td><td></td><td>2MJG1R1P</td><td>10.685837</td><td>41.270599</td><td>1997.815</td><td>0.13</td><td>0.12</td><td>0.0</td><td>0.0</td><td>0.0</td><td>0.0</td><td>0.0</td><td>99.99</td><td>99.99</td><td>99</td><td>99.99</td><td>99.99</td><td>99</td><td>99.99</td><td>99.99</td><td>99</td><td>99.99</td><td>99.99</td><td>99</td><td>99.99</td><td>99.99</td><td>99</td><td>99.99</td><td>99.99</td><td>99</td><td>99.99</td><td>99.99</td><td>99</td><td>99.99</td><td>99.99</td><td>99</td><td>9.88</td><td>-999.0</td><td>47</td><td>12.051</td><td>0.068</td><td>48</td><td>8.934</td><td>-999.0</td><td>49</td><td>4</td><td>0.0</td><td>0.0</td><td>0.0</td><td>77777700</td><td>0</td><td>0</td><td>6453800072258</td><td>9.88</td></tr>\n",
       "<tr><td>23323175812984</td><td>00424414+4116000</td><td></td><td>2MJG1R3S</td><td>10.683944</td><td>41.266682</td><td>1997.815</td><td>0.13</td><td>0.12</td><td>0.0</td><td>0.0</td><td>0.0</td><td>0.0</td><td>0.0</td><td>99.99</td><td>99.99</td><td>99</td><td>99.99</td><td>99.99</td><td>99</td><td>99.99</td><td>99.99</td><td>99</td><td>99.99</td><td>99.99</td><td>99</td><td>99.99</td><td>99.99</td><td>99</td><td>99.99</td><td>99.99</td><td>99</td><td>99.99</td><td>99.99</td><td>99</td><td>99.99</td><td>99.99</td><td>99</td><td>12.565</td><td>0.055</td><td>47</td><td>9.51</td><td>-999.0</td><td>48</td><td>9.274</td><td>-999.0</td><td>49</td><td>4</td><td>0.0</td><td>0.0</td><td>0.0</td><td>77777700</td><td>0</td><td>0</td><td>6453800072333</td><td>12.565</td></tr>\n",
       "<tr><td>23323175812899</td><td>00424416+4116152</td><td></td><td>2MJG1R1F</td><td>10.684029</td><td>41.270901</td><td>1997.815</td><td>0.13</td><td>0.12</td><td>0.0</td><td>0.0</td><td>0.0</td><td>0.0</td><td>0.0</td><td>99.99</td><td>99.99</td><td>99</td><td>99.99</td><td>99.99</td><td>99</td><td>99.99</td><td>99.99</td><td>99</td><td>99.99</td><td>99.99</td><td>99</td><td>99.99</td><td>99.99</td><td>99</td><td>99.99</td><td>99.99</td><td>99</td><td>99.99</td><td>99.99</td><td>99</td><td>99.99</td><td>99.99</td><td>99</td><td>10.063</td><td>-999.0</td><td>47</td><td>9.359</td><td>-999.0</td><td>48</td><td>11.409</td><td>0.055</td><td>49</td><td>4</td><td>0.0</td><td>0.0</td><td>0.0</td><td>77777700</td><td>0</td><td>0</td><td>6453800072248</td><td>10.063</td></tr>\n",
       "<tr><td>...</td><td>...</td><td>...</td><td>...</td><td>...</td><td>...</td><td>...</td><td>...</td><td>...</td><td>...</td><td>...</td><td>...</td><td>...</td><td>...</td><td>...</td><td>...</td><td>...</td><td>...</td><td>...</td><td>...</td><td>...</td><td>...</td><td>...</td><td>...</td><td>...</td><td>...</td><td>...</td><td>...</td><td>...</td><td>...</td><td>...</td><td>...</td><td>...</td><td>...</td><td>...</td><td>...</td><td>...</td><td>...</td><td>...</td><td>...</td><td>...</td><td>...</td><td>...</td><td>...</td><td>...</td><td>...</td><td>...</td><td>...</td><td>...</td><td>...</td><td>...</td><td>...</td><td>...</td><td>...</td><td>...</td><td>...</td></tr>\n",
       "<tr><td>1330012212624</td><td>N330012212624</td><td></td><td>NBVE012624</td><td>10.5993118286133</td><td>41.3452796936035</td><td>1989.75</td><td>0.343126</td><td>0.33241</td><td>23.7684</td><td>-23.4626</td><td>31.4662</td><td>25.0987</td><td>40.0298</td><td>15.8168</td><td>0.424229</td><td>35</td><td>21.0123</td><td>0.480626</td><td>18</td><td>17.5835</td><td>0.470412</td><td>37</td><td>99.99</td><td>99.99</td><td>99</td><td>19.491</td><td>0.433434</td><td>7</td><td>99.99</td><td>99.99</td><td>99</td><td>99.99</td><td>99.99</td><td>99</td><td>99.99</td><td>99.99</td><td>99</td><td>99.99</td><td>99.99</td><td>99</td><td>99.99</td><td>99.99</td><td>99</td><td>99.99</td><td>99.99</td><td>99</td><td>3</td><td>10.8252</td><td>0.37097</td><td>170.199</td><td>1000012505</td><td>0</td><td>0</td><td>6453800012624</td><td>15.8168</td></tr>\n",
       "<tr><td>1330012228899</td><td>N330012228899</td><td></td><td>NBVE028899</td><td>10.6639022827148</td><td>41.1701126098633</td><td>1986.91</td><td>0.34043</td><td>0.325062</td><td>0.0</td><td>0.0</td><td>0.0</td><td>0.0</td><td>0.0</td><td>19.3346</td><td>0.477586</td><td>35</td><td>99.99</td><td>99.99</td><td>99</td><td>99.99</td><td>99.99</td><td>99</td><td>99.99</td><td>99.99</td><td>99</td><td>99.99</td><td>99.99</td><td>99</td><td>99.99</td><td>99.99</td><td>99</td><td>99.99</td><td>99.99</td><td>99</td><td>99.99</td><td>99.99</td><td>99</td><td>99.99</td><td>99.99</td><td>99</td><td>99.99</td><td>99.99</td><td>99</td><td>99.99</td><td>99.99</td><td>99</td><td>3</td><td>4.9853</td><td>0.550287</td><td>11.3952</td><td>10020001</td><td>0</td><td>0</td><td>6453800028899</td><td>19.3346</td></tr>\n",
       "<tr><td>1330012243867</td><td>N330012243867</td><td></td><td>NBVE043867</td><td>10.6064500808716</td><td>41.349494934082</td><td>1989.69</td><td>0.303688</td><td>0.291863</td><td>0.0</td><td>0.0</td><td>0.0</td><td>0.0</td><td>0.0</td><td>99.99</td><td>99.99</td><td>99</td><td>21.9105</td><td>0.801662</td><td>18</td><td>99.99</td><td>99.99</td><td>99</td><td>99.99</td><td>99.99</td><td>99</td><td>99.99</td><td>99.99</td><td>99</td><td>99.99</td><td>99.99</td><td>99</td><td>99.99</td><td>99.99</td><td>99</td><td>99.99</td><td>99.99</td><td>99</td><td>99.99</td><td>99.99</td><td>99</td><td>99.99</td><td>99.99</td><td>99</td><td>99.99</td><td>99.99</td><td>99</td><td>3</td><td>1.78174</td><td>0.452303</td><td>0.278592</td><td>10002001</td><td>0</td><td>0</td><td>6453800043867</td><td>21.9105</td></tr>\n",
       "<tr><td>133001228698</td><td>N33001228698</td><td></td><td>NBVE008698</td><td>10.8028268814087</td><td>41.2230453491211</td><td>1989.75</td><td>0.343126</td><td>0.33241</td><td>0.0</td><td>0.0</td><td>0.0</td><td>0.0</td><td>0.0</td><td>20.564</td><td>0.746252</td><td>35</td><td>21.852</td><td>0.772321</td><td>18</td><td>99.99</td><td>99.99</td><td>99</td><td>99.99</td><td>99.99</td><td>99</td><td>99.99</td><td>99.99</td><td>99</td><td>99.99</td><td>99.99</td><td>99</td><td>99.99</td><td>99.99</td><td>99</td><td>99.99</td><td>99.99</td><td>99</td><td>99.99</td><td>99.99</td><td>99</td><td>99.99</td><td>99.99</td><td>99</td><td>99.99</td><td>99.99</td><td>99</td><td>3</td><td>1.92398</td><td>0.633941</td><td>134.745</td><td>22002</td><td>0</td><td>0</td><td>6453800008698</td><td>20.564</td></tr>\n",
       "<tr><td>133001226993</td><td>N33001226993</td><td></td><td>NBVE006993</td><td>10.689474105835</td><td>41.1689300537109</td><td>1989.75</td><td>0.343126</td><td>0.33241</td><td>0.0</td><td>0.0</td><td>0.0</td><td>0.0</td><td>0.0</td><td>20.2829</td><td>0.599366</td><td>35</td><td>99.99</td><td>99.99</td><td>99</td><td>18.7096</td><td>0.549171</td><td>37</td><td>99.99</td><td>99.99</td><td>99</td><td>99.99</td><td>99.99</td><td>99</td><td>99.99</td><td>99.99</td><td>99</td><td>99.99</td><td>99.99</td><td>99</td><td>99.99</td><td>99.99</td><td>99</td><td>99.99</td><td>99.99</td><td>99</td><td>99.99</td><td>99.99</td><td>99</td><td>99.99</td><td>99.99</td><td>99</td><td>3</td><td>1.54504</td><td>0.107591</td><td>103.339</td><td>20002</td><td>0</td><td>0</td><td>6453800006993</td><td>20.2829</td></tr>\n",
       "<tr><td>1330012229027</td><td>N330012229027</td><td></td><td>NBVE029027</td><td>10.740930557251</td><td>41.1782531738281</td><td>1986.91</td><td>0.34043</td><td>0.325062</td><td>0.0</td><td>0.0</td><td>0.0</td><td>0.0</td><td>0.0</td><td>20.3122</td><td>0.610227</td><td>35</td><td>99.99</td><td>99.99</td><td>99</td><td>99.99</td><td>99.99</td><td>99</td><td>99.99</td><td>99.99</td><td>99</td><td>99.99</td><td>99.99</td><td>99</td><td>99.99</td><td>99.99</td><td>99</td><td>99.99</td><td>99.99</td><td>99</td><td>99.99</td><td>99.99</td><td>99</td><td>99.99</td><td>99.99</td><td>99</td><td>99.99</td><td>99.99</td><td>99</td><td>99.99</td><td>99.99</td><td>99</td><td>0</td><td>1.78783</td><td>0.606299</td><td>47.2991</td><td>10020001</td><td>0</td><td>0</td><td>6453800029027</td><td>20.3122</td></tr>\n",
       "<tr><td>1330012247547</td><td>N330012247547</td><td></td><td>NBVE047547</td><td>10.555645942688</td><td>41.2449378967285</td><td>1987.72</td><td>0.305162</td><td>0.343896</td><td>0.0</td><td>0.0</td><td>0.0</td><td>0.0</td><td>0.0</td><td>99.99</td><td>99.99</td><td>99</td><td>21.5449</td><td>0.512004</td><td>18</td><td>99.99</td><td>99.99</td><td>99</td><td>99.99</td><td>99.99</td><td>99</td><td>99.99</td><td>99.99</td><td>99</td><td>99.99</td><td>99.99</td><td>99</td><td>99.99</td><td>99.99</td><td>99</td><td>99.99</td><td>99.99</td><td>99</td><td>99.99</td><td>99.99</td><td>99</td><td>99.99</td><td>99.99</td><td>99</td><td>99.99</td><td>99.99</td><td>99</td><td>3</td><td>2.01646</td><td>0.313434</td><td>162.096</td><td>10002001</td><td>0</td><td>0</td><td>6453800047547</td><td>21.5449</td></tr>\n",
       "<tr><td>1330012244072</td><td>N330012244072</td><td></td><td>NBVE044072</td><td>10.6925621032715</td><td>41.3684921264648</td><td>1989.69</td><td>0.303688</td><td>0.291863</td><td>0.0</td><td>0.0</td><td>0.0</td><td>0.0</td><td>0.0</td><td>99.99</td><td>99.99</td><td>99</td><td>20.9598</td><td>0.538868</td><td>18</td><td>99.99</td><td>99.99</td><td>99</td><td>99.99</td><td>99.99</td><td>99</td><td>99.99</td><td>99.99</td><td>99</td><td>99.99</td><td>99.99</td><td>99</td><td>99.99</td><td>99.99</td><td>99</td><td>99.99</td><td>99.99</td><td>99</td><td>99.99</td><td>99.99</td><td>99</td><td>99.99</td><td>99.99</td><td>99</td><td>99.99</td><td>99.99</td><td>99</td><td>3</td><td>3.19223</td><td>0.379552</td><td>2.96731</td><td>10002001</td><td>0</td><td>0</td><td>6453800044072</td><td>20.9598</td></tr>\n",
       "<tr><td>1330012248107</td><td>N330012248107</td><td></td><td>NBVE048107</td><td>10.5622701644897</td><td>41.3077354431152</td><td>1987.72</td><td>0.305162</td><td>0.343896</td><td>12.497</td><td>48.0508</td><td>54.4246</td><td>27.66</td><td>40.0298</td><td>99.99</td><td>99.99</td><td>99</td><td>21.6947</td><td>0.530237</td><td>18</td><td>19.127</td><td>0.644123</td><td>37</td><td>99.99</td><td>99.99</td><td>99</td><td>20.9187</td><td>0.541523</td><td>7</td><td>18.9814</td><td>0.860541</td><td>1</td><td>99.99</td><td>99.99</td><td>99</td><td>99.99</td><td>99.99</td><td>99</td><td>99.99</td><td>99.99</td><td>99</td><td>99.99</td><td>99.99</td><td>99</td><td>99.99</td><td>99.99</td><td>99</td><td>3</td><td>1.73654</td><td>0.234965</td><td>47.7173</td><td>202005</td><td>0</td><td>0</td><td>6453800048107</td><td>21.6947</td></tr>\n",
       "<tr><td>133001227000</td><td>N33001227000</td><td></td><td>NBVE007000</td><td>10.6653833389282</td><td>41.1698875427246</td><td>1989.75</td><td>0.343126</td><td>0.33241</td><td>0.0</td><td>0.0</td><td>0.0</td><td>0.0</td><td>0.0</td><td>20.1382</td><td>0.550208</td><td>35</td><td>99.99</td><td>99.99</td><td>99</td><td>99.99</td><td>99.99</td><td>99</td><td>99.99</td><td>99.99</td><td>99</td><td>99.99</td><td>99.99</td><td>99</td><td>99.99</td><td>99.99</td><td>99</td><td>99.99</td><td>99.99</td><td>99</td><td>99.99</td><td>99.99</td><td>99</td><td>99.99</td><td>99.99</td><td>99</td><td>99.99</td><td>99.99</td><td>99</td><td>99.99</td><td>99.99</td><td>99</td><td>0</td><td>2.77008</td><td>0.640286</td><td>49.3243</td><td>10020001</td><td>0</td><td>0</td><td>6453800007000</td><td>20.1382</td></tr>\n",
       "<tr><td>1330012244001</td><td>N330012244001</td><td></td><td>NBVE044001</td><td>10.6357202529907</td><td>41.3616561889648</td><td>1987.72</td><td>0.305162</td><td>0.343896</td><td>-0.436885</td><td>4.16486</td><td>5.25464</td><td>0.0558014</td><td>35.9122</td><td>99.99</td><td>99.99</td><td>99</td><td>21.8968</td><td>0.548157</td><td>18</td><td>99.99</td><td>99.99</td><td>99</td><td>99.99</td><td>99.99</td><td>99</td><td>20.9028</td><td>0.496904</td><td>7</td><td>99.99</td><td>99.99</td><td>99</td><td>99.99</td><td>99.99</td><td>99</td><td>99.99</td><td>99.99</td><td>99</td><td>99.99</td><td>99.99</td><td>99</td><td>99.99</td><td>99.99</td><td>99</td><td>99.99</td><td>99.99</td><td>99</td><td>0</td><td>1.4091</td><td>0.0905507</td><td>111.823</td><td>2203</td><td>0</td><td>0</td><td>6453800044001</td><td>21.8968</td></tr>\n",
       "<tr><td>1330012228861</td><td>N330012228861</td><td></td><td>NBVE028861</td><td>10.6806316375732</td><td>41.1688575744629</td><td>1986.91</td><td>0.34043</td><td>0.325062</td><td>0.0</td><td>0.0</td><td>0.0</td><td>0.0</td><td>0.0</td><td>20.3572</td><td>0.636377</td><td>35</td><td>21.7859</td><td>0.740225</td><td>18</td><td>99.99</td><td>99.99</td><td>99</td><td>99.99</td><td>99.99</td><td>99</td><td>99.99</td><td>99.99</td><td>99</td><td>99.99</td><td>99.99</td><td>99</td><td>99.99</td><td>99.99</td><td>99</td><td>99.99</td><td>99.99</td><td>99</td><td>99.99</td><td>99.99</td><td>99</td><td>99.99</td><td>99.99</td><td>99</td><td>99.99</td><td>99.99</td><td>99</td><td>3</td><td>1.73502</td><td>0.42902</td><td>140.861</td><td>22002</td><td>0</td><td>0</td><td>6453800028861</td><td>20.3572</td></tr>\n",
       "<tr><td>1330012212014</td><td>N330012212014</td><td></td><td>NBVE012014</td><td>10.5837535858154</td><td>41.3338661193848</td><td>1986.91</td><td>0.34043</td><td>0.325062</td><td>-7.84588</td><td>-13.9774</td><td>20.2163</td><td>10.5821</td><td>40.0304</td><td>16.5079</td><td>0.430518</td><td>35</td><td>19.7001</td><td>0.425212</td><td>18</td><td>17.5153</td><td>0.450801</td><td>37</td><td>99.99</td><td>99.99</td><td>99</td><td>20.0399</td><td>0.433221</td><td>7</td><td>18.4556</td><td>0.456814</td><td>1</td><td>99.99</td><td>99.99</td><td>99</td><td>99.99</td><td>99.99</td><td>99</td><td>99.99</td><td>99.99</td><td>99</td><td>99.99</td><td>99.99</td><td>99</td><td>99.99</td><td>99.99</td><td>99</td><td>3</td><td>8.57145</td><td>0.426889</td><td>24.8008</td><td>1000112509</td><td>0</td><td>0</td><td>6453800012014</td><td>16.5079</td></tr>\n",
       "<tr><td>1330012231849</td><td>N330012231849</td><td></td><td>NBVE031849</td><td>10.5586099624634</td><td>41.3006172180176</td><td>1986.91</td><td>0.34043</td><td>0.325062</td><td>0.0</td><td>0.0</td><td>0.0</td><td>0.0</td><td>0.0</td><td>20.2869</td><td>0.645382</td><td>35</td><td>99.99</td><td>99.99</td><td>99</td><td>99.99</td><td>99.99</td><td>99</td><td>99.99</td><td>99.99</td><td>99</td><td>99.99</td><td>99.99</td><td>99</td><td>99.99</td><td>99.99</td><td>99</td><td>99.99</td><td>99.99</td><td>99</td><td>99.99</td><td>99.99</td><td>99</td><td>99.99</td><td>99.99</td><td>99</td><td>99.99</td><td>99.99</td><td>99</td><td>99.99</td><td>99.99</td><td>99</td><td>3</td><td>2.07513</td><td>0.516403</td><td>157.91</td><td>10020201</td><td>0</td><td>0</td><td>6453800031849</td><td>20.2869</td></tr>\n",
       "<tr><td>1330012210212</td><td>N330012210212</td><td></td><td>NBVE010212</td><td>10.8177289962769</td><td>41.269157409668</td><td>1989.75</td><td>0.343126</td><td>0.33241</td><td>0.0</td><td>0.0</td><td>0.0</td><td>0.0</td><td>0.0</td><td>20.2767</td><td>0.595958</td><td>35</td><td>21.3398</td><td>0.62705</td><td>18</td><td>99.99</td><td>99.99</td><td>99</td><td>99.99</td><td>99.99</td><td>99</td><td>99.99</td><td>99.99</td><td>99</td><td>99.99</td><td>99.99</td><td>99</td><td>99.99</td><td>99.99</td><td>99</td><td>99.99</td><td>99.99</td><td>99</td><td>99.99</td><td>99.99</td><td>99</td><td>99.99</td><td>99.99</td><td>99</td><td>99.99</td><td>99.99</td><td>99</td><td>3</td><td>2.12507</td><td>0.478459</td><td>71.2069</td><td>22002</td><td>0</td><td>0</td><td>6453800010212</td><td>20.2767</td></tr>\n",
       "</table></div>"
      ],
      "text/plain": [
       "<Table length=4028>\n",
       "    objID           gsc2ID      gsc1ID   hstID           ra              dec         epoch   raEpsilon ... semiMajorAxis eccentricity positionAngle sourceStatus variableFlag multipleFlag compassGSC2id   Mag  \n",
       "                                                        deg              deg           yr      arcsec  ...     pixel                       deg                                                             mag  \n",
       "    int64           object      object   object       float64          float64      float32   float32  ...    float32      float32       float32       int64        int32        int32         int64     float32\n",
       "-------------- ---------------- ------ ---------- ---------------- ---------------- -------- --------- ... ------------- ------------ ------------- ------------ ------------ ------------ ------------- -------\n",
       "23323175812944 00424433+4116085          2MJG1R2O        10.684737        41.269035 1997.815      0.08 ...           0.0          0.0           0.0     77777700            0            0 6453800072293   9.453\n",
       "23323175812948 00424403+4116069          2MJG1R2S        10.683469        41.268585 1997.815      0.13 ...           0.0          0.0           0.0     77777700            0            0 6453800072297   9.321\n",
       "23323175812933 00424455+4116103          2MJG1R2D        10.685657         41.26955 1997.815      0.13 ...           0.0          0.0           0.0     77777700            0            0 6453800072282  10.773\n",
       "23323175812939 00424464+4116092          2MJG1R2J        10.686026        41.269226 1997.815      0.13 ...           0.0          0.0           0.0     77777700            0            0 6453800072288   9.299\n",
       "23323175812930 00424403+4116108          2MJG1R2A        10.683465        41.269676 1997.815      0.13 ...           0.0          0.0           0.0     77777700            0            0 6453800072279  11.507\n",
       "23323175812931 00424464+4116106          2MJG1R2B        10.686015         41.26963 1997.815      0.13 ...           0.0          0.0           0.0     77777700            0            0 6453800072280   9.399\n",
       "23323175812973 00424446+4116016          2MJG1R3H         10.68527        41.267124 1997.815      0.13 ...           0.0          0.0           0.0     77777700            0            0 6453800072322   12.07\n",
       "23323175812966 00424398+4116028          2MJG1R3A        10.683263        41.267456 1997.815      0.13 ...           0.0          0.0           0.0     77777700            0            0 6453800072315  12.136\n",
       "23323175812979 00424420+4116009          2MJG1R3N         10.68418        41.266941 1997.815      0.13 ...           0.0          0.0           0.0     77777700            0            0 6453800072328  10.065\n",
       "23323175812958 00424377+4116045          2MJG1R32        10.682383        41.267925 1997.815       0.1 ...           0.0          0.0           0.0     77777700            0            0 6453800072307  12.446\n",
       "23323175812923 00424386+4116123          2MJG1R23        10.682777        41.270111 1997.815       0.1 ...           0.0          0.0           0.0     77777700            0            0 6453800072272   9.977\n",
       "23323175812909 00424460+4116141          2MJG1R1P        10.685837        41.270599 1997.815      0.13 ...           0.0          0.0           0.0     77777700            0            0 6453800072258    9.88\n",
       "23323175812984 00424414+4116000          2MJG1R3S        10.683944        41.266682 1997.815      0.13 ...           0.0          0.0           0.0     77777700            0            0 6453800072333  12.565\n",
       "23323175812899 00424416+4116152          2MJG1R1F        10.684029        41.270901 1997.815      0.13 ...           0.0          0.0           0.0     77777700            0            0 6453800072248  10.063\n",
       "           ...              ...    ...        ...              ...              ...      ...       ... ...           ...          ...           ...          ...          ...          ...           ...     ...\n",
       " 1330012212624    N330012212624        NBVE012624 10.5993118286133 41.3452796936035  1989.75  0.343126 ...       10.8252      0.37097       170.199   1000012505            0            0 6453800012624 15.8168\n",
       " 1330012228899    N330012228899        NBVE028899 10.6639022827148 41.1701126098633  1986.91   0.34043 ...        4.9853     0.550287       11.3952     10020001            0            0 6453800028899 19.3346\n",
       " 1330012243867    N330012243867        NBVE043867 10.6064500808716  41.349494934082  1989.69  0.303688 ...       1.78174     0.452303      0.278592     10002001            0            0 6453800043867 21.9105\n",
       "  133001228698     N33001228698        NBVE008698 10.8028268814087 41.2230453491211  1989.75  0.343126 ...       1.92398     0.633941       134.745        22002            0            0 6453800008698  20.564\n",
       "  133001226993     N33001226993        NBVE006993  10.689474105835 41.1689300537109  1989.75  0.343126 ...       1.54504     0.107591       103.339        20002            0            0 6453800006993 20.2829\n",
       " 1330012229027    N330012229027        NBVE029027  10.740930557251 41.1782531738281  1986.91   0.34043 ...       1.78783     0.606299       47.2991     10020001            0            0 6453800029027 20.3122\n",
       " 1330012247547    N330012247547        NBVE047547  10.555645942688 41.2449378967285  1987.72  0.305162 ...       2.01646     0.313434       162.096     10002001            0            0 6453800047547 21.5449\n",
       " 1330012244072    N330012244072        NBVE044072 10.6925621032715 41.3684921264648  1989.69  0.303688 ...       3.19223     0.379552       2.96731     10002001            0            0 6453800044072 20.9598\n",
       " 1330012248107    N330012248107        NBVE048107 10.5622701644897 41.3077354431152  1987.72  0.305162 ...       1.73654     0.234965       47.7173       202005            0            0 6453800048107 21.6947\n",
       "  133001227000     N33001227000        NBVE007000 10.6653833389282 41.1698875427246  1989.75  0.343126 ...       2.77008     0.640286       49.3243     10020001            0            0 6453800007000 20.1382\n",
       " 1330012244001    N330012244001        NBVE044001 10.6357202529907 41.3616561889648  1987.72  0.305162 ...        1.4091    0.0905507       111.823         2203            0            0 6453800044001 21.8968\n",
       " 1330012228861    N330012228861        NBVE028861 10.6806316375732 41.1688575744629  1986.91   0.34043 ...       1.73502      0.42902       140.861        22002            0            0 6453800028861 20.3572\n",
       " 1330012212014    N330012212014        NBVE012014 10.5837535858154 41.3338661193848  1986.91   0.34043 ...       8.57145     0.426889       24.8008   1000112509            0            0 6453800012014 16.5079\n",
       " 1330012231849    N330012231849        NBVE031849 10.5586099624634 41.3006172180176  1986.91   0.34043 ...       2.07513     0.516403        157.91     10020201            0            0 6453800031849 20.2869\n",
       " 1330012210212    N330012210212        NBVE010212 10.8177289962769  41.269157409668  1989.75  0.343126 ...       2.12507     0.478459       71.2069        22002            0            0 6453800010212 20.2767"
      ]
     },
     "execution_count": 23,
     "metadata": {},
     "output_type": "execute_result"
    }
   ],
   "source": [
    "from astropy.coordinates import SkyCoord\n",
    "from astroquery.vo_conesearch import ConeSearch\n",
    "\n",
    "c = SkyCoord.from_name('M31')\n",
    "c.ra, c.dec\n",
    "\n",
    "result = ConeSearch.query_region(c, '0.1 deg')\n",
    "result"
   ]
  },
  {
   "cell_type": "markdown",
   "metadata": {
    "slideshow": {
     "slide_type": "slide"
    }
   },
   "source": [
    "Getting a list of catalogs that are available through the cone search service:"
   ]
  },
  {
   "cell_type": "code",
   "execution_count": 24,
   "metadata": {},
   "outputs": [
    {
     "data": {
      "text/plain": [
       "['Guide Star Catalog 2.3 Cone Search 1',\n",
       " 'SDSS DR7 - Sloan Digital Sky Survey Data Release 7 1',\n",
       " 'SDSS DR7 - Sloan Digital Sky Survey Data Release 7 2',\n",
       " 'SDSS DR7 - Sloan Digital Sky Survey Data Release 7 3',\n",
       " 'SDSS DR7 - Sloan Digital Sky Survey Data Release 7 4',\n",
       " 'The HST Guide Star Catalog, Version 1.1 1',\n",
       " 'The HST Guide Star Catalog, Version 1.2 1',\n",
       " 'The HST Guide Star Catalog, Version GSC-ACT 1',\n",
       " 'The PMM USNO-A1.0 Catalogue 1',\n",
       " 'The USNO-A2.0 Catalogue 1',\n",
       " 'Two Micron All Sky Survey (2MASS) 1',\n",
       " 'Two Micron All Sky Survey (2MASS) 2']"
      ]
     },
     "execution_count": 24,
     "metadata": {},
     "output_type": "execute_result"
    }
   ],
   "source": [
    "from astroquery.vo_conesearch import conesearch\n",
    "conesearch.list_catalogs()"
   ]
  },
  {
   "cell_type": "markdown",
   "metadata": {
    "slideshow": {
     "slide_type": "slide"
    }
   },
   "source": [
    "Unfortunately, if you want to specify the catalog, you have to use an older API:"
   ]
  },
  {
   "cell_type": "code",
   "execution_count": 25,
   "metadata": {},
   "outputs": [
    {
     "name": "stdout",
     "output_type": "stream",
     "text": [
      "Trying http://vizier.unistra.fr/viz-bin/conesearch/I/252/out?\n"
     ]
    },
    {
     "data": {
      "text/html": [
       "<div><i>Table length=3</i>\n",
       "<table id=\"table4848566384\" class=\"table-striped table-bordered table-condensed\">\n",
       "<thead><tr><th>_r</th><th>USNO-A2.0</th><th>RAJ2000</th><th>DEJ2000</th><th>ACTflag</th><th>Mflag</th><th>Bmag</th><th>Rmag</th><th>Epoch</th></tr></thead>\n",
       "<thead><tr><th>deg</th><th></th><th>deg</th><th>deg</th><th></th><th></th><th>mag</th><th>mag</th><th>yr</th></tr></thead>\n",
       "<thead><tr><th>float64</th><th>str13</th><th>float64</th><th>float64</th><th>str1</th><th>str1</th><th>float32</th><th>float32</th><th>float64</th></tr></thead>\n",
       "<tr><td>0.094265</td><td>1275-00425574</td><td>10.595878</td><td>41.335328</td><td></td><td></td><td>19.8</td><td>17.4</td><td>1953.773</td></tr>\n",
       "<tr><td>0.098040</td><td>1275-00427192</td><td>10.639945</td><td>41.360845</td><td></td><td></td><td>19.4</td><td>18.4</td><td>1953.773</td></tr>\n",
       "<tr><td>0.063280</td><td>1275-00429939</td><td>10.712834</td><td>41.209109</td><td>A</td><td></td><td>99.9</td><td>11.2</td><td>--</td></tr>\n",
       "</table></div>"
      ],
      "text/plain": [
       "<Table length=3>\n",
       "   _r      USNO-A2.0    RAJ2000    DEJ2000   ACTflag Mflag   Bmag    Rmag   Epoch  \n",
       "  deg                     deg        deg                     mag     mag      yr   \n",
       "float64      str13      float64    float64     str1   str1 float32 float32 float64 \n",
       "-------- ------------- ---------- ---------- ------- ----- ------- ------- --------\n",
       "0.094265 1275-00425574  10.595878  41.335328                  19.8    17.4 1953.773\n",
       "0.098040 1275-00427192  10.639945  41.360845                  19.4    18.4 1953.773\n",
       "0.063280 1275-00429939  10.712834  41.209109       A          99.9    11.2       --"
      ]
     },
     "execution_count": 25,
     "metadata": {},
     "output_type": "execute_result"
    }
   ],
   "source": [
    "from astropy import units as u\n",
    "my_catname = 'The USNO-A2.0 Catalogue 1'\n",
    "result = conesearch.conesearch(c, 0.1 * u.degree, catalog_db=my_catname)\n",
    "result"
   ]
  },
  {
   "cell_type": "markdown",
   "metadata": {
    "slideshow": {
     "slide_type": "slide"
    }
   },
   "source": [
    "### Cross-match services\n",
    "\n",
    "The xMatch service is a tool to cross-identify sources between very large data sets or between a user-uploaded list and a large catalog."
   ]
  },
  {
   "cell_type": "code",
   "execution_count": 26,
   "metadata": {},
   "outputs": [
    {
     "name": "stdout",
     "output_type": "stream",
     "text": [
      "Overwriting pos_list.csv\n"
     ]
    }
   ],
   "source": [
    "%%writefile pos_list.csv\n",
    "ra,dec\n",
    "267.22029,-20.35869\n",
    "274.83971,-25.42714\n",
    "275.92229,-30.36572\n",
    "283.26621,-8.70756\n",
    "306.01575,33.86756\n",
    "322.493,12.16703"
   ]
  },
  {
   "cell_type": "code",
   "execution_count": 27,
   "metadata": {
    "scrolled": true
   },
   "outputs": [
    {
     "name": "stdout",
     "output_type": "stream",
     "text": [
      "Could not import regions, which is required for some of the functionalities of this module.\n"
     ]
    },
    {
     "data": {
      "text/html": [
       "<div><i>Table length=11</i>\n",
       "<table id=\"table5105518240\" class=\"table-striped table-bordered table-condensed\">\n",
       "<thead><tr><th>angDist</th><th>ra</th><th>dec</th><th>2MASS</th><th>RAJ2000</th><th>DEJ2000</th><th>errHalfMaj</th><th>errHalfMin</th><th>errPosAng</th><th>Jmag</th><th>Hmag</th><th>Kmag</th><th>e_Jmag</th><th>e_Hmag</th><th>e_Kmag</th><th>Qfl</th><th>Rfl</th><th>X</th><th>MeasureJD</th></tr></thead>\n",
       "<thead><tr><th>float64</th><th>float64</th><th>float64</th><th>str16</th><th>float64</th><th>float64</th><th>float64</th><th>float64</th><th>int64</th><th>float64</th><th>float64</th><th>float64</th><th>float64</th><th>float64</th><th>float64</th><th>str3</th><th>int64</th><th>int64</th><th>float64</th></tr></thead>\n",
       "<tr><td>1.352044</td><td>267.22029</td><td>-20.35869</td><td>17485281-2021323</td><td>267.220049</td><td>-20.35899</td><td>0.15</td><td>0.11</td><td>16</td><td>9.931</td><td>8.822</td><td>7.55</td><td>0.239</td><td>0.241</td><td>--</td><td>EEU</td><td>226</td><td>2</td><td>2450950.8609</td></tr>\n",
       "<tr><td>1.578188</td><td>267.22029</td><td>-20.35869</td><td>17485288-2021328</td><td>267.220348</td><td>-20.359125</td><td>0.14</td><td>0.12</td><td>158</td><td>8.868</td><td>7.784</td><td>8.53</td><td>--</td><td>--</td><td>0.128</td><td>UUB</td><td>662</td><td>2</td><td>2450950.8609</td></tr>\n",
       "<tr><td>3.699368</td><td>267.22029</td><td>-20.35869</td><td>17485264-2021294</td><td>267.219344</td><td>-20.358171</td><td>0.13</td><td>0.12</td><td>33</td><td>9.562</td><td>8.525</td><td>9.445</td><td>--</td><td>--</td><td>0.119</td><td>UUB</td><td>662</td><td>2</td><td>2450950.8609</td></tr>\n",
       "<tr><td>3.822922</td><td>267.22029</td><td>-20.35869</td><td>17485299-2021279</td><td>267.220825</td><td>-20.357754</td><td>0.08</td><td>0.07</td><td>7</td><td>10.756</td><td>9.725</td><td>9.287</td><td>0.139</td><td>0.127</td><td>0.103</td><td>EBA</td><td>222</td><td>2</td><td>2450950.8609</td></tr>\n",
       "<tr><td>4.576677</td><td>267.22029</td><td>-20.35869</td><td>17485255-2021326</td><td>267.218994</td><td>-20.359064</td><td>0.14</td><td>0.13</td><td>87</td><td>10.431</td><td>9.348</td><td>7.926</td><td>0.159</td><td>0.316</td><td>--</td><td>CEU</td><td>226</td><td>2</td><td>2450950.8609</td></tr>\n",
       "<tr><td>0.219609</td><td>274.83971</td><td>-25.42714</td><td>18192154-2525377</td><td>274.839773</td><td>-25.427162</td><td>0.06</td><td>0.06</td><td>90</td><td>9.368</td><td>8.431</td><td>7.919</td><td>0.024</td><td>0.044</td><td>0.036</td><td>AAA</td><td>211</td><td>0</td><td>2451407.5033</td></tr>\n",
       "<tr><td>1.633225</td><td>275.92229</td><td>-30.36572</td><td>18234133-3021582</td><td>275.922233</td><td>-30.366171</td><td>0.08</td><td>0.08</td><td>55</td><td>12.947</td><td>12.334</td><td>12.145</td><td>0.156</td><td>0.221</td><td>0.127</td><td>EEE</td><td>222</td><td>2</td><td>2451021.7212</td></tr>\n",
       "<tr><td>0.536998</td><td>283.26621</td><td>-8.70756</td><td>18530390-0842276</td><td>283.266284</td><td>-8.70769</td><td>0.06</td><td>0.06</td><td>45</td><td>12.182</td><td>11.534</td><td>11.38</td><td>0.057</td><td>0.071</td><td>0.063</td><td>AAA</td><td>222</td><td>0</td><td>2451301.7945</td></tr>\n",
       "<tr><td>1.178542</td><td>306.01575</td><td>33.86756</td><td>20240382+3352021</td><td>306.015944</td><td>33.867275</td><td>0.06</td><td>0.06</td><td>90</td><td>13.575</td><td>12.684</td><td>12.321</td><td>0.025</td><td>0.027</td><td>0.026</td><td>AAA</td><td>222</td><td>0</td><td>2450948.9708</td></tr>\n",
       "<tr><td>0.853178</td><td>322.493</td><td>12.16703</td><td>21295836+1210007</td><td>322.493171</td><td>12.166862</td><td>0.1</td><td>0.08</td><td>179</td><td>9.798</td><td>9.339</td><td>9.176</td><td>0.109</td><td>0.15</td><td>0.1</td><td>EEA</td><td>222</td><td>0</td><td>2451080.6935</td></tr>\n",
       "<tr><td>4.50395</td><td>322.493</td><td>12.16703</td><td>21295861+1210023</td><td>322.494242</td><td>12.167332</td><td>0.1</td><td>0.08</td><td>1</td><td>10.057</td><td>9.72</td><td>9.483</td><td>0.077</td><td>0.136</td><td>0.088</td><td>EEE</td><td>222</td><td>0</td><td>2451080.6935</td></tr>\n",
       "</table></div>"
      ],
      "text/plain": [
       "<Table length=11>\n",
       "angDist      ra       dec         2MASS        RAJ2000    DEJ2000   errHalfMaj errHalfMin errPosAng   Jmag    Hmag    Kmag   e_Jmag  e_Hmag  e_Kmag Qfl   Rfl    X    MeasureJD  \n",
       "float64   float64   float64       str16        float64    float64    float64    float64     int64   float64 float64 float64 float64 float64 float64 str3 int64 int64   float64   \n",
       "-------- --------- --------- ---------------- ---------- ---------- ---------- ---------- --------- ------- ------- ------- ------- ------- ------- ---- ----- ----- ------------\n",
       "1.352044 267.22029 -20.35869 17485281-2021323 267.220049  -20.35899       0.15       0.11        16   9.931   8.822    7.55   0.239   0.241      --  EEU   226     2 2450950.8609\n",
       "1.578188 267.22029 -20.35869 17485288-2021328 267.220348 -20.359125       0.14       0.12       158   8.868   7.784    8.53      --      --   0.128  UUB   662     2 2450950.8609\n",
       "3.699368 267.22029 -20.35869 17485264-2021294 267.219344 -20.358171       0.13       0.12        33   9.562   8.525   9.445      --      --   0.119  UUB   662     2 2450950.8609\n",
       "3.822922 267.22029 -20.35869 17485299-2021279 267.220825 -20.357754       0.08       0.07         7  10.756   9.725   9.287   0.139   0.127   0.103  EBA   222     2 2450950.8609\n",
       "4.576677 267.22029 -20.35869 17485255-2021326 267.218994 -20.359064       0.14       0.13        87  10.431   9.348   7.926   0.159   0.316      --  CEU   226     2 2450950.8609\n",
       "0.219609 274.83971 -25.42714 18192154-2525377 274.839773 -25.427162       0.06       0.06        90   9.368   8.431   7.919   0.024   0.044   0.036  AAA   211     0 2451407.5033\n",
       "1.633225 275.92229 -30.36572 18234133-3021582 275.922233 -30.366171       0.08       0.08        55  12.947  12.334  12.145   0.156   0.221   0.127  EEE   222     2 2451021.7212\n",
       "0.536998 283.26621  -8.70756 18530390-0842276 283.266284   -8.70769       0.06       0.06        45  12.182  11.534   11.38   0.057   0.071   0.063  AAA   222     0 2451301.7945\n",
       "1.178542 306.01575  33.86756 20240382+3352021 306.015944  33.867275       0.06       0.06        90  13.575  12.684  12.321   0.025   0.027   0.026  AAA   222     0 2450948.9708\n",
       "0.853178   322.493  12.16703 21295836+1210007 322.493171  12.166862        0.1       0.08       179   9.798   9.339   9.176   0.109    0.15     0.1  EEA   222     0 2451080.6935\n",
       " 4.50395   322.493  12.16703 21295861+1210023 322.494242  12.167332        0.1       0.08         1  10.057    9.72   9.483   0.077   0.136   0.088  EEE   222     0 2451080.6935"
      ]
     },
     "execution_count": 27,
     "metadata": {},
     "output_type": "execute_result"
    }
   ],
   "source": [
    "from astropy import units as u\n",
    "from astroquery.xmatch import XMatch\n",
    "table = XMatch.query(cat1=open('pos_list.csv'),\n",
    "                     cat2='vizier:II/246/out',\n",
    "                     max_distance=5 * u.arcsec, colRA1='ra',\n",
    "                     colDec1='dec')\n",
    "table"
   ]
  },
  {
   "cell_type": "markdown",
   "metadata": {
    "slideshow": {
     "slide_type": "slide"
    }
   },
   "source": [
    "### Gaia\n",
    "\n",
    "The Gaia access module in astroquery is excellent. It provides conesearch-like functionality, as well as general SQL queries."
   ]
  },
  {
   "cell_type": "markdown",
   "metadata": {
    "slideshow": {
     "slide_type": "slide"
    }
   },
   "source": [
    "Querying around an object:"
   ]
  },
  {
   "cell_type": "code",
   "execution_count": 28,
   "metadata": {
    "scrolled": false
   },
   "outputs": [
    {
     "name": "stdout",
     "output_type": "stream",
     "text": [
      "INFO: Query finished. [astroquery.utils.tap.core]\n"
     ]
    },
    {
     "data": {
      "text/html": [
       "<div><i>Table length=50</i>\n",
       "<table id=\"table5107354160\" class=\"table-striped table-bordered table-condensed\">\n",
       "<thead><tr><th>dist</th><th>solution_id</th><th>DESIGNATION</th><th>source_id</th><th>random_index</th><th>ref_epoch</th><th>ra</th><th>ra_error</th><th>dec</th><th>dec_error</th><th>parallax</th><th>parallax_error</th><th>parallax_over_error</th><th>pmra</th><th>pmra_error</th><th>pmdec</th><th>pmdec_error</th><th>ra_dec_corr</th><th>ra_parallax_corr</th><th>ra_pmra_corr</th><th>ra_pmdec_corr</th><th>dec_parallax_corr</th><th>dec_pmra_corr</th><th>dec_pmdec_corr</th><th>parallax_pmra_corr</th><th>parallax_pmdec_corr</th><th>pmra_pmdec_corr</th><th>astrometric_n_obs_al</th><th>astrometric_n_obs_ac</th><th>astrometric_n_good_obs_al</th><th>astrometric_n_bad_obs_al</th><th>astrometric_gof_al</th><th>astrometric_chi2_al</th><th>astrometric_excess_noise</th><th>astrometric_excess_noise_sig</th><th>astrometric_params_solved</th><th>astrometric_primary_flag</th><th>astrometric_weight_al</th><th>astrometric_pseudo_colour</th><th>astrometric_pseudo_colour_error</th><th>mean_varpi_factor_al</th><th>astrometric_matched_observations</th><th>visibility_periods_used</th><th>astrometric_sigma5d_max</th><th>frame_rotator_object_type</th><th>matched_observations</th><th>duplicated_source</th><th>phot_g_n_obs</th><th>phot_g_mean_flux</th><th>phot_g_mean_flux_error</th><th>phot_g_mean_flux_over_error</th><th>phot_g_mean_mag</th><th>phot_bp_n_obs</th><th>phot_bp_mean_flux</th><th>phot_bp_mean_flux_error</th><th>phot_bp_mean_flux_over_error</th><th>phot_bp_mean_mag</th><th>phot_rp_n_obs</th><th>phot_rp_mean_flux</th><th>phot_rp_mean_flux_error</th><th>phot_rp_mean_flux_over_error</th><th>phot_rp_mean_mag</th><th>phot_bp_rp_excess_factor</th><th>phot_proc_mode</th><th>bp_rp</th><th>bp_g</th><th>g_rp</th><th>radial_velocity</th><th>radial_velocity_error</th><th>rv_nb_transits</th><th>rv_template_teff</th><th>rv_template_logg</th><th>rv_template_fe_h</th><th>phot_variable_flag</th><th>l</th><th>b</th><th>ecl_lon</th><th>ecl_lat</th><th>priam_flags</th><th>teff_val</th><th>teff_percentile_lower</th><th>teff_percentile_upper</th><th>a_g_val</th><th>a_g_percentile_lower</th><th>a_g_percentile_upper</th><th>e_bp_min_rp_val</th><th>e_bp_min_rp_percentile_lower</th><th>e_bp_min_rp_percentile_upper</th><th>flame_flags</th><th>radius_val</th><th>radius_percentile_lower</th><th>radius_percentile_upper</th><th>lum_val</th><th>lum_percentile_lower</th><th>lum_percentile_upper</th><th>datalink_url</th></tr></thead>\n",
       "<thead><tr><th></th><th></th><th></th><th></th><th></th><th>yr</th><th>deg</th><th>mas</th><th>deg</th><th>mas</th><th>mas</th><th>mas</th><th></th><th>mas / yr</th><th>mas / yr</th><th>mas / yr</th><th>mas / yr</th><th></th><th></th><th></th><th></th><th></th><th></th><th></th><th></th><th></th><th></th><th></th><th></th><th></th><th></th><th></th><th></th><th>mas</th><th></th><th></th><th></th><th>1 / mas2</th><th>1 / um</th><th>1 / um</th><th></th><th></th><th></th><th>mas</th><th></th><th></th><th></th><th></th><th>electron / s</th><th>electron / s</th><th></th><th>mag</th><th></th><th>electron / s</th><th>electron / s</th><th></th><th>mag</th><th></th><th>electron / s</th><th>electron / s</th><th></th><th>mag</th><th></th><th></th><th>mag</th><th>mag</th><th>mag</th><th>km / s</th><th>km / s</th><th></th><th>K</th><th>log(cm.s**-2)</th><th>dex</th><th></th><th>deg</th><th>deg</th><th>deg</th><th>deg</th><th></th><th>K</th><th>K</th><th>K</th><th>mag</th><th>mag</th><th>mag</th><th>mag</th><th>mag</th><th>mag</th><th></th><th>solRad</th><th>solRad</th><th>solRad</th><th>solLum</th><th>solLum</th><th>solLum</th><th></th></tr></thead>\n",
       "<thead><tr><th>float64</th><th>int64</th><th>object</th><th>int64</th><th>int64</th><th>float64</th><th>float64</th><th>float64</th><th>float64</th><th>float64</th><th>float64</th><th>float64</th><th>float32</th><th>float64</th><th>float64</th><th>float64</th><th>float64</th><th>float32</th><th>float32</th><th>float32</th><th>float32</th><th>float32</th><th>float32</th><th>float32</th><th>float32</th><th>float32</th><th>float32</th><th>int32</th><th>int32</th><th>int32</th><th>int32</th><th>float32</th><th>float32</th><th>float64</th><th>float64</th><th>int16</th><th>bool</th><th>float32</th><th>float64</th><th>float64</th><th>float32</th><th>int16</th><th>int16</th><th>float32</th><th>int32</th><th>int16</th><th>bool</th><th>int32</th><th>float64</th><th>float64</th><th>float32</th><th>float32</th><th>int32</th><th>float64</th><th>float64</th><th>float32</th><th>float32</th><th>int32</th><th>float64</th><th>float64</th><th>float32</th><th>float32</th><th>float32</th><th>int16</th><th>float32</th><th>float32</th><th>float32</th><th>float64</th><th>float64</th><th>int32</th><th>float32</th><th>float32</th><th>float32</th><th>object</th><th>float64</th><th>float64</th><th>float64</th><th>float64</th><th>int64</th><th>float32</th><th>float32</th><th>float32</th><th>float32</th><th>float32</th><th>float32</th><th>float32</th><th>float32</th><th>float32</th><th>int64</th><th>float32</th><th>float32</th><th>float32</th><th>float32</th><th>float32</th><th>float32</th><th>object</th></tr></thead>\n",
       "<tr><td>0.0026034636994048854</td><td>1635721458409799680</td><td>Gaia DR2 6636090334814214528</td><td>6636090334814214528</td><td>1176213019</td><td>2015.5</td><td>280.0002535109784</td><td>0.29861262266219235</td><td>-60.00259470935402</td><td>0.3286090424553563</td><td>-0.3110984894867886</td><td>0.4659006859423401</td><td>-0.66773564</td><td>-0.3829646819799206</td><td>0.5485869545050303</td><td>-6.494624923325772</td><td>0.5631744832783001</td><td>0.14009339</td><td>-0.032677036</td><td>-0.040756915</td><td>0.1848471</td><td>-0.24814793</td><td>0.25431943</td><td>-0.020390274</td><td>-0.41731763</td><td>-0.023678254</td><td>0.053505838</td><td>273</td><td>0</td><td>272</td><td>1</td><td>2.0634625</td><td>316.8305</td><td>0.8687575596881527</td><td>0.8324284930248446</td><td>31</td><td>False</td><td>0.08247371</td><td>1.5682945669210009</td><td>0.10173123960452841</td><td>0.09272486</td><td>31</td><td>14</td><td>0.5277922</td><td>0</td><td>32</td><td>False</td><td>277</td><td>229.27686620684315</td><td>1.1770479415122068</td><td>194.78975</td><td>19.787466</td><td>29</td><td>132.09798809841195</td><td>9.236134667236668</td><td>14.302302</td><td>20.049149</td><td>25</td><td>169.83721262885817</td><td>6.933962725221738</td><td>24.493528</td><td>19.186838</td><td>1.3169022</td><td>0</td><td>0.8623104</td><td>0.2616825</td><td>0.6006279</td><td>--</td><td>--</td><td>0</td><td>--</td><td>--</td><td>--</td><td>NOT_AVAILABLE</td><td>335.4869899853897</td><td>-21.882743330467846</td><td>276.222852405146</td><td>-36.779152165694725</td><td>--</td><td>--</td><td>--</td><td>--</td><td>--</td><td>--</td><td>--</td><td>--</td><td>--</td><td>--</td><td>--</td><td>--</td><td>--</td><td>--</td><td>--</td><td>--</td><td>--</td><td>https://gea.esac.esa.int/data-server/datalink/links?ID=Gaia+DR2+6636090334814214528</td></tr>\n",
       "<tr><td>0.0038518741347606357</td><td>1635721458409799680</td><td>Gaia DR2 6636090339113063296</td><td>6636090339113063296</td><td>570813457</td><td>2015.5</td><td>280.0051165709225</td><td>0.050240754418698456</td><td>-59.9971106177236</td><td>0.05569779779421987</td><td>2.1445897979735338</td><td>0.08686626499655296</td><td>24.688408</td><td>-30.239136112439823</td><td>0.09715628380624572</td><td>7.29370185769282</td><td>0.0908715196903835</td><td>-0.0498363</td><td>0.11446786</td><td>-0.18721049</td><td>0.35760036</td><td>-0.4172074</td><td>0.47041324</td><td>-0.055835903</td><td>-0.5549303</td><td>0.14921485</td><td>-0.123301156</td><td>264</td><td>0</td><td>262</td><td>2</td><td>2.5903792</td><td>319.54343</td><td>0.2221438529687765</td><td>2.164099682113238</td><td>31</td><td>False</td><td>3.5670664</td><td>1.4180211041511326</td><td>0.015143605381231719</td><td>0.07440901</td><td>30</td><td>14</td><td>0.10592062</td><td>0</td><td>31</td><td>False</td><td>256</td><td>4190.134904536919</td><td>3.2053909995733343</td><td>1307.215</td><td>16.632795</td><td>27</td><td>1280.5501396270038</td><td>8.934403906995241</td><td>143.32799</td><td>17.582897</td><td>25</td><td>4354.193392244988</td><td>10.443625853844335</td><td>416.92352</td><td>15.664651</td><td>1.3447642</td><td>1</td><td>1.9182463</td><td>0.95010185</td><td>0.9681444</td><td>--</td><td>--</td><td>0</td><td>--</td><td>--</td><td>--</td><td>NOT_AVAILABLE</td><td>335.49340340182914</td><td>-21.883498064512462</td><td>276.2264674062974</td><td>-36.773898257890345</td><td>100002</td><td>3817.0</td><td>3770.0</td><td>4162.607</td><td>0.185</td><td>0.1696</td><td>0.4096</td><td>0.0985</td><td>0.092</td><td>0.212</td><td>200111</td><td>0.59558856</td><td>0.5007949</td><td>0.6105314</td><td>0.067838475</td><td>0.062135242</td><td>0.07354171</td><td>https://gea.esac.esa.int/data-server/datalink/links?ID=Gaia+DR2+6636090339113063296</td></tr>\n",
       "<tr><td>0.00454542650096783</td><td>1635721458409799680</td><td>Gaia DR2 6636090334814217600</td><td>6636090334814217600</td><td>102584636</td><td>2015.5</td><td>279.9946988287492</td><td>0.16521426375353068</td><td>-59.99630486171416</td><td>0.1864237689240485</td><td>0.9688155923687815</td><td>0.25043900586680284</td><td>3.8684692</td><td>-8.897375357008787</td><td>0.294858050065901</td><td>-5.690908690922628</td><td>0.33715022074415335</td><td>0.22834745</td><td>0.059250645</td><td>-0.018428234</td><td>0.28630736</td><td>-0.1463257</td><td>0.290733</td><td>0.03628694</td><td>-0.37959772</td><td>0.08093054</td><td>0.14127383</td><td>265</td><td>0</td><td>264</td><td>1</td><td>2.0693033</td><td>308.25958</td><td>0.2736939576560081</td><td>0.2693460152739884</td><td>31</td><td>False</td><td>0.29089886</td><td>1.531518591660576</td><td>0.05314535440198931</td><td>0.10847712</td><td>30</td><td>13</td><td>0.3106436</td><td>0</td><td>31</td><td>False</td><td>264</td><td>540.7628811935804</td><td>1.5038294542703214</td><td>359.59058</td><td>18.855848</td><td>26</td><td>263.87029576623746</td><td>8.27411779082986</td><td>31.891048</td><td>19.297913</td><td>25</td><td>415.03082241130414</td><td>10.463021527480453</td><td>39.66644</td><td>18.216719</td><td>1.2554506</td><td>0</td><td>1.0811939</td><td>0.4420643</td><td>0.63912964</td><td>--</td><td>--</td><td>0</td><td>--</td><td>--</td><td>--</td><td>NOT_AVAILABLE</td><td>335.49262313244355</td><td>-21.87827669307047</td><td>276.22007485384535</td><td>-36.77264628739062</td><td>--</td><td>--</td><td>--</td><td>--</td><td>--</td><td>--</td><td>--</td><td>--</td><td>--</td><td>--</td><td>--</td><td>--</td><td>--</td><td>--</td><td>--</td><td>--</td><td>--</td><td>https://gea.esac.esa.int/data-server/datalink/links?ID=Gaia+DR2+6636090334814217600</td></tr>\n",
       "<tr><td>0.005613919443965546</td><td>1635721458409799680</td><td>Gaia DR2 6636089583198816640</td><td>6636089583198816640</td><td>443622133</td><td>2015.5</td><td>280.0061790343958</td><td>0.05441021212190176</td><td>-60.00468454774671</td><td>0.057729908687098624</td><td>0.3848214098919721</td><td>0.08511268516638217</td><td>4.5213165</td><td>-3.563092214017404</td><td>0.10056435871142261</td><td>-2.2298480170787394</td><td>0.09783062609649834</td><td>0.061263476</td><td>-0.025290672</td><td>-0.11330936</td><td>0.31169647</td><td>-0.30488747</td><td>0.3796179</td><td>-0.031975456</td><td>-0.44397</td><td>0.034300722</td><td>-0.037382763</td><td>283</td><td>0</td><td>282</td><td>1</td><td>1.3032827</td><td>308.10568</td><td>0.1029594770822604</td><td>0.3304635241126054</td><td>31</td><td>False</td><td>2.6840675</td><td>1.5823565656833896</td><td>0.01668581277784067</td><td>0.08774646</td><td>32</td><td>14</td><td>0.10237216</td><td>0</td><td>34</td><td>False</td><td>287</td><td>2883.6776080044506</td><td>2.274241920332662</td><td>1267.9731</td><td>17.0385</td><td>31</td><td>1470.87591559009</td><td>10.833687428734049</td><td>135.76872</td><td>17.432447</td><td>29</td><td>2068.8599924123996</td><td>13.25709677129947</td><td>156.0568</td><td>16.472591</td><td>1.2275075</td><td>0</td><td>0.95985603</td><td>0.3939476</td><td>0.56590843</td><td>--</td><td>--</td><td>0</td><td>--</td><td>--</td><td>--</td><td>NOT_AVAILABLE</td><td>335.485749082865</td><td>-21.886180995971543</td><td>276.2263122340009</td><td>-36.781489776872135</td><td>100001</td><td>5397.0</td><td>5146.75</td><td>5947.043</td><td>0.2878</td><td>0.1665</td><td>0.4416</td><td>0.1542</td><td>0.0919</td><td>0.2241</td><td>--</td><td>--</td><td>--</td><td>--</td><td>--</td><td>--</td><td>--</td><td>https://gea.esac.esa.int/data-server/datalink/links?ID=Gaia+DR2+6636089583198816640</td></tr>\n",
       "<tr><td>0.005846434715822121</td><td>1635721458409799680</td><td>Gaia DR2 6636090334814218752</td><td>6636090334814218752</td><td>979091127</td><td>2015.5</td><td>280.0012742664815</td><td>0.6195434505729727</td><td>-59.99418201693997</td><td>0.6602070192156307</td><td>0.13277662381509203</td><td>0.8198713929944924</td><td>0.16194811</td><td>-3.0991244661770523</td><td>1.1446472725602228</td><td>-5.224706056622109</td><td>1.2047901077087704</td><td>0.111432716</td><td>0.12733132</td><td>-0.42034313</td><td>0.29454312</td><td>-0.0051340405</td><td>0.23694518</td><td>-0.17427506</td><td>-0.28196156</td><td>0.06255718</td><td>-0.07205836</td><td>206</td><td>0</td><td>206</td><td>0</td><td>-0.01708596</td><td>199.99245</td><td>0.0</td><td>0.0</td><td>31</td><td>False</td><td>0.031961173</td><td>1.580528281067667</td><td>0.19323888061259817</td><td>0.08293943</td><td>24</td><td>12</td><td>1.1451857</td><td>0</td><td>25</td><td>False</td><td>212</td><td>134.84543452997033</td><td>1.108395799367378</td><td>121.658195</td><td>20.363775</td><td>18</td><td>94.74472975193129</td><td>12.496218229090562</td><td>7.581872</td><td>20.41</td><td>19</td><td>154.37504376916712</td><td>14.271717770256386</td><td>10.816851</td><td>19.290478</td><td>1.8474468</td><td>0</td><td>1.1195221</td><td>0.046224594</td><td>1.0732975</td><td>--</td><td>--</td><td>0</td><td>--</td><td>--</td><td>--</td><td>NOT_AVAILABLE</td><td>335.4958320132907</td><td>-21.88081671673665</td><td>276.2243930202022</td><td>-36.7708148342809</td><td>--</td><td>--</td><td>--</td><td>--</td><td>--</td><td>--</td><td>--</td><td>--</td><td>--</td><td>--</td><td>--</td><td>--</td><td>--</td><td>--</td><td>--</td><td>--</td><td>--</td><td>https://gea.esac.esa.int/data-server/datalink/links?ID=Gaia+DR2+6636090334814218752</td></tr>\n",
       "<tr><td>0.006209042666371929</td><td>1635721458409799680</td><td>Gaia DR2 6636090334814213632</td><td>6636090334814213632</td><td>132293776</td><td>2015.5</td><td>279.99130734078676</td><td>0.20253705277688275</td><td>-60.00442412587195</td><td>0.22243093125093147</td><td>0.22548834238373403</td><td>0.3149116832364701</td><td>0.71603674</td><td>-5.0841858830066196</td><td>0.3658660399607021</td><td>-9.28105696889515</td><td>0.3887147839192824</td><td>0.16654298</td><td>0.012625698</td><td>-0.041161086</td><td>0.26023406</td><td>-0.22603968</td><td>0.30183074</td><td>0.03700514</td><td>-0.40738112</td><td>0.056747817</td><td>0.07558889</td><td>267</td><td>0</td><td>267</td><td>0</td><td>2.8017168</td><td>330.73035</td><td>0.8136352878573919</td><td>1.7167726951827935</td><td>31</td><td>False</td><td>0.18997745</td><td>1.5473340878135693</td><td>0.06544165310657518</td><td>0.112318404</td><td>31</td><td>14</td><td>0.3592653</td><td>0</td><td>32</td><td>False</td><td>271</td><td>421.39242054351877</td><td>1.1451519874745826</td><td>367.97946</td><td>19.12665</td><td>29</td><td>156.3519362018381</td><td>7.11912255121175</td><td>21.962248</td><td>19.86613</td><td>29</td><td>418.0171531386287</td><td>6.839510954210813</td><td>61.11799</td><td>18.208935</td><td>1.3630266</td><td>0</td><td>1.657196</td><td>0.739481</td><td>0.9177151</td><td>--</td><td>--</td><td>0</td><td>--</td><td>--</td><td>--</td><td>NOT_AVAILABLE</td><td>335.48371750563587</td><td>-21.878984439223885</td><td>276.2170921056182</td><td>-36.78058921460378</td><td>--</td><td>--</td><td>--</td><td>--</td><td>--</td><td>--</td><td>--</td><td>--</td><td>--</td><td>--</td><td>--</td><td>--</td><td>--</td><td>--</td><td>--</td><td>--</td><td>--</td><td>https://gea.esac.esa.int/data-server/datalink/links?ID=Gaia+DR2+6636090334814213632</td></tr>\n",
       "<tr><td>0.007469463683838576</td><td>1635721458409799680</td><td>Gaia DR2 6636090339112308864</td><td>6636090339112308864</td><td>1584739981</td><td>2015.5</td><td>279.98842013364975</td><td>21.620294007116634</td><td>-60.00470815431409</td><td>8.67546594157327</td><td>--</td><td>--</td><td>--</td><td>--</td><td>--</td><td>--</td><td>--</td><td>-0.9218922</td><td>--</td><td>--</td><td>--</td><td>--</td><td>--</td><td>--</td><td>--</td><td>--</td><td>--</td><td>40</td><td>0</td><td>40</td><td>0</td><td>0.73331904</td><td>40.75849</td><td>0.0</td><td>0.0</td><td>3</td><td>False</td><td>0.011442242</td><td>--</td><td>--</td><td>-0.15453008</td><td>5</td><td>5</td><td>81.43395</td><td>0</td><td>5</td><td>False</td><td>42</td><td>65.7200741976643</td><td>1.7074324302380046</td><td>38.490585</td><td>21.144121</td><td>0</td><td>--</td><td>--</td><td>--</td><td>--</td><td>0</td><td>--</td><td>--</td><td>--</td><td>--</td><td>--</td><td>1</td><td>--</td><td>--</td><td>--</td><td>--</td><td>--</td><td>0</td><td>--</td><td>--</td><td>--</td><td>NOT_AVAILABLE</td><td>335.4829775550235</td><td>-21.877683443510964</td><td>276.215266101501</td><td>-36.780747831133674</td><td>--</td><td>--</td><td>--</td><td>--</td><td>--</td><td>--</td><td>--</td><td>--</td><td>--</td><td>--</td><td>--</td><td>--</td><td>--</td><td>--</td><td>--</td><td>--</td><td>--</td><td>https://gea.esac.esa.int/data-server/datalink/links?ID=Gaia+DR2+6636090339112308864</td></tr>\n",
       "<tr><td>0.008202004514524316</td><td>1635721458409799680</td><td>Gaia DR2 6636089583198816512</td><td>6636089583198816512</td><td>464575439</td><td>2015.5</td><td>280.00262438610275</td><td>0.039726038755539664</td><td>-60.00809123083787</td><td>0.042345975034544445</td><td>0.4775669513610416</td><td>0.061869821376390584</td><td>7.7188997</td><td>0.3750159731029641</td><td>0.07340472446096626</td><td>-0.7276330587297051</td><td>0.07165400702741247</td><td>0.053667903</td><td>-0.021911291</td><td>-0.14724973</td><td>0.31765592</td><td>-0.30830762</td><td>0.38585457</td><td>-0.081598364</td><td>-0.44672582</td><td>0.02773344</td><td>-0.046839394</td><td>277</td><td>0</td><td>277</td><td>0</td><td>-0.1670186</td><td>267.4633</td><td>0.0</td><td>0.0</td><td>31</td><td>False</td><td>5.2608852</td><td>1.5847503397030758</td><td>0.012163895386843754</td><td>0.08590585</td><td>32</td><td>14</td><td>0.077374995</td><td>0</td><td>33</td><td>False</td><td>280</td><td>4961.794960538018</td><td>3.197194570226844</td><td>1551.9215</td><td>16.449268</td><td>31</td><td>2565.1495289035665</td><td>12.009980749336867</td><td>213.58482</td><td>16.828606</td><td>32</td><td>3499.2999847827164</td><td>10.725598956525726</td><td>326.25684</td><td>15.901967</td><td>1.222229</td><td>0</td><td>0.9266386</td><td>0.3793373</td><td>0.5473013</td><td>--</td><td>--</td><td>0</td><td>--</td><td>--</td><td>--</td><td>NOT_AVAILABLE</td><td>335.4816826268837</td><td>-21.885456599728546</td><td>276.2237347996592</td><td>-36.7847304353993</td><td>100001</td><td>5364.02</td><td>5035.3604</td><td>5492.0</td><td>0.265</td><td>0.1202</td><td>0.413</td><td>0.1275</td><td>0.0563</td><td>0.204</td><td>200111</td><td>1.0937419</td><td>1.043361</td><td>1.2411792</td><td>0.89224875</td><td>0.6450995</td><td>1.139398</td><td>https://gea.esac.esa.int/data-server/datalink/links?ID=Gaia+DR2+6636089583198816512</td></tr>\n",
       "<tr><td>0.008338509690874027</td><td>1635721458409799680</td><td>Gaia DR2 6636089583198817664</td><td>6636089583198817664</td><td>592524481</td><td>2015.5</td><td>279.9998107818377</td><td>0.05511798988415832</td><td>-60.00833203802401</td><td>0.05883843479590986</td><td>0.38740920252385763</td><td>0.08711194279350623</td><td>4.447257</td><td>-0.7313230678372126</td><td>0.10168876734064976</td><td>-5.979741858993584</td><td>0.09940346904786362</td><td>0.06471813</td><td>-0.023309276</td><td>-0.1159015</td><td>0.3020962</td><td>-0.30216327</td><td>0.37166274</td><td>-0.04370218</td><td>-0.44925803</td><td>0.026587216</td><td>-0.03114987</td><td>285</td><td>0</td><td>284</td><td>1</td><td>-0.15700488</td><td>274.6474</td><td>0.0</td><td>0.0</td><td>31</td><td>False</td><td>2.5746384</td><td>1.5579808667847004</td><td>0.017287238747024175</td><td>0.08888473</td><td>32</td><td>14</td><td>0.10354039</td><td>0</td><td>33</td><td>False</td><td>283</td><td>2705.093836219762</td><td>2.1908188005924307</td><td>1234.741</td><td>17.10791</td><td>31</td><td>1370.7198818249863</td><td>8.001633035571205</td><td>171.30502</td><td>17.509016</td><td>30</td><td>1959.8770649981336</td><td>11.385850706149842</td><td>172.13269</td><td>16.531347</td><td>1.2312316</td><td>0</td><td>0.97766876</td><td>0.40110588</td><td>0.5765629</td><td>--</td><td>--</td><td>0</td><td>--</td><td>--</td><td>--</td><td>NOT_AVAILABLE</td><td>335.48099895015224</td><td>-21.88417846638651</td><td>276.2219592980502</td><td>-36.784849029954394</td><td>--</td><td>--</td><td>--</td><td>--</td><td>--</td><td>--</td><td>--</td><td>--</td><td>--</td><td>--</td><td>--</td><td>--</td><td>--</td><td>--</td><td>--</td><td>--</td><td>--</td><td>https://gea.esac.esa.int/data-server/datalink/links?ID=Gaia+DR2+6636089583198817664</td></tr>\n",
       "<tr><td>0.008406677772258921</td><td>1635721458409799680</td><td>Gaia DR2 6636089578899968384</td><td>6636089578899968384</td><td>492085733</td><td>2015.5</td><td>280.00649302125817</td><td>0.06710839550230979</td><td>-60.00775066883454</td><td>0.07045574960595188</td><td>0.022547086590988363</td><td>0.10006223136047175</td><td>0.22533064</td><td>-3.18018955630426</td><td>0.1250777538398785</td><td>-6.2202785800405636</td><td>0.121744720570928</td><td>0.12595165</td><td>-0.02172493</td><td>-0.019993955</td><td>0.37812632</td><td>-0.28911775</td><td>0.43174306</td><td>0.049433675</td><td>-0.4143925</td><td>0.03082818</td><td>0.060391814</td><td>276</td><td>0</td><td>274</td><td>2</td><td>1.6210555</td><td>307.64954</td><td>0.20571142260840478</td><td>0.9800169466835272</td><td>31</td><td>False</td><td>1.9205421</td><td>1.5800331734303537</td><td>0.02021396170942339</td><td>0.10360145</td><td>31</td><td>14</td><td>0.12514876</td><td>0</td><td>31</td><td>False</td><td>269</td><td>2295.326896489484</td><td>2.1937492957631606</td><td>1046.3032</td><td>17.286255</td><td>28</td><td>1135.8950360484919</td><td>6.672419788128545</td><td>170.23735</td><td>17.713043</td><td>28</td><td>1657.1358320057093</td><td>10.42139551320981</td><td>159.01285</td><td>16.713524</td><td>1.2168336</td><td>0</td><td>0.99951935</td><td>0.42678833</td><td>0.572731</td><td>--</td><td>--</td><td>0</td><td>--</td><td>--</td><td>--</td><td>NOT_AVAILABLE</td><td>335.4826323588352</td><td>-21.887211342008424</td><td>276.2261771110367</td><td>-36.7845580050865</td><td>--</td><td>--</td><td>--</td><td>--</td><td>--</td><td>--</td><td>--</td><td>--</td><td>--</td><td>--</td><td>--</td><td>--</td><td>--</td><td>--</td><td>--</td><td>--</td><td>--</td><td>https://gea.esac.esa.int/data-server/datalink/links?ID=Gaia+DR2+6636089578899968384</td></tr>\n",
       "<tr><td>0.009242573682910949</td><td>1635721458409799680</td><td>Gaia DR2 6636090339110121344</td><td>6636090339110121344</td><td>602307608</td><td>2015.5</td><td>280.00433515937596</td><td>0.7482850412436034</td><td>-59.99100829486139</td><td>0.8445246245121193</td><td>1.307377132870144</td><td>1.134936759430921</td><td>1.1519383</td><td>-5.532918498015798</td><td>1.3441928606872593</td><td>-4.088325174639966</td><td>1.5623857511025916</td><td>0.15221022</td><td>0.027589079</td><td>-0.11329153</td><td>0.2975198</td><td>-0.13620505</td><td>0.28276792</td><td>0.047392976</td><td>-0.3566264</td><td>0.038565688</td><td>0.0217141</td><td>231</td><td>0</td><td>229</td><td>2</td><td>9.791426</td><td>500.59015</td><td>5.3922443194015335</td><td>9.899110796235655</td><td>31</td><td>False</td><td>0.015939433</td><td>1.595578846414825</td><td>0.22557661954354463</td><td>0.081423186</td><td>27</td><td>13</td><td>1.3950444</td><td>0</td><td>28</td><td>False</td><td>237</td><td>141.27370266940727</td><td>1.1483753954515288</td><td>123.02049</td><td>20.313213</td><td>21</td><td>61.01053389701405</td><td>11.09649433487977</td><td>5.498181</td><td>20.887877</td><td>22</td><td>201.7150747199588</td><td>10.730701814412013</td><td>18.79794</td><td>19.000074</td><td>1.8596922</td><td>0</td><td>1.8878021</td><td>0.57466316</td><td>1.313139</td><td>--</td><td>--</td><td>0</td><td>--</td><td>--</td><td>--</td><td>NOT_AVAILABLE</td><td>335.4995817705404</td><td>-21.881371745925872</td><td>276.22663859770176</td><td>-36.76778497355446</td><td>--</td><td>--</td><td>--</td><td>--</td><td>--</td><td>--</td><td>--</td><td>--</td><td>--</td><td>--</td><td>--</td><td>--</td><td>--</td><td>--</td><td>--</td><td>--</td><td>--</td><td>https://gea.esac.esa.int/data-server/datalink/links?ID=Gaia+DR2+6636090339110121344</td></tr>\n",
       "<tr><td>0.009787663823774304</td><td>1635721458409799680</td><td>Gaia DR2 6636089578899966848</td><td>6636089578899966848</td><td>516736702</td><td>2015.5</td><td>279.9919287127086</td><td>0.08899832691287564</td><td>-60.00890927033674</td><td>0.0972275634306699</td><td>0.06716730170649236</td><td>0.139089143701113</td><td>0.4829083</td><td>5.486321182401828</td><td>0.1639362013860661</td><td>-7.087622894230596</td><td>0.16509016341246674</td><td>0.09437159</td><td>-0.005603739</td><td>-0.09378084</td><td>0.22205316</td><td>-0.28218967</td><td>0.30370823</td><td>-0.10611615</td><td>-0.44699472</td><td>0.010090342</td><td>0.011846527</td><td>266</td><td>0</td><td>264</td><td>2</td><td>0.18456648</td><td>262.55008</td><td>0.0</td><td>0.0</td><td>31</td><td>False</td><td>0.99612635</td><td>1.6026753555105306</td><td>0.029054883337570704</td><td>0.07772017</td><td>30</td><td>14</td><td>0.16107333</td><td>0</td><td>31</td><td>False</td><td>267</td><td>1272.395946290744</td><td>1.6164770320067263</td><td>787.14136</td><td>17.92681</td><td>24</td><td>615.1008752376966</td><td>9.491790464004879</td><td>64.80346</td><td>18.379023</td><td>27</td><td>956.6225668941438</td><td>9.002818289979974</td><td>106.258125</td><td>17.310068</td><td>1.2352471</td><td>0</td><td>1.0689545</td><td>0.4522133</td><td>0.6167412</td><td>--</td><td>--</td><td>0</td><td>--</td><td>--</td><td>--</td><td>NOT_AVAILABLE</td><td>335.4791839660699</td><td>-21.880570105010484</td><td>276.21699593292095</td><td>-36.7850844426031</td><td>--</td><td>--</td><td>--</td><td>--</td><td>--</td><td>--</td><td>--</td><td>--</td><td>--</td><td>--</td><td>--</td><td>--</td><td>--</td><td>--</td><td>--</td><td>--</td><td>--</td><td>https://gea.esac.esa.int/data-server/datalink/links?ID=Gaia+DR2+6636089578899966848</td></tr>\n",
       "<tr><td>0.01039459914206257</td><td>1635721458409799680</td><td>Gaia DR2 6636089578899967616</td><td>6636089578899967616</td><td>1658715490</td><td>2015.5</td><td>280.01223817985436</td><td>0.2816873450855268</td><td>-60.00840060478337</td><td>0.2962978247384536</td><td>1.0270991770921358</td><td>0.4077190780877552</td><td>2.5191345</td><td>1.5574005539859732</td><td>0.524256510500725</td><td>-11.686054006894437</td><td>0.5215470549391712</td><td>0.15322167</td><td>-0.09283294</td><td>-0.019448476</td><td>0.31227294</td><td>-0.22493973</td><td>0.34839574</td><td>0.026024705</td><td>-0.35044917</td><td>-0.05867153</td><td>0.065058954</td><td>255</td><td>0</td><td>255</td><td>0</td><td>2.2517867</td><td>303.04895</td><td>0.7769026436750658</td><td>0.7769723246280201</td><td>31</td><td>False</td><td>0.11016488</td><td>1.388192825273842</td><td>0.0904850544078349</td><td>0.095663294</td><td>29</td><td>14</td><td>0.50202143</td><td>0</td><td>29</td><td>False</td><td>252</td><td>274.9626287786892</td><td>1.0232466489863776</td><td>268.71588</td><td>19.590181</td><td>25</td><td>82.68617762530734</td><td>6.172710596283257</td><td>13.39544</td><td>20.557806</td><td>25</td><td>337.73883925158447</td><td>9.679500661182754</td><td>34.892178</td><td>18.440468</td><td>1.529026</td><td>0</td><td>2.1173382</td><td>0.96762466</td><td>1.1497135</td><td>--</td><td>--</td><td>0</td><td>--</td><td>--</td><td>--</td><td>NOT_AVAILABLE</td><td>335.48284949424993</td><td>-21.890148943908358</td><td>276.22967953641137</td><td>-36.785453432246676</td><td>--</td><td>--</td><td>--</td><td>--</td><td>--</td><td>--</td><td>--</td><td>--</td><td>--</td><td>--</td><td>--</td><td>--</td><td>--</td><td>--</td><td>--</td><td>--</td><td>--</td><td>https://gea.esac.esa.int/data-server/datalink/links?ID=Gaia+DR2+6636089578899967616</td></tr>\n",
       "<tr><td>0.01060705182801258</td><td>1635721458409799680</td><td>Gaia DR2 6636090403533698688</td><td>6636090403533698688</td><td>1015930100</td><td>2015.5</td><td>279.99921188110227</td><td>0.060346055636768384</td><td>-59.98939455859655</td><td>0.06584127847889644</td><td>0.3733047291626744</td><td>0.09726995774331934</td><td>3.8378215</td><td>3.4740189002900324</td><td>0.11201137761247357</td><td>-2.45266135635827</td><td>0.11328333439310631</td><td>0.03550945</td><td>-0.012408379</td><td>-0.107869886</td><td>0.27060977</td><td>-0.3179803</td><td>0.34118667</td><td>0.025823427</td><td>-0.4365382</td><td>-0.0004883101</td><td>-0.06546732</td><td>267</td><td>0</td><td>265</td><td>2</td><td>0.509592</td><td>271.10837</td><td>0.0</td><td>0.0</td><td>31</td><td>False</td><td>2.1916456</td><td>1.5930749269485054</td><td>0.018914098717375687</td><td>0.07461289</td><td>30</td><td>14</td><td>0.1133757</td><td>0</td><td>31</td><td>False</td><td>269</td><td>2376.061556200096</td><td>2.0944563122544624</td><td>1134.4526</td><td>17.248722</td><td>30</td><td>1247.0131084012253</td><td>8.37716066325855</td><td>148.85869</td><td>17.611712</td><td>30</td><td>1674.2991905764013</td><td>10.697083690462136</td><td>156.51923</td><td>16.702337</td><td>1.2294767</td><td>0</td><td>0.90937424</td><td>0.36298943</td><td>0.5463848</td><td>--</td><td>--</td><td>0</td><td>--</td><td>--</td><td>--</td><td>NOT_AVAILABLE</td><td>335.5004545695785</td><td>-21.878453862585125</td><td>276.22362555438076</td><td>-36.765956266589164</td><td>--</td><td>--</td><td>--</td><td>--</td><td>--</td><td>--</td><td>--</td><td>--</td><td>--</td><td>--</td><td>--</td><td>--</td><td>--</td><td>--</td><td>--</td><td>--</td><td>--</td><td>https://gea.esac.esa.int/data-server/datalink/links?ID=Gaia+DR2+6636090403533698688</td></tr>\n",
       "<tr><td>...</td><td>...</td><td>...</td><td>...</td><td>...</td><td>...</td><td>...</td><td>...</td><td>...</td><td>...</td><td>...</td><td>...</td><td>...</td><td>...</td><td>...</td><td>...</td><td>...</td><td>...</td><td>...</td><td>...</td><td>...</td><td>...</td><td>...</td><td>...</td><td>...</td><td>...</td><td>...</td><td>...</td><td>...</td><td>...</td><td>...</td><td>...</td><td>...</td><td>...</td><td>...</td><td>...</td><td>...</td><td>...</td><td>...</td><td>...</td><td>...</td><td>...</td><td>...</td><td>...</td><td>...</td><td>...</td><td>...</td><td>...</td><td>...</td><td>...</td><td>...</td><td>...</td><td>...</td><td>...</td><td>...</td><td>...</td><td>...</td><td>...</td><td>...</td><td>...</td><td>...</td><td>...</td><td>...</td><td>...</td><td>...</td><td>...</td><td>...</td><td>...</td><td>...</td><td>...</td><td>...</td><td>...</td><td>...</td><td>...</td><td>...</td><td>...</td><td>...</td><td>...</td><td>...</td><td>...</td><td>...</td><td>...</td><td>...</td><td>...</td><td>...</td><td>...</td><td>...</td><td>...</td><td>...</td><td>...</td><td>...</td><td>...</td><td>...</td><td>...</td><td>...</td><td>...</td></tr>\n",
       "<tr><td>0.01737196890379023</td><td>1635721458409799680</td><td>Gaia DR2 6636089578900242432</td><td>6636089578900242432</td><td>109966636</td><td>2015.5</td><td>279.9946198657256</td><td>0.15610963641183948</td><td>-60.01715594549361</td><td>0.17527393090677176</td><td>0.30307097509191094</td><td>0.2381181827678622</td><td>1.2727754</td><td>-11.00421844174364</td><td>0.289587358824995</td><td>1.8108180561257128</td><td>0.302507161681924</td><td>0.12891114</td><td>-0.004372644</td><td>-0.036241706</td><td>0.14588097</td><td>-0.23172279</td><td>0.22399592</td><td>-0.08565224</td><td>-0.41962147</td><td>-0.021895936</td><td>0.028417192</td><td>264</td><td>0</td><td>263</td><td>1</td><td>-0.7922622</td><td>239.783</td><td>0.0</td><td>0.0</td><td>31</td><td>False</td><td>0.3023684</td><td>1.4755085483236667</td><td>0.05264809891393007</td><td>0.10217893</td><td>30</td><td>14</td><td>0.27557206</td><td>0</td><td>31</td><td>False</td><td>269</td><td>539.0123668174148</td><td>1.2948714437960294</td><td>416.2671</td><td>18.85937</td><td>24</td><td>268.7109980901393</td><td>7.501863029076482</td><td>35.819237</td><td>19.278175</td><td>23</td><td>418.13257113650536</td><td>12.009872494735722</td><td>34.81574</td><td>18.208635</td><td>1.2742631</td><td>0</td><td>1.06954</td><td>0.41880608</td><td>0.65073395</td><td>--</td><td>--</td><td>0</td><td>--</td><td>--</td><td>--</td><td>NOT_AVAILABLE</td><td>335.47108741984266</td><td>-21.8842264254366</td><td>276.21778164481896</td><td>-36.793416361188264</td><td>--</td><td>--</td><td>--</td><td>--</td><td>--</td><td>--</td><td>--</td><td>--</td><td>--</td><td>--</td><td>--</td><td>--</td><td>--</td><td>--</td><td>--</td><td>--</td><td>--</td><td>https://gea.esac.esa.int/data-server/datalink/links?ID=Gaia+DR2+6636089578900242432</td></tr>\n",
       "<tr><td>0.01747850362437053</td><td>1635721458409799680</td><td>Gaia DR2 6636090369174230656</td><td>6636090369174230656</td><td>232631831</td><td>2015.5</td><td>280.02583944534945</td><td>0.5398211126445641</td><td>-59.98821974601422</td><td>0.5793170717514408</td><td>-0.8747195274641192</td><td>0.7054240273305797</td><td>-1.2399911</td><td>-1.4689548511493917</td><td>1.0085290742842306</td><td>-9.696078144824828</td><td>1.0882388392341824</td><td>-0.10033878</td><td>-0.17395364</td><td>-0.35249195</td><td>0.36139414</td><td>-0.010016266</td><td>0.3321359</td><td>-0.37722912</td><td>-0.21469821</td><td>-0.17236629</td><td>-0.23973092</td><td>226</td><td>0</td><td>224</td><td>2</td><td>-0.5620972</td><td>206.8032</td><td>0.0</td><td>0.0</td><td>31</td><td>False</td><td>0.037599918</td><td>1.6625435457803193</td><td>0.16634477349642382</td><td>0.025588738</td><td>26</td><td>12</td><td>1.1012876</td><td>0</td><td>27</td><td>False</td><td>234</td><td>134.8887420512571</td><td>0.9902506013377204</td><td>136.21677</td><td>20.363426</td><td>24</td><td>76.08998522295825</td><td>9.273227694657862</td><td>8.205339</td><td>20.64807</td><td>24</td><td>141.2584481527147</td><td>12.277071142849362</td><td>11.505876</td><td>19.386885</td><td>1.6113163</td><td>0</td><td>1.2611847</td><td>0.28464317</td><td>0.9765415</td><td>--</td><td>--</td><td>0</td><td>--</td><td>--</td><td>--</td><td>NOT_AVAILABLE</td><td>335.50578698700235</td><td>-21.890874524011874</td><td>276.2403153537686</td><td>-36.7659356266496</td><td>--</td><td>--</td><td>--</td><td>--</td><td>--</td><td>--</td><td>--</td><td>--</td><td>--</td><td>--</td><td>--</td><td>--</td><td>--</td><td>--</td><td>--</td><td>--</td><td>--</td><td>https://gea.esac.esa.int/data-server/datalink/links?ID=Gaia+DR2+6636090369174230656</td></tr>\n",
       "<tr><td>0.017605525662679422</td><td>1635721458409799680</td><td>Gaia DR2 6636089613259710208</td><td>6636089613259710208</td><td>1558547673</td><td>2015.5</td><td>280.0351403079346</td><td>0.30290774467904763</td><td>-60.001183025104886</td><td>0.33223018384929165</td><td>-0.713847218446789</td><td>0.45844091175573387</td><td>-1.5571194</td><td>-2.3649070746366343</td><td>0.57222393121401</td><td>-8.333183945023379</td><td>0.5700034372694137</td><td>0.19209312</td><td>-0.06280771</td><td>0.0779023</td><td>0.23798582</td><td>-0.22895612</td><td>0.3025137</td><td>0.08035798</td><td>-0.43380132</td><td>0.015906617</td><td>0.12060885</td><td>251</td><td>0</td><td>250</td><td>1</td><td>-0.2536244</td><td>238.77264</td><td>0.0</td><td>0.0</td><td>31</td><td>False</td><td>0.08958638</td><td>1.327282434641086</td><td>0.0992560848775274</td><td>0.118225865</td><td>29</td><td>14</td><td>0.56261677</td><td>0</td><td>30</td><td>False</td><td>250</td><td>228.39706992380425</td><td>1.0448712206085138</td><td>218.58873</td><td>19.79164</td><td>27</td><td>135.9573891281581</td><td>8.215069349959391</td><td>16.549755</td><td>20.017881</td><td>24</td><td>177.85282710607683</td><td>10.930110419014635</td><td>16.271824</td><td>19.136768</td><td>1.3739678</td><td>0</td><td>0.88111305</td><td>0.22624207</td><td>0.654871</td><td>--</td><td>--</td><td>0</td><td>--</td><td>--</td><td>--</td><td>NOT_AVAILABLE</td><td>335.4938400829115</td><td>-21.899047602645357</td><td>276.24470042882473</td><td>-36.77925261671717</td><td>--</td><td>--</td><td>--</td><td>--</td><td>--</td><td>--</td><td>--</td><td>--</td><td>--</td><td>--</td><td>--</td><td>--</td><td>--</td><td>--</td><td>--</td><td>--</td><td>--</td><td>https://gea.esac.esa.int/data-server/datalink/links?ID=Gaia+DR2+6636089613259710208</td></tr>\n",
       "<tr><td>0.01824049579793165</td><td>1635721458409799680</td><td>Gaia DR2 6636090437893440640</td><td>6636090437893440640</td><td>801703576</td><td>2015.5</td><td>280.0137586451951</td><td>0.19590276591256658</td><td>-59.98309949035913</td><td>0.21444585527611373</td><td>-0.11216516472644668</td><td>0.290305606872777</td><td>-0.38636926</td><td>-4.980881980363562</td><td>0.34785901190349533</td><td>-4.620663420816837</td><td>0.39731397352869596</td><td>0.18231542</td><td>0.017008642</td><td>-0.048578437</td><td>0.32657</td><td>-0.13193868</td><td>0.31228608</td><td>0.13577846</td><td>-0.32488424</td><td>0.10539905</td><td>0.0673397</td><td>235</td><td>0</td><td>233</td><td>2</td><td>-0.083908685</td><td>225.55035</td><td>0.0</td><td>0.0</td><td>31</td><td>False</td><td>0.23950586</td><td>1.5678350863502102</td><td>0.06223985681997935</td><td>0.12533188</td><td>27</td><td>12</td><td>0.36287874</td><td>0</td><td>28</td><td>False</td><td>239</td><td>445.7924734896693</td><td>1.1973745877545492</td><td>372.3083</td><td>19.065535</td><td>26</td><td>261.4182641298271</td><td>10.384194304584893</td><td>25.174631</td><td>19.308048</td><td>24</td><td>306.48265464482927</td><td>7.397157006873783</td><td>41.43249</td><td>18.545906</td><td>1.2739133</td><td>0</td><td>0.7621422</td><td>0.24251366</td><td>0.5196285</td><td>--</td><td>--</td><td>0</td><td>--</td><td>--</td><td>--</td><td>NOT_AVAILABLE</td><td>335.50920415675876</td><td>-21.88361637331074</td><td>276.23335246670285</td><td>-36.760312455554825</td><td>--</td><td>--</td><td>--</td><td>--</td><td>--</td><td>--</td><td>--</td><td>--</td><td>--</td><td>--</td><td>--</td><td>--</td><td>--</td><td>--</td><td>--</td><td>--</td><td>--</td><td>https://gea.esac.esa.int/data-server/datalink/links?ID=Gaia+DR2+6636090437893440640</td></tr>\n",
       "<tr><td>0.01916481512715311</td><td>1635721458409799680</td><td>Gaia DR2 6636066935832392960</td><td>6636066935832392960</td><td>868336481</td><td>2015.5</td><td>279.96934313375635</td><td>2.1096141861636832</td><td>-59.98850023280993</td><td>1.6711145443900943</td><td>-1.099175622378983</td><td>1.8153870652858881</td><td>-0.6054773</td><td>-0.9429540987736611</td><td>2.849340596968693</td><td>-10.160495534956956</td><td>2.6218018665512903</td><td>0.49698305</td><td>-0.47174022</td><td>-0.52111036</td><td>0.104469106</td><td>-0.16097584</td><td>-0.04523571</td><td>-0.32231927</td><td>0.09295128</td><td>-0.13817841</td><td>0.25783792</td><td>107</td><td>0</td><td>107</td><td>0</td><td>-0.068396874</td><td>100.36524</td><td>0.0</td><td>0.0</td><td>31</td><td>False</td><td>0.016137226</td><td>1.9360030175525897</td><td>0.35612790792766386</td><td>0.29354843</td><td>12</td><td>7</td><td>2.991375</td><td>0</td><td>12</td><td>False</td><td>107</td><td>93.54345060990232</td><td>1.4680272525406413</td><td>63.720512</td><td>20.760832</td><td>11</td><td>48.23148169697421</td><td>8.919210086234495</td><td>5.4075956</td><td>21.143063</td><td>9</td><td>72.84512705430079</td><td>10.504554097080907</td><td>6.9346232</td><td>20.105919</td><td>1.2943355</td><td>0</td><td>1.0371437</td><td>0.38223076</td><td>0.65491295</td><td>--</td><td>--</td><td>0</td><td>--</td><td>--</td><td>--</td><td>NOT_AVAILABLE</td><td>335.49675082694563</td><td>-21.86388779545562</td><td>276.20514229956007</td><td>-36.76377914461491</td><td>--</td><td>--</td><td>--</td><td>--</td><td>--</td><td>--</td><td>--</td><td>--</td><td>--</td><td>--</td><td>--</td><td>--</td><td>--</td><td>--</td><td>--</td><td>--</td><td>--</td><td>https://gea.esac.esa.int/data-server/datalink/links?ID=Gaia+DR2+6636066935832392960</td></tr>\n",
       "<tr><td>0.01943176697471851</td><td>1635721458409799680</td><td>Gaia DR2 6636089510180765312</td><td>6636089510180765312</td><td>960687191</td><td>2015.5</td><td>279.9984987690514</td><td>0.036139228306459534</td><td>-60.01941121526795</td><td>0.03817102040284788</td><td>1.122173070066209</td><td>0.054734468431102704</td><td>20.502129</td><td>-3.4863019891083553</td><td>0.0676119122239</td><td>-18.0938919620137</td><td>0.06584540293776998</td><td>-0.0072549055</td><td>0.009786117</td><td>-0.16408691</td><td>0.3365096</td><td>-0.30622572</td><td>0.39368996</td><td>-0.06758956</td><td>-0.41649765</td><td>0.035169747</td><td>-0.12965739</td><td>276</td><td>0</td><td>275</td><td>1</td><td>-0.5708931</td><td>256.30527</td><td>0.0</td><td>0.0</td><td>31</td><td>False</td><td>6.4206047</td><td>1.4933470666908617</td><td>0.011101324679512862</td><td>0.101149715</td><td>31</td><td>14</td><td>0.07309969</td><td>0</td><td>32</td><td>False</td><td>277</td><td>5959.052574909815</td><td>3.027517640830507</td><td>1968.2965</td><td>16.250423</td><td>29</td><td>2421.687801616719</td><td>8.123394355956979</td><td>298.1128</td><td>16.891092</td><td>29</td><td>5115.648333191188</td><td>9.113833128514074</td><td>561.3059</td><td>15.489668</td><td>1.2648548</td><td>0</td><td>1.4014244</td><td>0.64066887</td><td>0.76075554</td><td>--</td><td>--</td><td>0</td><td>--</td><td>--</td><td>--</td><td>NOT_AVAILABLE</td><td>335.46935892144035</td><td>-21.88673061711547</td><td>276.2199503772891</td><td>-36.79583037260172</td><td>100001</td><td>4770.0</td><td>4492.0</td><td>4934.0</td><td>0.439</td><td>0.1519</td><td>0.7261</td><td>0.1842</td><td>0.04</td><td>0.341</td><td>200111</td><td>0.684712</td><td>0.6399506</td><td>0.7720852</td><td>0.21866745</td><td>0.19552292</td><td>0.24181198</td><td>https://gea.esac.esa.int/data-server/datalink/links?ID=Gaia+DR2+6636089510180765312</td></tr>\n",
       "<tr><td>0.019464719601172412</td><td>1635721458409799680</td><td>Gaia DR2 6636066871411763712</td><td>6636066871411763712</td><td>1213720951</td><td>2015.5</td><td>279.96570191035033</td><td>0.12825899914214295</td><td>-60.00919807329876</td><td>0.14695157399610642</td><td>0.26924865953572424</td><td>0.21304030323214743</td><td>1.2638391</td><td>3.087281682195659</td><td>0.24398733011295826</td><td>-0.4783284242481249</td><td>0.24065779819980346</td><td>0.015762212</td><td>0.14832881</td><td>-0.1510548</td><td>0.22449382</td><td>-0.37918228</td><td>0.3569907</td><td>-0.15255931</td><td>-0.50847286</td><td>0.07669361</td><td>-0.031590678</td><td>264</td><td>0</td><td>264</td><td>0</td><td>-0.14998122</td><td>254.94121</td><td>0.0</td><td>0.0</td><td>31</td><td>False</td><td>0.47833973</td><td>1.5341730044303843</td><td>0.043945872412286625</td><td>0.07607713</td><td>30</td><td>14</td><td>0.24870029</td><td>0</td><td>31</td><td>False</td><td>266</td><td>748.4119999183222</td><td>1.5080629972795407</td><td>496.2737</td><td>18.503014</td><td>18</td><td>302.03091979887313</td><td>11.358465192857343</td><td>26.590822</td><td>19.15126</td><td>19</td><td>717.5525436017596</td><td>12.161349312238048</td><td>59.00271</td><td>17.622286</td><td>1.3623291</td><td>0</td><td>1.5289745</td><td>0.64824677</td><td>0.88072777</td><td>--</td><td>--</td><td>0</td><td>--</td><td>--</td><td>--</td><td>NOT_AVAILABLE</td><td>335.4748264237314</td><td>-21.86809620634621</td><td>276.20065661425065</td><td>-36.78424388182516</td><td>--</td><td>--</td><td>--</td><td>--</td><td>--</td><td>--</td><td>--</td><td>--</td><td>--</td><td>--</td><td>--</td><td>--</td><td>--</td><td>--</td><td>--</td><td>--</td><td>--</td><td>https://gea.esac.esa.int/data-server/datalink/links?ID=Gaia+DR2+6636066871411763712</td></tr>\n",
       "<tr><td>0.019467068628703368</td><td>1635721458409799680</td><td>Gaia DR2 6636089514475519232</td><td>6636089514475519232</td><td>325385458</td><td>2015.5</td><td>280.0027594523261</td><td>0.28462114930671406</td><td>-60.01941257851705</td><td>0.31030202424757986</td><td>-0.22671624734885348</td><td>0.43370509229203363</td><td>-0.52274287</td><td>-3.4738735206910007</td><td>0.5284398746392075</td><td>-13.394469897355556</td><td>0.530069601555669</td><td>0.1167511</td><td>-0.027170464</td><td>-0.012758986</td><td>0.1622141</td><td>-0.25071684</td><td>0.23850548</td><td>-0.008196149</td><td>-0.40633285</td><td>-0.021008324</td><td>0.008190466</td><td>263</td><td>0</td><td>262</td><td>1</td><td>1.3358816</td><td>287.77237</td><td>0.0</td><td>0.0</td><td>31</td><td>False</td><td>0.09319757</td><td>1.572780731153734</td><td>0.09719815167593043</td><td>0.11035907</td><td>30</td><td>14</td><td>0.49929246</td><td>0</td><td>31</td><td>False</td><td>267</td><td>238.89849085263938</td><td>1.0105338617128552</td><td>236.4082</td><td>19.742832</td><td>27</td><td>114.16681475615319</td><td>7.003491278171854</td><td>16.301414</td><td>20.207539</td><td>26</td><td>182.75333405704518</td><td>7.862469926580385</td><td>23.243755</td><td>19.107256</td><td>1.2428716</td><td>0</td><td>1.1002827</td><td>0.46470642</td><td>0.63557625</td><td>--</td><td>--</td><td>0</td><td>--</td><td>--</td><td>--</td><td>NOT_AVAILABLE</td><td>335.47001602079956</td><td>-21.88877053320698</td><td>276.2225991112459</td><td>-36.79601539387947</td><td>--</td><td>--</td><td>--</td><td>--</td><td>--</td><td>--</td><td>--</td><td>--</td><td>--</td><td>--</td><td>--</td><td>--</td><td>--</td><td>--</td><td>--</td><td>--</td><td>--</td><td>https://gea.esac.esa.int/data-server/datalink/links?ID=Gaia+DR2+6636089514475519232</td></tr>\n",
       "<tr><td>0.019752561500226976</td><td>1635721458409799680</td><td>Gaia DR2 6636090407832546944</td><td>6636090407832546944</td><td>634529542</td><td>2015.5</td><td>279.9882293804659</td><td>0.04347437974615361</td><td>-59.981140629937634</td><td>0.04740919838523362</td><td>0.1783171109732836</td><td>0.07055479519696098</td><td>2.5273564</td><td>-5.711299883926207</td><td>0.08109826025444261</td><td>-11.140506564351071</td><td>0.08122777403986449</td><td>0.014528311</td><td>0.0052034543</td><td>-0.13723314</td><td>0.30284587</td><td>-0.34297216</td><td>0.37535182</td><td>0.020073602</td><td>-0.44475535</td><td>0.0076461304</td><td>-0.0846197</td><td>266</td><td>0</td><td>266</td><td>0</td><td>0.55666876</td><td>273.23816</td><td>0.0</td><td>0.0</td><td>31</td><td>False</td><td>4.399051</td><td>1.591083301451274</td><td>0.013415919208456036</td><td>0.07680967</td><td>30</td><td>14</td><td>0.08509157</td><td>0</td><td>31</td><td>False</td><td>267</td><td>4261.499334253771</td><td>2.796209088975422</td><td>1524.0275</td><td>16.61446</td><td>30</td><td>2216.129790273036</td><td>13.62910592305733</td><td>162.60272</td><td>16.9874</td><td>28</td><td>3021.2692332725096</td><td>11.674278929824728</td><td>258.7971</td><td>16.061447</td><td>1.2290038</td><td>0</td><td>0.9259529</td><td>0.37294006</td><td>0.55301285</td><td>--</td><td>--</td><td>0</td><td>--</td><td>--</td><td>--</td><td>NOT_AVAILABLE</td><td>335.5072730353978</td><td>-21.870820370240878</td><td>276.21768140072606</td><td>-36.75725966602352</td><td>100001</td><td>5376.5</td><td>5102.6665</td><td>5650.0</td><td>--</td><td>--</td><td>--</td><td>--</td><td>--</td><td>--</td><td>--</td><td>--</td><td>--</td><td>--</td><td>--</td><td>--</td><td>--</td><td>https://gea.esac.esa.int/data-server/datalink/links?ID=Gaia+DR2+6636090407832546944</td></tr>\n",
       "<tr><td>0.01991656886177004</td><td>1635721458409799680</td><td>Gaia DR2 6636066940132132352</td><td>6636066940132132352</td><td>1166738529</td><td>2015.5</td><td>279.9601759964112</td><td>2.5899096616065505</td><td>-60.000048837007505</td><td>1.8410192124261673</td><td>--</td><td>--</td><td>--</td><td>--</td><td>--</td><td>--</td><td>--</td><td>-0.38374206</td><td>--</td><td>--</td><td>--</td><td>--</td><td>--</td><td>--</td><td>--</td><td>--</td><td>--</td><td>87</td><td>0</td><td>83</td><td>4</td><td>0.3664969</td><td>81.97661</td><td>0.0</td><td>0.0</td><td>3</td><td>False</td><td>0.021316081</td><td>--</td><td>--</td><td>0.0848086</td><td>10</td><td>7</td><td>6.929367</td><td>0</td><td>10</td><td>False</td><td>83</td><td>83.95960967580568</td><td>1.6179761322609179</td><td>51.891747</td><td>20.87819</td><td>10</td><td>83.65578524545231</td><td>18.963256578411873</td><td>4.411467</td><td>20.545149</td><td>8</td><td>72.44582266840823</td><td>18.129662353712686</td><td>3.9959831</td><td>20.111887</td><td>1.8592465</td><td>0</td><td>0.43326187</td><td>-0.33304024</td><td>0.7663021</td><td>--</td><td>--</td><td>0</td><td>--</td><td>--</td><td>--</td><td>NOT_AVAILABLE</td><td>335.4834122535019</td><td>-21.862819035179122</td><td>276.19820173873103</td><td>-36.77489111216297</td><td>--</td><td>--</td><td>--</td><td>--</td><td>--</td><td>--</td><td>--</td><td>--</td><td>--</td><td>--</td><td>--</td><td>--</td><td>--</td><td>--</td><td>--</td><td>--</td><td>--</td><td>https://gea.esac.esa.int/data-server/datalink/links?ID=Gaia+DR2+6636066940132132352</td></tr>\n",
       "<tr><td>0.020149589233310516</td><td>1635721458409799680</td><td>Gaia DR2 6636066871411763968</td><td>6636066871411763968</td><td>362494186</td><td>2015.5</td><td>279.96456951134303</td><td>0.13959632322218493</td><td>-60.00959137834852</td><td>0.1588151402414971</td><td>0.4416368379384663</td><td>0.23172312840045098</td><td>1.9058815</td><td>3.105018551814964</td><td>0.2661947406967867</td><td>-11.645310795701613</td><td>0.25992478268794084</td><td>-0.0005364601</td><td>0.16152644</td><td>-0.15637942</td><td>0.25691226</td><td>-0.38600945</td><td>0.3835854</td><td>-0.15147083</td><td>-0.5140598</td><td>0.09466352</td><td>-0.04639606</td><td>264</td><td>0</td><td>262</td><td>2</td><td>2.2005742</td><td>309.43332</td><td>0.5645907965466815</td><td>1.7525146276424677</td><td>31</td><td>False</td><td>0.4151596</td><td>1.5280592208926502</td><td>0.04677664891657623</td><td>0.07896453</td><td>30</td><td>14</td><td>0.2730012</td><td>0</td><td>31</td><td>False</td><td>264</td><td>774.2158851704843</td><td>1.4926648362030701</td><td>518.6803</td><td>18.466211</td><td>21</td><td>350.3508019733644</td><td>14.508417191453987</td><td>24.148106</td><td>18.99013</td><td>21</td><td>729.8242225292298</td><td>11.933268486582156</td><td>61.158787</td><td>17.603874</td><td>1.3951858</td><td>0</td><td>1.3862553</td><td>0.52391815</td><td>0.8623371</td><td>--</td><td>--</td><td>0</td><td>--</td><td>--</td><td>--</td><td>NOT_AVAILABLE</td><td>335.47424514418657</td><td>-21.867667162777522</td><td>276.1999102638092</td><td>-36.784587081820405</td><td>--</td><td>--</td><td>--</td><td>--</td><td>--</td><td>--</td><td>--</td><td>--</td><td>--</td><td>--</td><td>--</td><td>--</td><td>--</td><td>--</td><td>--</td><td>--</td><td>--</td><td>https://gea.esac.esa.int/data-server/datalink/links?ID=Gaia+DR2+6636066871411763968</td></tr>\n",
       "<tr><td>0.020307185970548904</td><td>1635721458409799680</td><td>Gaia DR2 6636089514478069888</td><td>6636089514478069888</td><td>454772046</td><td>2015.5</td><td>280.0041795315634</td><td>0.5594156985169171</td><td>-60.02019402181046</td><td>0.5889987529781479</td><td>1.9304522593514153</td><td>0.7424703791335935</td><td>2.6000395</td><td>-2.30272295870512</td><td>1.0697674725288295</td><td>-10.17060324836212</td><td>1.1464504348558648</td><td>-0.058014862</td><td>-0.17715026</td><td>-0.30236667</td><td>0.3546393</td><td>-0.031936076</td><td>0.33262056</td><td>-0.3246005</td><td>-0.14559072</td><td>-0.23958951</td><td>-0.25420165</td><td>235</td><td>0</td><td>234</td><td>1</td><td>0.14521867</td><td>231.44983</td><td>0.0</td><td>0.0</td><td>31</td><td>False</td><td>0.032463297</td><td>1.3668054400421037</td><td>0.17391046983496555</td><td>0.03927331</td><td>27</td><td>12</td><td>1.1545317</td><td>0</td><td>28</td><td>False</td><td>243</td><td>128.84527615240935</td><td>0.9611423667823606</td><td>134.0543</td><td>20.413195</td><td>19</td><td>87.24043093708278</td><td>19.155565381144616</td><td>4.5543127</td><td>20.499594</td><td>23</td><td>160.7474385486542</td><td>7.043148771478277</td><td>22.823235</td><td>19.24656</td><td>1.9246951</td><td>0</td><td>1.2530346</td><td>0.08639908</td><td>1.1666355</td><td>--</td><td>--</td><td>0</td><td>--</td><td>--</td><td>--</td><td>NOT_AVAILABLE</td><td>335.4694287285234</td><td>-21.889674542833927</td><td>276.2233977667294</td><td>-36.796855154071565</td><td>--</td><td>--</td><td>--</td><td>--</td><td>--</td><td>--</td><td>--</td><td>--</td><td>--</td><td>--</td><td>--</td><td>--</td><td>--</td><td>--</td><td>--</td><td>--</td><td>--</td><td>https://gea.esac.esa.int/data-server/datalink/links?ID=Gaia+DR2+6636089514478069888</td></tr>\n",
       "<tr><td>0.020454730686780127</td><td>1635721458409799680</td><td>Gaia DR2 6636066940131244288</td><td>6636066940131244288</td><td>397427798</td><td>2015.5</td><td>279.962078879385</td><td>0.038266363842252904</td><td>-59.99233651163372</td><td>0.04245125526238898</td><td>0.2937613653705229</td><td>0.06453437066974024</td><td>4.552014</td><td>-4.332428792692472</td><td>0.07224063799453279</td><td>-9.111473526164719</td><td>0.06685415577812981</td><td>0.121736825</td><td>-0.11684539</td><td>-0.06669026</td><td>0.36727437</td><td>-0.43134463</td><td>0.48005992</td><td>0.0040149046</td><td>-0.5165149</td><td>-0.023467386</td><td>-0.020543188</td><td>276</td><td>0</td><td>274</td><td>2</td><td>-1.0957109</td><td>243.75235</td><td>0.0</td><td>1.2253469025132145e-15</td><td>31</td><td>False</td><td>6.2218747</td><td>1.5786574650010574</td><td>0.011285922983399848</td><td>0.11293215</td><td>31</td><td>13</td><td>0.07861759</td><td>0</td><td>32</td><td>False</td><td>281</td><td>5775.394850643969</td><td>3.963917596857006</td><td>1456.9917</td><td>16.284412</td><td>27</td><td>2974.111080728828</td><td>10.139474507020983</td><td>293.32004</td><td>16.667995</td><td>27</td><td>4066.6013924083913</td><td>11.610686675160112</td><td>350.24643</td><td>15.738841</td><td>1.2190876</td><td>0</td><td>0.9291544</td><td>0.38358307</td><td>0.5455713</td><td>--</td><td>--</td><td>0</td><td>--</td><td>--</td><td>--</td><td>NOT_AVAILABLE</td><td>335.4916658784293</td><td>-21.86151169293979</td><td>276.2002122800876</td><td>-36.767289029145225</td><td>100001</td><td>5403.0</td><td>4807.0</td><td>5492.0</td><td>--</td><td>--</td><td>--</td><td>--</td><td>--</td><td>--</td><td>--</td><td>--</td><td>--</td><td>--</td><td>--</td><td>--</td><td>--</td><td>https://gea.esac.esa.int/data-server/datalink/links?ID=Gaia+DR2+6636066940131244288</td></tr>\n",
       "<tr><td>0.020802655215768254</td><td>1635721458409799680</td><td>Gaia DR2 6636067141990822272</td><td>6636067141990822272</td><td>701681818</td><td>2015.5</td><td>279.9640876685004</td><td>0.19420698612263107</td><td>-59.98950305648821</td><td>0.22217419313665657</td><td>1.437397935879575</td><td>0.3176775111458537</td><td>4.524708</td><td>10.106276622603437</td><td>0.3570622508212886</td><td>-24.735216648968187</td><td>0.35643453594041025</td><td>0.25805137</td><td>-0.16041186</td><td>0.05178482</td><td>0.23885836</td><td>-0.37002122</td><td>0.35130036</td><td>0.04804118</td><td>-0.48136643</td><td>-0.08207476</td><td>0.12384516</td><td>255</td><td>0</td><td>255</td><td>0</td><td>1.1501242</td><td>275.89694</td><td>0.06639214063143138</td><td>0.011755652492177198</td><td>31</td><td>False</td><td>0.22234008</td><td>1.4107688839199346</td><td>0.06328796514240709</td><td>0.1259163</td><td>29</td><td>13</td><td>0.36801726</td><td>0</td><td>30</td><td>False</td><td>260</td><td>408.74624578636167</td><td>1.0735976348079443</td><td>380.72574</td><td>19.15973</td><td>25</td><td>129.97970709121168</td><td>6.876409827254096</td><td>18.902264</td><td>20.0667</td><td>26</td><td>454.72044682322286</td><td>11.80404168626507</td><td>38.522438</td><td>18.11756</td><td>1.4304723</td><td>0</td><td>1.9491405</td><td>0.9069691</td><td>1.0421715</td><td>--</td><td>--</td><td>0</td><td>--</td><td>--</td><td>--</td><td>NOT_AVAILABLE</td><td>335.49490124600646</td><td>-21.861658746054506</td><td>276.2017656388549</td><td>-36.764552360018726</td><td>--</td><td>--</td><td>--</td><td>--</td><td>--</td><td>--</td><td>--</td><td>--</td><td>--</td><td>--</td><td>--</td><td>--</td><td>--</td><td>--</td><td>--</td><td>--</td><td>--</td><td>https://gea.esac.esa.int/data-server/datalink/links?ID=Gaia+DR2+6636067141990822272</td></tr>\n",
       "<tr><td>0.021615117161838747</td><td>1635721458409799680</td><td>Gaia DR2 6636090369173963776</td><td>6636090369173963776</td><td>938955063</td><td>2015.5</td><td>280.02892658713733</td><td>0.2326312355814376</td><td>-59.983930022520624</td><td>0.25676250858449634</td><td>0.5878805049285979</td><td>0.34804647666418764</td><td>1.6890862</td><td>-8.16992956734722</td><td>0.41582717220557436</td><td>0.1979176507014014</td><td>0.4723814362959708</td><td>0.16361599</td><td>0.030830933</td><td>-0.04346902</td><td>0.35715175</td><td>-0.099895455</td><td>0.3349281</td><td>0.11702633</td><td>-0.34507078</td><td>0.12365138</td><td>0.045271054</td><td>248</td><td>0</td><td>247</td><td>1</td><td>0.94607896</td><td>262.71133</td><td>0.0</td><td>0.0</td><td>31</td><td>False</td><td>0.16069774</td><td>1.6277610832866298</td><td>0.07392923520917129</td><td>0.11258511</td><td>28</td><td>12</td><td>0.43061796</td><td>0</td><td>29</td><td>False</td><td>254</td><td>344.52133431694165</td><td>1.0670317810933725</td><td>322.87823</td><td>19.345325</td><td>28</td><td>200.21963134252962</td><td>6.54365859551691</td><td>30.597506</td><td>19.597622</td><td>28</td><td>291.5316082268074</td><td>13.067755702394157</td><td>22.309233</td><td>18.600206</td><td>1.4273462</td><td>0</td><td>0.99741554</td><td>0.25229645</td><td>0.7451191</td><td>--</td><td>--</td><td>0</td><td>--</td><td>--</td><td>--</td><td>NOT_AVAILABLE</td><td>335.5106931563712</td><td>-21.89112335157806</td><td>276.2426986877587</td><td>-36.76179547216365</td><td>--</td><td>--</td><td>--</td><td>--</td><td>--</td><td>--</td><td>--</td><td>--</td><td>--</td><td>--</td><td>--</td><td>--</td><td>--</td><td>--</td><td>--</td><td>--</td><td>--</td><td>https://gea.esac.esa.int/data-server/datalink/links?ID=Gaia+DR2+6636090369173963776</td></tr>\n",
       "</table></div>"
      ],
      "text/plain": [
       "<Table length=50>\n",
       "         dist             solution_id             DESIGNATION          ... lum_percentile_lower lum_percentile_upper                                     datalink_url                                   \n",
       "                                                                       ...        solLum               solLum                                                                                           \n",
       "       float64               int64                   object            ...       float32              float32                                               object                                      \n",
       "--------------------- ------------------- ---------------------------- ... -------------------- -------------------- -----------------------------------------------------------------------------------\n",
       "0.0026034636994048854 1635721458409799680 Gaia DR2 6636090334814214528 ...                   --                   -- https://gea.esac.esa.int/data-server/datalink/links?ID=Gaia+DR2+6636090334814214528\n",
       "0.0038518741347606357 1635721458409799680 Gaia DR2 6636090339113063296 ...          0.062135242           0.07354171 https://gea.esac.esa.int/data-server/datalink/links?ID=Gaia+DR2+6636090339113063296\n",
       "  0.00454542650096783 1635721458409799680 Gaia DR2 6636090334814217600 ...                   --                   -- https://gea.esac.esa.int/data-server/datalink/links?ID=Gaia+DR2+6636090334814217600\n",
       " 0.005613919443965546 1635721458409799680 Gaia DR2 6636089583198816640 ...                   --                   -- https://gea.esac.esa.int/data-server/datalink/links?ID=Gaia+DR2+6636089583198816640\n",
       " 0.005846434715822121 1635721458409799680 Gaia DR2 6636090334814218752 ...                   --                   -- https://gea.esac.esa.int/data-server/datalink/links?ID=Gaia+DR2+6636090334814218752\n",
       " 0.006209042666371929 1635721458409799680 Gaia DR2 6636090334814213632 ...                   --                   -- https://gea.esac.esa.int/data-server/datalink/links?ID=Gaia+DR2+6636090334814213632\n",
       " 0.007469463683838576 1635721458409799680 Gaia DR2 6636090339112308864 ...                   --                   -- https://gea.esac.esa.int/data-server/datalink/links?ID=Gaia+DR2+6636090339112308864\n",
       " 0.008202004514524316 1635721458409799680 Gaia DR2 6636089583198816512 ...            0.6450995             1.139398 https://gea.esac.esa.int/data-server/datalink/links?ID=Gaia+DR2+6636089583198816512\n",
       " 0.008338509690874027 1635721458409799680 Gaia DR2 6636089583198817664 ...                   --                   -- https://gea.esac.esa.int/data-server/datalink/links?ID=Gaia+DR2+6636089583198817664\n",
       " 0.008406677772258921 1635721458409799680 Gaia DR2 6636089578899968384 ...                   --                   -- https://gea.esac.esa.int/data-server/datalink/links?ID=Gaia+DR2+6636089578899968384\n",
       " 0.009242573682910949 1635721458409799680 Gaia DR2 6636090339110121344 ...                   --                   -- https://gea.esac.esa.int/data-server/datalink/links?ID=Gaia+DR2+6636090339110121344\n",
       " 0.009787663823774304 1635721458409799680 Gaia DR2 6636089578899966848 ...                   --                   -- https://gea.esac.esa.int/data-server/datalink/links?ID=Gaia+DR2+6636089578899966848\n",
       "  0.01039459914206257 1635721458409799680 Gaia DR2 6636089578899967616 ...                   --                   -- https://gea.esac.esa.int/data-server/datalink/links?ID=Gaia+DR2+6636089578899967616\n",
       "  0.01060705182801258 1635721458409799680 Gaia DR2 6636090403533698688 ...                   --                   -- https://gea.esac.esa.int/data-server/datalink/links?ID=Gaia+DR2+6636090403533698688\n",
       "                  ...                 ...                          ... ...                  ...                  ...                                                                                 ...\n",
       "  0.01737196890379023 1635721458409799680 Gaia DR2 6636089578900242432 ...                   --                   -- https://gea.esac.esa.int/data-server/datalink/links?ID=Gaia+DR2+6636089578900242432\n",
       "  0.01747850362437053 1635721458409799680 Gaia DR2 6636090369174230656 ...                   --                   -- https://gea.esac.esa.int/data-server/datalink/links?ID=Gaia+DR2+6636090369174230656\n",
       " 0.017605525662679422 1635721458409799680 Gaia DR2 6636089613259710208 ...                   --                   -- https://gea.esac.esa.int/data-server/datalink/links?ID=Gaia+DR2+6636089613259710208\n",
       "  0.01824049579793165 1635721458409799680 Gaia DR2 6636090437893440640 ...                   --                   -- https://gea.esac.esa.int/data-server/datalink/links?ID=Gaia+DR2+6636090437893440640\n",
       "  0.01916481512715311 1635721458409799680 Gaia DR2 6636066935832392960 ...                   --                   -- https://gea.esac.esa.int/data-server/datalink/links?ID=Gaia+DR2+6636066935832392960\n",
       "  0.01943176697471851 1635721458409799680 Gaia DR2 6636089510180765312 ...           0.19552292           0.24181198 https://gea.esac.esa.int/data-server/datalink/links?ID=Gaia+DR2+6636089510180765312\n",
       " 0.019464719601172412 1635721458409799680 Gaia DR2 6636066871411763712 ...                   --                   -- https://gea.esac.esa.int/data-server/datalink/links?ID=Gaia+DR2+6636066871411763712\n",
       " 0.019467068628703368 1635721458409799680 Gaia DR2 6636089514475519232 ...                   --                   -- https://gea.esac.esa.int/data-server/datalink/links?ID=Gaia+DR2+6636089514475519232\n",
       " 0.019752561500226976 1635721458409799680 Gaia DR2 6636090407832546944 ...                   --                   -- https://gea.esac.esa.int/data-server/datalink/links?ID=Gaia+DR2+6636090407832546944\n",
       "  0.01991656886177004 1635721458409799680 Gaia DR2 6636066940132132352 ...                   --                   -- https://gea.esac.esa.int/data-server/datalink/links?ID=Gaia+DR2+6636066940132132352\n",
       " 0.020149589233310516 1635721458409799680 Gaia DR2 6636066871411763968 ...                   --                   -- https://gea.esac.esa.int/data-server/datalink/links?ID=Gaia+DR2+6636066871411763968\n",
       " 0.020307185970548904 1635721458409799680 Gaia DR2 6636089514478069888 ...                   --                   -- https://gea.esac.esa.int/data-server/datalink/links?ID=Gaia+DR2+6636089514478069888\n",
       " 0.020454730686780127 1635721458409799680 Gaia DR2 6636066940131244288 ...                   --                   -- https://gea.esac.esa.int/data-server/datalink/links?ID=Gaia+DR2+6636066940131244288\n",
       " 0.020802655215768254 1635721458409799680 Gaia DR2 6636067141990822272 ...                   --                   -- https://gea.esac.esa.int/data-server/datalink/links?ID=Gaia+DR2+6636067141990822272\n",
       " 0.021615117161838747 1635721458409799680 Gaia DR2 6636090369173963776 ...                   --                   -- https://gea.esac.esa.int/data-server/datalink/links?ID=Gaia+DR2+6636090369173963776"
      ]
     },
     "execution_count": 28,
     "metadata": {},
     "output_type": "execute_result"
    }
   ],
   "source": [
    "from astroquery.gaia import Gaia\n",
    "coord = coordinates.SkyCoord(ra=280*u.degree, dec=-60*u.degree, frame='icrs')\n",
    "r = Gaia.query_object_async(coordinate=coord, width=0.1* u.deg, height=0.1* u.deg)\n",
    "r"
   ]
  },
  {
   "cell_type": "markdown",
   "metadata": {
    "slideshow": {
     "slide_type": "slide"
    }
   },
   "source": [
    "And a more general SQL query:"
   ]
  },
  {
   "cell_type": "code",
   "execution_count": 29,
   "metadata": {
    "scrolled": false
   },
   "outputs": [
    {
     "name": "stdout",
     "output_type": "stream",
     "text": [
      "INFO: Query finished. [astroquery.utils.tap.core]\n"
     ]
    },
    {
     "data": {
      "text/html": [
       "<div><i>Table length=100</i>\n",
       "<table id=\"table5107900080\" class=\"table-striped table-bordered table-condensed\">\n",
       "<thead><tr><th>solution_id</th><th>source_id</th><th>random_index</th><th>ref_epoch</th><th>ra</th><th>ra_error</th><th>dec</th><th>dec_error</th><th>parallax</th><th>parallax_error</th><th>pmra</th><th>pmra_error</th><th>pmdec</th><th>pmdec_error</th><th>ra_dec_corr</th><th>ra_parallax_corr</th><th>ra_pmra_corr</th><th>ra_pmdec_corr</th><th>dec_parallax_corr</th><th>dec_pmra_corr</th><th>dec_pmdec_corr</th><th>parallax_pmra_corr</th><th>parallax_pmdec_corr</th><th>pmra_pmdec_corr</th><th>astrometric_n_obs_al</th><th>astrometric_n_obs_ac</th><th>astrometric_n_good_obs_al</th><th>astrometric_n_good_obs_ac</th><th>astrometric_n_bad_obs_al</th><th>astrometric_n_bad_obs_ac</th><th>astrometric_delta_q</th><th>astrometric_excess_noise</th><th>astrometric_excess_noise_sig</th><th>astrometric_primary_flag</th><th>astrometric_relegation_factor</th><th>astrometric_weight_al</th><th>astrometric_weight_ac</th><th>astrometric_priors_used</th><th>matched_observations</th><th>duplicated_source</th><th>scan_direction_strength_k1</th><th>scan_direction_strength_k2</th><th>scan_direction_strength_k3</th><th>scan_direction_strength_k4</th><th>scan_direction_mean_k1</th><th>scan_direction_mean_k2</th><th>scan_direction_mean_k3</th><th>scan_direction_mean_k4</th><th>phot_g_n_obs</th><th>phot_g_mean_flux</th><th>phot_g_mean_flux_error</th><th>phot_g_mean_mag</th><th>phot_variable_flag</th><th>l</th><th>b</th><th>ecl_lon</th><th>ecl_lat</th></tr></thead>\n",
       "<thead><tr><th></th><th></th><th></th><th>yr</th><th>deg</th><th>mas</th><th>deg</th><th>mas</th><th>mas</th><th>mas</th><th>mas / yr</th><th>mas / yr</th><th>mas / yr</th><th>mas / yr</th><th></th><th></th><th></th><th></th><th></th><th></th><th></th><th></th><th></th><th></th><th></th><th></th><th></th><th></th><th></th><th></th><th></th><th>mas</th><th></th><th></th><th></th><th>1 / mas2</th><th>1 / mas2</th><th></th><th></th><th></th><th></th><th></th><th></th><th></th><th>deg</th><th>deg</th><th>deg</th><th>deg</th><th></th><th>electron / s</th><th>electron / s</th><th>mag</th><th></th><th>deg</th><th>deg</th><th>deg</th><th>deg</th></tr></thead>\n",
       "<thead><tr><th>int64</th><th>int64</th><th>int64</th><th>float64</th><th>float64</th><th>float64</th><th>float64</th><th>float64</th><th>float64</th><th>float64</th><th>float64</th><th>float64</th><th>float64</th><th>float64</th><th>float32</th><th>float32</th><th>float32</th><th>float32</th><th>float32</th><th>float32</th><th>float32</th><th>float32</th><th>float32</th><th>float32</th><th>int32</th><th>int32</th><th>int32</th><th>int32</th><th>int32</th><th>int32</th><th>float32</th><th>float64</th><th>float64</th><th>bool</th><th>float32</th><th>float32</th><th>float32</th><th>int32</th><th>int16</th><th>bool</th><th>float32</th><th>float32</th><th>float32</th><th>float32</th><th>float32</th><th>float32</th><th>float32</th><th>float32</th><th>int32</th><th>float64</th><th>float64</th><th>float64</th><th>object</th><th>float64</th><th>float64</th><th>float64</th><th>float64</th></tr></thead>\n",
       "<tr><td>1635378410781933568</td><td>65408</td><td>973786105</td><td>2015.0</td><td>44.99615220936693</td><td>14.379929330502144</td><td>0.005616347754574377</td><td>6.5170279514911</td><td>--</td><td>--</td><td>--</td><td>--</td><td>--</td><td>--</td><td>0.9922</td><td>--</td><td>--</td><td>--</td><td>--</td><td>--</td><td>--</td><td>--</td><td>--</td><td>--</td><td>31</td><td>0</td><td>31</td><td>0</td><td>0</td><td>0</td><td>--</td><td>0.8913618443704975</td><td>3.2112361791803297</td><td>False</td><td>1.5695707</td><td>0.56867576</td><td>--</td><td>2</td><td>5</td><td>False</td><td>0.43375897</td><td>0.4324966</td><td>0.54358345</td><td>0.83828545</td><td>-116.46045</td><td>13.9733305</td><td>-46.44837</td><td>25.226347</td><td>30</td><td>1567.2551097905996</td><td>5.856072856071007</td><td>17.53692082768389</td><td>NOT_AVAILABLE</td><td>176.95107160690853</td><td>-48.901522375415745</td><td>42.53372303287222</td><td>-16.32957216103747</td></tr>\n",
       "<tr><td>1635378410781933568</td><td>34359896320</td><td>1010840134</td><td>2015.0</td><td>45.004970066352456</td><td>0.15623072846755337</td><td>0.019874651251498416</td><td>0.5288512194998723</td><td>--</td><td>--</td><td>--</td><td>--</td><td>--</td><td>--</td><td>-0.61935</td><td>--</td><td>--</td><td>--</td><td>--</td><td>--</td><td>--</td><td>--</td><td>--</td><td>--</td><td>60</td><td>0</td><td>60</td><td>0</td><td>0</td><td>0</td><td>--</td><td>0.49417441313555815</td><td>54.55040289517388</td><td>False</td><td>1.706128</td><td>3.67268</td><td>--</td><td>2</td><td>8</td><td>False</td><td>0.67304224</td><td>0.18623264</td><td>0.78783804</td><td>0.9107339</td><td>-116.56138</td><td>10.280677</td><td>-44.287266</td><td>28.650621</td><td>68</td><td>40086.23895819038</td><td>27.15984520272268</td><td>14.01728178629278</td><td>NOT_AVAILABLE</td><td>176.94475885355897</td><td>-48.88527959139606</td><td>42.54686221080092</td><td>-16.318524345129177</td></tr>\n",
       "<tr><td>1635378410781933568</td><td>34361129088</td><td>388985243</td><td>2015.0</td><td>45.00431226555933</td><td>0.34781432918086913</td><td>0.021042471450865907</td><td>1.1000950644350347</td><td>--</td><td>--</td><td>--</td><td>--</td><td>--</td><td>--</td><td>-0.66385</td><td>--</td><td>--</td><td>--</td><td>--</td><td>--</td><td>--</td><td>--</td><td>--</td><td>--</td><td>53</td><td>0</td><td>53</td><td>0</td><td>0</td><td>0</td><td>--</td><td>0.5324405623163402</td><td>1.8034637042289303</td><td>False</td><td>1.1930124</td><td>1.0081722</td><td>--</td><td>2</td><td>8</td><td>False</td><td>0.70151556</td><td>0.320507</td><td>0.79869306</td><td>0.90236515</td><td>-125.77541</td><td>18.417574</td><td>-42.16853</td><td>28.207079</td><td>52</td><td>1761.8800815465204</td><td>19.831303716830632</td><td>17.409829199358377</td><td>NOT_AVAILABLE</td><td>176.94278585420437</td><td>-48.88494300234266</td><td>42.546563489754284</td><td>-16.317215026257962</td></tr>\n",
       "<tr><td>1635378410781933568</td><td>309238066432</td><td>590730619</td><td>2015.0</td><td>44.995037410057414</td><td>2.1681515359364987</td><td>0.03815196696887027</td><td>1.215308936668632</td><td>--</td><td>--</td><td>--</td><td>--</td><td>--</td><td>--</td><td>-0.7956</td><td>--</td><td>--</td><td>--</td><td>--</td><td>--</td><td>--</td><td>--</td><td>--</td><td>--</td><td>61</td><td>0</td><td>61</td><td>0</td><td>0</td><td>0</td><td>--</td><td>1.5258177714773933</td><td>1.22845670292639</td><td>False</td><td>1.2036664</td><td>0.070923366</td><td>--</td><td>2</td><td>10</td><td>False</td><td>0.29365668</td><td>0.69462836</td><td>0.29740977</td><td>0.89781886</td><td>-119.107704</td><td>21.855402</td><td>-38.366596</td><td>25.310766</td><td>61</td><td>275.4512899504612</td><td>2.733062075693919</td><td>19.424658037505058</td><td>NOT_AVAILABLE</td><td>176.9142654492873</td><td>-48.879746934733355</td><td>42.542548491309226</td><td>-16.29813863876259</td></tr>\n",
       "<tr><td>1635378410781933568</td><td>343597448960</td><td>329156827</td><td>2015.0</td><td>44.963892230513906</td><td>11.881098084030311</td><td>0.04359645695813672</td><td>5.4117480481007245</td><td>--</td><td>--</td><td>--</td><td>--</td><td>--</td><td>--</td><td>-0.99875</td><td>--</td><td>--</td><td>--</td><td>--</td><td>--</td><td>--</td><td>--</td><td>--</td><td>--</td><td>53</td><td>0</td><td>52</td><td>0</td><td>1</td><td>0</td><td>--</td><td>0.48618768000871554</td><td>0.7194619790339168</td><td>False</td><td>1.0917889</td><td>0.5588871</td><td>--</td><td>2</td><td>9</td><td>False</td><td>0.2763959</td><td>0.6515838</td><td>0.24106677</td><td>0.9459233</td><td>-97.36848</td><td>24.034065</td><td>-32.833885</td><td>27.21301</td><td>53</td><td>1025.7233096094583</td><td>10.073989411681636</td><td>17.997194501364273</td><td>NOT_AVAILABLE</td><td>176.87541844090353</td><td>-48.898381239918464</td><td>42.51318875080541</td><td>-16.28380339425278</td></tr>\n",
       "<tr><td>1635378410781933568</td><td>515396233856</td><td>260581828</td><td>2015.0</td><td>44.998326380657794</td><td>1.9536132180916206</td><td>0.06633463540816804</td><td>1.112198874392374</td><td>--</td><td>--</td><td>--</td><td>--</td><td>--</td><td>--</td><td>-0.81775</td><td>--</td><td>--</td><td>--</td><td>--</td><td>--</td><td>--</td><td>--</td><td>--</td><td>--</td><td>52</td><td>0</td><td>52</td><td>0</td><td>0</td><td>0</td><td>--</td><td>0.0</td><td>0.0</td><td>False</td><td>1.0</td><td>0.08911285</td><td>--</td><td>2</td><td>9</td><td>False</td><td>0.21581903</td><td>0.64998794</td><td>0.20400557</td><td>0.889891</td><td>-94.5951</td><td>19.781263</td><td>-45.181236</td><td>24.463037</td><td>52</td><td>292.2971105621403</td><td>2.363495144336792</td><td>19.36020875819687</td><td>NOT_AVAILABLE</td><td>176.88690012837574</td><td>-48.85781382084586</td><td>42.554428497847724</td><td>-16.27215703817933</td></tr>\n",
       "<tr><td>1635378410781933568</td><td>549755818112</td><td>278964178</td><td>2015.0</td><td>45.048282032831146</td><td>0.1433456931075975</td><td>0.04825859155942166</td><td>0.1507835212419608</td><td>--</td><td>--</td><td>--</td><td>--</td><td>--</td><td>--</td><td>-0.2803</td><td>--</td><td>--</td><td>--</td><td>--</td><td>--</td><td>--</td><td>--</td><td>--</td><td>--</td><td>69</td><td>0</td><td>69</td><td>0</td><td>0</td><td>0</td><td>--</td><td>0.576001517198121</td><td>29.871186333796125</td><td>False</td><td>2.2834213</td><td>2.509169</td><td>--</td><td>2</td><td>9</td><td>False</td><td>0.5748535</td><td>0.47039524</td><td>0.6185841</td><td>0.9170165</td><td>-125.95466</td><td>21.985344</td><td>-40.70922</td><td>27.246462</td><td>77</td><td>18064.66135281333</td><td>18.664497058329903</td><td>14.882695502523974</td><td>NOT_AVAILABLE</td><td>176.9593602580002</td><td>-48.83439449928693</td><td>42.598674193075496</td><td>-16.304072893936116</td></tr>\n",
       "<tr><td>1635378410781933568</td><td>824633879296</td><td>201645987</td><td>2015.0</td><td>45.023616453966554</td><td>7.686523932335751</td><td>0.06842112518983674</td><td>14.300410796230324</td><td>--</td><td>--</td><td>--</td><td>--</td><td>--</td><td>--</td><td>-0.9992</td><td>--</td><td>--</td><td>--</td><td>--</td><td>--</td><td>--</td><td>--</td><td>--</td><td>--</td><td>41</td><td>0</td><td>41</td><td>0</td><td>0</td><td>0</td><td>--</td><td>0.3811770281404596</td><td>2.517964596635533</td><td>False</td><td>1.2335583</td><td>2.4381435</td><td>--</td><td>2</td><td>8</td><td>False</td><td>0.7751459</td><td>0.5471739</td><td>0.8357175</td><td>0.88075393</td><td>-138.44899</td><td>22.225468</td><td>-39.211887</td><td>27.421402</td><td>40</td><td>4228.83891081437</td><td>8.266022099817981</td><td>16.45921720914123</td><td>NOT_AVAILABLE</td><td>176.9112997713953</td><td>-48.83816357356801</td><td>42.58025514171649</td><td>-16.277570967548215</td></tr>\n",
       "<tr><td>1635378410781933568</td><td>927713095040</td><td>1018609930</td><td>2015.0</td><td>45.02672729705548</td><td>18.85105747122118</td><td>0.08170173999463713</td><td>46.24057203944495</td><td>--</td><td>--</td><td>--</td><td>--</td><td>--</td><td>--</td><td>0.87765</td><td>--</td><td>--</td><td>--</td><td>--</td><td>--</td><td>--</td><td>--</td><td>--</td><td>--</td><td>35</td><td>0</td><td>35</td><td>0</td><td>0</td><td>0</td><td>--</td><td>0.0</td><td>4.586533637279208e-16</td><td>False</td><td>1.0</td><td>0.14009042</td><td>--</td><td>2</td><td>7</td><td>False</td><td>0.74246943</td><td>0.4742414</td><td>0.8220183</td><td>0.86047256</td><td>-135.34503</td><td>20.154688</td><td>-40.679493</td><td>27.308582</td><td>35</td><td>327.81592953606156</td><td>4.918326612738085</td><td>19.23569493037055</td><td>NOT_AVAILABLE</td><td>176.9000588157857</td><td>-48.82670498240227</td><td>42.58740559921262</td><td>-16.265783811911223</td></tr>\n",
       "<tr><td>1635378410781933568</td><td>1099511693312</td><td>442633663</td><td>2015.0</td><td>44.966545443077436</td><td>1.6721637989712046</td><td>0.04631022905873263</td><td>0.9323170076683949</td><td>--</td><td>--</td><td>--</td><td>--</td><td>--</td><td>--</td><td>-0.7829</td><td>--</td><td>--</td><td>--</td><td>--</td><td>--</td><td>--</td><td>--</td><td>--</td><td>--</td><td>60</td><td>0</td><td>59</td><td>0</td><td>1</td><td>0</td><td>--</td><td>1.051867934751556</td><td>0.8197945089678422</td><td>False</td><td>1.1288351</td><td>0.12494417</td><td>--</td><td>2</td><td>10</td><td>False</td><td>0.28444684</td><td>0.71784496</td><td>0.28360942</td><td>0.90305763</td><td>-119.581665</td><td>22.329224</td><td>-36.90664</td><td>25.379011</td><td>59</td><td>356.80903284909726</td><td>2.6224799498786697</td><td>19.143680463125285</td><td>NOT_AVAILABLE</td><td>176.87525124746745</td><td>-48.894587559655555</td><td>42.51666028533486</td><td>-16.28198681817074</td></tr>\n",
       "<tr><td>1635378410781933568</td><td>1271310478464</td><td>1115856713</td><td>2015.0</td><td>44.99327112465887</td><td>0.2162634777012439</td><td>0.07633590054321945</td><td>0.1449351162824421</td><td>--</td><td>--</td><td>--</td><td>--</td><td>--</td><td>--</td><td>-0.3514</td><td>--</td><td>--</td><td>--</td><td>--</td><td>--</td><td>--</td><td>--</td><td>--</td><td>--</td><td>65</td><td>0</td><td>65</td><td>0</td><td>0</td><td>0</td><td>--</td><td>0.5773061036789083</td><td>9.699398798050945</td><td>False</td><td>1.6406429</td><td>1.8952553</td><td>--</td><td>2</td><td>10</td><td>False</td><td>0.31503153</td><td>0.48063803</td><td>0.31484106</td><td>0.89608085</td><td>-92.93783</td><td>18.331495</td><td>-46.682346</td><td>25.836508</td><td>64</td><td>5714.666962202233</td><td>8.945430880044453</td><td>16.13229274940612</td><td>NOT_AVAILABLE</td><td>176.87062706403017</td><td>-48.85450574044617</td><td>42.552446379544875</td><td>-16.261113472661464</td></tr>\n",
       "<tr><td>1635378410781933568</td><td>1340029955712</td><td>201575893</td><td>2015.0</td><td>44.96907628784636</td><td>0.6821687482350426</td><td>0.08442589169017585</td><td>0.37342210637529527</td><td>--</td><td>--</td><td>--</td><td>--</td><td>--</td><td>--</td><td>-0.7805</td><td>--</td><td>--</td><td>--</td><td>--</td><td>--</td><td>--</td><td>--</td><td>--</td><td>--</td><td>61</td><td>0</td><td>60</td><td>0</td><td>1</td><td>0</td><td>--</td><td>0.5964909768632621</td><td>1.8634438611376283</td><td>False</td><td>1.1868778</td><td>0.7304064</td><td>--</td><td>2</td><td>10</td><td>False</td><td>0.2911649</td><td>0.72162277</td><td>0.29323852</td><td>0.89859</td><td>-122.01174</td><td>22.109463</td><td>-37.472343</td><td>25.172558</td><td>60</td><td>1411.0767939216194</td><td>13.594467635059885</td><td>17.650893439679926</td><td>NOT_AVAILABLE</td><td>176.83623366764377</td><td>-48.866288920099166</td><td>42.53082063496556</td><td>-16.246287781413663</td></tr>\n",
       "<tr><td>1635378410781933568</td><td>1340029956224</td><td>5951362</td><td>2015.0</td><td>44.97845893652677</td><td>53.35017929536264</td><td>0.09258081167082206</td><td>24.70888517172077</td><td>--</td><td>--</td><td>--</td><td>--</td><td>--</td><td>--</td><td>-0.99985</td><td>--</td><td>--</td><td>--</td><td>--</td><td>--</td><td>--</td><td>--</td><td>--</td><td>--</td><td>51</td><td>0</td><td>49</td><td>0</td><td>2</td><td>0</td><td>--</td><td>0.8460017885768271</td><td>1.2614894427196253</td><td>False</td><td>1.1639462</td><td>0.2696606</td><td>--</td><td>2</td><td>9</td><td>False</td><td>0.26260674</td><td>0.9769583</td><td>0.24516717</td><td>0.90992683</td><td>-149.03046</td><td>23.429276</td><td>-28.083052</td><td>23.500828</td><td>51</td><td>620.8401408114257</td><td>5.8993773774710005</td><td>18.542320591985664</td><td>NOT_AVAILABLE</td><td>176.8372293010666</td><td>-48.85387491409126</td><td>42.54265378636844</td><td>-16.241241061266173</td></tr>\n",
       "<tr><td>1635378410781933568</td><td>1374389600384</td><td>920426374</td><td>2015.0</td><td>44.932800911890325</td><td>1.0408054070603205</td><td>0.06481172071577013</td><td>0.5839725773655202</td><td>--</td><td>--</td><td>--</td><td>--</td><td>--</td><td>--</td><td>-0.8395</td><td>--</td><td>--</td><td>--</td><td>--</td><td>--</td><td>--</td><td>--</td><td>--</td><td>--</td><td>71</td><td>0</td><td>70</td><td>0</td><td>1</td><td>0</td><td>--</td><td>1.2201548884719746</td><td>3.998605395183024</td><td>False</td><td>1.420232</td><td>0.26096374</td><td>--</td><td>2</td><td>11</td><td>False</td><td>0.36829522</td><td>0.73116744</td><td>0.38188452</td><td>0.90449506</td><td>-130.61737</td><td>22.56228</td><td>-36.94691</td><td>25.417435</td><td>69</td><td>804.4216363058642</td><td>2.7717677270747596</td><td>18.261060705890173</td><td>NOT_AVAILABLE</td><td>176.81934468792647</td><td>-48.90600396546809</td><td>42.48870589000203</td><td>-16.254402883773</td></tr>\n",
       "<tr><td>...</td><td>...</td><td>...</td><td>...</td><td>...</td><td>...</td><td>...</td><td>...</td><td>...</td><td>...</td><td>...</td><td>...</td><td>...</td><td>...</td><td>...</td><td>...</td><td>...</td><td>...</td><td>...</td><td>...</td><td>...</td><td>...</td><td>...</td><td>...</td><td>...</td><td>...</td><td>...</td><td>...</td><td>...</td><td>...</td><td>...</td><td>...</td><td>...</td><td>...</td><td>...</td><td>...</td><td>...</td><td>...</td><td>...</td><td>...</td><td>...</td><td>...</td><td>...</td><td>...</td><td>...</td><td>...</td><td>...</td><td>...</td><td>...</td><td>...</td><td>...</td><td>...</td><td>...</td><td>...</td><td>...</td><td>...</td><td>...</td></tr>\n",
       "<tr><td>1635378410781933568</td><td>7284264691456</td><td>422988961</td><td>2015.0</td><td>45.062268599504804</td><td>0.18579410560244608</td><td>0.2159907198955164</td><td>0.13271042541895442</td><td>--</td><td>--</td><td>--</td><td>--</td><td>--</td><td>--</td><td>-0.1683</td><td>--</td><td>--</td><td>--</td><td>--</td><td>--</td><td>--</td><td>--</td><td>--</td><td>--</td><td>69</td><td>0</td><td>69</td><td>0</td><td>0</td><td>0</td><td>--</td><td>0.7211789019658937</td><td>113.04770024416972</td><td>False</td><td>2.157719</td><td>1.7978395</td><td>--</td><td>2</td><td>8</td><td>False</td><td>0.33608317</td><td>0.47641265</td><td>0.3302946</td><td>0.9057027</td><td>-98.28913</td><td>19.393253</td><td>-45.783066</td><td>25.91168</td><td>67</td><td>43580.83722490985</td><td>24.03795788001893</td><td>13.926531140949647</td><td>NOT_AVAILABLE</td><td>176.7909868900194</td><td>-48.70784227595914</td><td>42.663727550322726</td><td>-16.147777731890358</td></tr>\n",
       "<tr><td>1635378410781933568</td><td>7352984181120</td><td>224217418</td><td>2015.0</td><td>45.05038431311211</td><td>50.76752762022998</td><td>0.21943553315440423</td><td>23.510238856944408</td><td>--</td><td>--</td><td>--</td><td>--</td><td>--</td><td>--</td><td>-0.99975</td><td>--</td><td>--</td><td>--</td><td>--</td><td>--</td><td>--</td><td>--</td><td>--</td><td>--</td><td>52</td><td>0</td><td>51</td><td>0</td><td>1</td><td>0</td><td>--</td><td>1.0725288558434813</td><td>1.1903388535377943</td><td>False</td><td>1.1780553</td><td>0.18021098</td><td>--</td><td>2</td><td>8</td><td>False</td><td>0.33044282</td><td>0.9765938</td><td>0.31079304</td><td>0.90861356</td><td>-149.83809</td><td>23.869753</td><td>-29.143377</td><td>23.960972</td><td>51</td><td>449.905551199625</td><td>5.30671555333976</td><td>18.891966684391328</td><td>NOT_AVAILABLE</td><td>176.77471144482425</td><td>-48.713987541258994</td><td>42.65294572964405</td><td>-16.141007118818106</td></tr>\n",
       "<tr><td>1635378410781933568</td><td>7387343906304</td><td>1015771751</td><td>2015.0</td><td>45.07076641092095</td><td>0.16927961734388142</td><td>0.23473881967664195</td><td>0.12208911385782753</td><td>--</td><td>--</td><td>--</td><td>--</td><td>--</td><td>--</td><td>-0.1699</td><td>--</td><td>--</td><td>--</td><td>--</td><td>--</td><td>--</td><td>--</td><td>--</td><td>--</td><td>70</td><td>0</td><td>70</td><td>0</td><td>0</td><td>0</td><td>--</td><td>0.6250056318406165</td><td>36.11876773647039</td><td>False</td><td>3.8775425</td><td>2.1883295</td><td>--</td><td>2</td><td>8</td><td>False</td><td>0.34033927</td><td>0.4829327</td><td>0.33536106</td><td>0.90645033</td><td>-100.17424</td><td>19.703012</td><td>-45.18143</td><td>25.976969</td><td>69</td><td>17594.19448891877</td><td>23.431962240969263</td><td>14.911346592793109</td><td>NOT_AVAILABLE</td><td>176.77952512598026</td><td>-48.68869879014718</td><td>42.67789544156284</td><td>-16.132334759203204</td></tr>\n",
       "<tr><td>1635378410781933568</td><td>7421703656704</td><td>1065857547</td><td>2015.0</td><td>45.02346090745686</td><td>50.2627086358249</td><td>0.21188674472447347</td><td>23.275241265564723</td><td>--</td><td>--</td><td>--</td><td>--</td><td>--</td><td>--</td><td>-0.9997</td><td>--</td><td>--</td><td>--</td><td>--</td><td>--</td><td>--</td><td>--</td><td>--</td><td>--</td><td>52</td><td>0</td><td>52</td><td>0</td><td>0</td><td>0</td><td>--</td><td>1.3571117891896969</td><td>1.6723548088259723</td><td>False</td><td>1.251129</td><td>0.12832831</td><td>--</td><td>2</td><td>8</td><td>False</td><td>0.30513915</td><td>0.9769238</td><td>0.2884409</td><td>0.9098655</td><td>-149.24052</td><td>23.806147</td><td>-28.493937</td><td>23.891241</td><td>51</td><td>395.413176760833</td><td>3.0329176719656346</td><td>19.032142219686946</td><td>NOT_AVAILABLE</td><td>176.75454586137792</td><td>-48.73858206802272</td><td>42.62384495898663</td><td>-16.14034709792834</td></tr>\n",
       "<tr><td>1635378410781933568</td><td>7460358480640</td><td>341809602</td><td>2015.0</td><td>45.04033858891605</td><td>1.7793371263114361</td><td>0.22192197361433783</td><td>1.0992196475682512</td><td>--</td><td>--</td><td>--</td><td>--</td><td>--</td><td>--</td><td>-0.5426</td><td>--</td><td>--</td><td>--</td><td>--</td><td>--</td><td>--</td><td>--</td><td>--</td><td>--</td><td>60</td><td>0</td><td>60</td><td>0</td><td>0</td><td>0</td><td>--</td><td>0.0</td><td>0.0</td><td>False</td><td>1.0</td><td>0.045310277</td><td>--</td><td>2</td><td>8</td><td>False</td><td>0.28762865</td><td>0.68750656</td><td>0.27806252</td><td>0.9044425</td><td>-117.76798</td><td>21.951925</td><td>-39.276268</td><td>25.013832</td><td>59</td><td>170.63529156992485</td><td>1.776338285625125</td><td>19.944597916618555</td><td>NOT_AVAILABLE</td><td>176.76141409495344</td><td>-48.719476229512786</td><td>42.64370290681961</td><td>-16.135690349748955</td></tr>\n",
       "<tr><td>1635378410781933568</td><td>7559142613632</td><td>805783675</td><td>2015.0</td><td>45.045507440083576</td><td>64.23562545168312</td><td>0.22953226047452618</td><td>24.14056588738653</td><td>--</td><td>--</td><td>--</td><td>--</td><td>--</td><td>--</td><td>-0.9312</td><td>--</td><td>--</td><td>--</td><td>--</td><td>--</td><td>--</td><td>--</td><td>--</td><td>--</td><td>44</td><td>0</td><td>44</td><td>0</td><td>0</td><td>0</td><td>--</td><td>0.9017044341862603</td><td>0.5563935530080668</td><td>False</td><td>1.1068484</td><td>0.12743591</td><td>--</td><td>2</td><td>8</td><td>False</td><td>0.17922908</td><td>0.97502077</td><td>0.16552596</td><td>0.9023233</td><td>-146.42915</td><td>23.029112</td><td>-24.625162</td><td>23.076626</td><td>43</td><td>344.4884606918393</td><td>3.3984831326302314</td><td>19.181833366459237</td><td>NOT_AVAILABLE</td><td>176.7585764824491</td><td>-48.71046913941762</td><td>42.65116606192112</td><td>-16.129925384913665</td></tr>\n",
       "<tr><td>1635378410781933568</td><td>7627862074752</td><td>883950605</td><td>2015.0</td><td>45.03433035439128</td><td>0.30598928200282727</td><td>0.23539164875137225</td><td>0.21880220693566088</td><td>6.35295075173405</td><td>0.3079103606852086</td><td>43.75231341609215</td><td>0.07054220642640081</td><td>-7.641989988351149</td><td>0.08740179334554747</td><td>-0.41497213</td><td>0.1799662</td><td>0.1592065</td><td>-0.08575969</td><td>-0.40733817</td><td>-0.099451326</td><td>0.06065882</td><td>-0.0015767893</td><td>-0.10195717</td><td>0.21467718</td><td>79</td><td>79</td><td>79</td><td>78</td><td>0</td><td>1</td><td>1.9190567</td><td>0.7171010000916003</td><td>412.6059727233687</td><td>True</td><td>2.9360971</td><td>1.8181574</td><td>1.2669624e-05</td><td>3</td><td>9</td><td>False</td><td>0.38234848</td><td>0.53826606</td><td>0.3923785</td><td>0.9163063</td><td>-113.76032</td><td>21.392918</td><td>-41.6784</td><td>26.201841</td><td>77</td><td>10312332.172993332</td><td>10577.365273118843</td><td>7.991377829505826</td><td>NOT_AVAILABLE</td><td>176.74041338370182</td><td>-48.71442190008815</td><td>42.64182504417002</td><td>-16.121052173353853</td></tr>\n",
       "<tr><td>1635378410781933568</td><td>7834020517760</td><td>620182825</td><td>2015.0</td><td>44.976164977688924</td><td>0.25045896295833414</td><td>0.21728172930522227</td><td>0.15739075973007077</td><td>--</td><td>--</td><td>--</td><td>--</td><td>--</td><td>--</td><td>-0.5452</td><td>--</td><td>--</td><td>--</td><td>--</td><td>--</td><td>--</td><td>--</td><td>--</td><td>--</td><td>72</td><td>0</td><td>71</td><td>0</td><td>1</td><td>0</td><td>--</td><td>0.3697156656283237</td><td>1.634936672568726</td><td>False</td><td>1.1318821</td><td>1.5466828</td><td>--</td><td>2</td><td>9</td><td>False</td><td>0.37946746</td><td>0.73242164</td><td>0.38129085</td><td>0.9112348</td><td>-131.47333</td><td>22.934044</td><td>-36.931458</td><td>25.306192</td><td>70</td><td>2368.792728529116</td><td>7.535930728302016</td><td>17.08845241076117</td><td>NOT_AVAILABLE</td><td>176.69874824602977</td><td>-48.76879265884225</td><td>42.5784131237812</td><td>-16.12134043964016</td></tr>\n",
       "<tr><td>1635378410781933568</td><td>7902739996160</td><td>338184528</td><td>2015.0</td><td>44.96647918298047</td><td>54.64900487168641</td><td>0.22398162428751675</td><td>25.5145001037112</td><td>--</td><td>--</td><td>--</td><td>--</td><td>--</td><td>--</td><td>-0.99125</td><td>--</td><td>--</td><td>--</td><td>--</td><td>--</td><td>--</td><td>--</td><td>--</td><td>--</td><td>53</td><td>0</td><td>52</td><td>0</td><td>1</td><td>0</td><td>--</td><td>16.231299934232258</td><td>45.37715239423046</td><td>False</td><td>8.659947</td><td>0.0032139926</td><td>--</td><td>2</td><td>8</td><td>False</td><td>0.6496399</td><td>0.97731215</td><td>0.6178852</td><td>0.9121062</td><td>-152.73636</td><td>24.99992</td><td>-32.466663</td><td>25.163664</td><td>52</td><td>158.76779239190859</td><td>2.5203001751808296</td><td>20.022864048542523</td><td>NOT_AVAILABLE</td><td>176.68121961230523</td><td>-48.77108036400259</td><td>42.570816246308794</td><td>-16.1120972505992</td></tr>\n",
       "<tr><td>1635378410781933568</td><td>8040178924672</td><td>978798713</td><td>2015.0</td><td>44.92766244671393</td><td>0.1222335963841248</td><td>0.21913065324032402</td><td>0.09474964916425105</td><td>--</td><td>--</td><td>--</td><td>--</td><td>--</td><td>--</td><td>-0.3327</td><td>--</td><td>--</td><td>--</td><td>--</td><td>--</td><td>--</td><td>--</td><td>--</td><td>--</td><td>81</td><td>0</td><td>81</td><td>0</td><td>0</td><td>0</td><td>--</td><td>0.5187537379971572</td><td>30.609650420317575</td><td>False</td><td>1.7458436</td><td>3.0446203</td><td>--</td><td>2</td><td>10</td><td>False</td><td>0.38742378</td><td>0.34980273</td><td>0.41717067</td><td>0.904537</td><td>-92.41522</td><td>14.9064865</td><td>-48.27484</td><td>26.412928</td><td>86</td><td>18975.10630294144</td><td>23.881073234589387</td><td>14.829309519858956</td><td>NOT_AVAILABLE</td><td>176.64546925558417</td><td>-48.80231220617528</td><td>42.53070748335227</td><td>-16.105360657031962</td></tr>\n",
       "<tr><td>1635378410781933568</td><td>8040178948096</td><td>91234372</td><td>2015.0</td><td>44.92104757165942</td><td>0.881245949408352</td><td>0.21891807311036876</td><td>0.4817222570524474</td><td>--</td><td>--</td><td>--</td><td>--</td><td>--</td><td>--</td><td>-0.85945</td><td>--</td><td>--</td><td>--</td><td>--</td><td>--</td><td>--</td><td>--</td><td>--</td><td>--</td><td>63</td><td>0</td><td>62</td><td>0</td><td>1</td><td>0</td><td>--</td><td>0.7370324539620721</td><td>1.7913761847449126</td><td>False</td><td>1.1947598</td><td>0.4481355</td><td>--</td><td>2</td><td>10</td><td>False</td><td>0.29679528</td><td>0.7020646</td><td>0.31512174</td><td>0.90070546</td><td>-122.47764</td><td>21.142637</td><td>-39.887154</td><td>24.719925</td><td>61</td><td>963.474842645978</td><td>3.1066029655388694</td><td>18.06516911572011</td><td>NOT_AVAILABLE</td><td>176.63870361410872</td><td>-48.80720555725832</td><td>42.52406008232147</td><td>-16.103624790495527</td></tr>\n",
       "<tr><td>1635378410781933568</td><td>8040178950144</td><td>915163825</td><td>2015.0</td><td>44.928212467858486</td><td>0.7833705814081212</td><td>0.22750294463478418</td><td>0.4392349842694923</td><td>--</td><td>--</td><td>--</td><td>--</td><td>--</td><td>--</td><td>-0.84855</td><td>--</td><td>--</td><td>--</td><td>--</td><td>--</td><td>--</td><td>--</td><td>--</td><td>--</td><td>63</td><td>0</td><td>63</td><td>0</td><td>0</td><td>0</td><td>--</td><td>0.9875791165219138</td><td>5.1887536667474805</td><td>False</td><td>1.4936737</td><td>0.49521667</td><td>--</td><td>2</td><td>9</td><td>False</td><td>0.30621642</td><td>0.7061003</td><td>0.32411036</td><td>0.90133435</td><td>-123.86226</td><td>21.332981</td><td>-39.435482</td><td>24.80651</td><td>62</td><td>1523.6696170541497</td><td>4.198006164860881</td><td>17.567543045027783</td><td>NOT_AVAILABLE</td><td>176.63693316150082</td><td>-48.796084626792656</td><td>42.53380912099541</td><td>-16.09751734284514</td></tr>\n",
       "<tr><td>1635378410781933568</td><td>8143258139648</td><td>462214684</td><td>2015.0</td><td>44.97265616158445</td><td>0.2379426196551581</td><td>0.2378521049173547</td><td>0.1754341778251152</td><td>--</td><td>--</td><td>--</td><td>--</td><td>--</td><td>--</td><td>-0.48555</td><td>--</td><td>--</td><td>--</td><td>--</td><td>--</td><td>--</td><td>--</td><td>--</td><td>--</td><td>61</td><td>0</td><td>61</td><td>0</td><td>0</td><td>0</td><td>--</td><td>0.730607883557889</td><td>44.16002889494746</td><td>False</td><td>2.4916503</td><td>1.648882</td><td>--</td><td>2</td><td>7</td><td>False</td><td>0.5601906</td><td>0.68975866</td><td>0.57611763</td><td>0.9062587</td><td>-138.03749</td><td>23.171942</td><td>-37.764725</td><td>25.905552</td><td>58</td><td>16055.062613792836</td><td>15.59345449336529</td><td>15.010740054769116</td><td>NOT_AVAILABLE</td><td>176.67264319764715</td><td>-48.756988326667674</td><td>42.58119243103549</td><td>-16.10064449234684</td></tr>\n",
       "<tr><td>1635378410781933568</td><td>8177618164608</td><td>935229935</td><td>2015.0</td><td>44.952552187995416</td><td>47.42897739454767</td><td>0.2411470067860344</td><td>21.912631860442467</td><td>--</td><td>--</td><td>--</td><td>--</td><td>--</td><td>--</td><td>-0.99965</td><td>--</td><td>--</td><td>--</td><td>--</td><td>--</td><td>--</td><td>--</td><td>--</td><td>--</td><td>53</td><td>0</td><td>52</td><td>0</td><td>1</td><td>0</td><td>--</td><td>1.5212399931665934</td><td>2.9918284360704464</td><td>False</td><td>1.2284441</td><td>0.096775666</td><td>--</td><td>2</td><td>8</td><td>False</td><td>0.34252378</td><td>0.9782745</td><td>0.31603476</td><td>0.91505706</td><td>-151.97112</td><td>23.246798</td><td>-31.352043</td><td>23.330873</td><td>52</td><td>328.7026589317093</td><td>2.868294209717897</td><td>19.232762020896146</td><td>NOT_AVAILABLE</td><td>176.64781367605605</td><td>-48.76911848702038</td><td>42.56219085866062</td><td>-16.091604966055254</td></tr>\n",
       "<tr><td>1635378410781933568</td><td>8246337381248</td><td>589344551</td><td>2015.0</td><td>44.99857713805903</td><td>0.2668424720438201</td><td>0.2307688915505906</td><td>0.16700276359809443</td><td>--</td><td>--</td><td>--</td><td>--</td><td>--</td><td>--</td><td>-0.5491</td><td>--</td><td>--</td><td>--</td><td>--</td><td>--</td><td>--</td><td>--</td><td>--</td><td>--</td><td>71</td><td>0</td><td>70</td><td>0</td><td>1</td><td>0</td><td>--</td><td>0.47849841200113974</td><td>2.9955287078763027</td><td>False</td><td>1.2123007</td><td>1.3870915</td><td>--</td><td>2</td><td>9</td><td>False</td><td>0.37156236</td><td>0.728808</td><td>0.37290302</td><td>0.91018534</td><td>-130.69337</td><td>22.839378</td><td>-37.110554</td><td>25.26746</td><td>68</td><td>2396.5956228658515</td><td>5.734833589355723</td><td>17.075783159370918</td><td>NOT_AVAILABLE</td><td>176.70772578260733</td><td>-48.74331382223535</td><td>42.60483065453176</td><td>-16.115007770295282</td></tr>\n",
       "</table></div>"
      ],
      "text/plain": [
       "<Table length=100>\n",
       "    solution_id       source_id   random_index ref_epoch         ra               ra_error      ... phot_variable_flag         l                   b               ecl_lon             ecl_lat      \n",
       "                                                   yr           deg                 mas         ...                           deg                 deg                deg                 deg        \n",
       "       int64            int64        int64      float64       float64             float64       ...       object            float64             float64            float64             float64      \n",
       "------------------- ------------- ------------ --------- ------------------ ------------------- ... ------------------ ------------------ ------------------- ------------------ -------------------\n",
       "1635378410781933568         65408    973786105    2015.0  44.99615220936693  14.379929330502144 ...      NOT_AVAILABLE 176.95107160690853 -48.901522375415745  42.53372303287222  -16.32957216103747\n",
       "1635378410781933568   34359896320   1010840134    2015.0 45.004970066352456 0.15623072846755337 ...      NOT_AVAILABLE 176.94475885355897  -48.88527959139606  42.54686221080092 -16.318524345129177\n",
       "1635378410781933568   34361129088    388985243    2015.0  45.00431226555933 0.34781432918086913 ...      NOT_AVAILABLE 176.94278585420437  -48.88494300234266 42.546563489754284 -16.317215026257962\n",
       "1635378410781933568  309238066432    590730619    2015.0 44.995037410057414  2.1681515359364987 ...      NOT_AVAILABLE  176.9142654492873 -48.879746934733355 42.542548491309226  -16.29813863876259\n",
       "1635378410781933568  343597448960    329156827    2015.0 44.963892230513906  11.881098084030311 ...      NOT_AVAILABLE 176.87541844090353 -48.898381239918464  42.51318875080541  -16.28380339425278\n",
       "1635378410781933568  515396233856    260581828    2015.0 44.998326380657794  1.9536132180916206 ...      NOT_AVAILABLE 176.88690012837574  -48.85781382084586 42.554428497847724  -16.27215703817933\n",
       "1635378410781933568  549755818112    278964178    2015.0 45.048282032831146  0.1433456931075975 ...      NOT_AVAILABLE  176.9593602580002  -48.83439449928693 42.598674193075496 -16.304072893936116\n",
       "1635378410781933568  824633879296    201645987    2015.0 45.023616453966554   7.686523932335751 ...      NOT_AVAILABLE  176.9112997713953  -48.83816357356801  42.58025514171649 -16.277570967548215\n",
       "1635378410781933568  927713095040   1018609930    2015.0  45.02672729705548   18.85105747122118 ...      NOT_AVAILABLE  176.9000588157857  -48.82670498240227  42.58740559921262 -16.265783811911223\n",
       "1635378410781933568 1099511693312    442633663    2015.0 44.966545443077436  1.6721637989712046 ...      NOT_AVAILABLE 176.87525124746745 -48.894587559655555  42.51666028533486  -16.28198681817074\n",
       "1635378410781933568 1271310478464   1115856713    2015.0  44.99327112465887  0.2162634777012439 ...      NOT_AVAILABLE 176.87062706403017  -48.85450574044617 42.552446379544875 -16.261113472661464\n",
       "1635378410781933568 1340029955712    201575893    2015.0  44.96907628784636  0.6821687482350426 ...      NOT_AVAILABLE 176.83623366764377 -48.866288920099166  42.53082063496556 -16.246287781413663\n",
       "1635378410781933568 1340029956224      5951362    2015.0  44.97845893652677   53.35017929536264 ...      NOT_AVAILABLE  176.8372293010666  -48.85387491409126  42.54265378636844 -16.241241061266173\n",
       "1635378410781933568 1374389600384    920426374    2015.0 44.932800911890325  1.0408054070603205 ...      NOT_AVAILABLE 176.81934468792647  -48.90600396546809  42.48870589000203    -16.254402883773\n",
       "                ...           ...          ...       ...                ...                 ... ...                ...                ...                 ...                ...                 ...\n",
       "1635378410781933568 7284264691456    422988961    2015.0 45.062268599504804 0.18579410560244608 ...      NOT_AVAILABLE  176.7909868900194  -48.70784227595914 42.663727550322726 -16.147777731890358\n",
       "1635378410781933568 7352984181120    224217418    2015.0  45.05038431311211   50.76752762022998 ...      NOT_AVAILABLE 176.77471144482425 -48.713987541258994  42.65294572964405 -16.141007118818106\n",
       "1635378410781933568 7387343906304   1015771751    2015.0  45.07076641092095 0.16927961734388142 ...      NOT_AVAILABLE 176.77952512598026  -48.68869879014718  42.67789544156284 -16.132334759203204\n",
       "1635378410781933568 7421703656704   1065857547    2015.0  45.02346090745686    50.2627086358249 ...      NOT_AVAILABLE 176.75454586137792  -48.73858206802272  42.62384495898663  -16.14034709792834\n",
       "1635378410781933568 7460358480640    341809602    2015.0  45.04033858891605  1.7793371263114361 ...      NOT_AVAILABLE 176.76141409495344 -48.719476229512786  42.64370290681961 -16.135690349748955\n",
       "1635378410781933568 7559142613632    805783675    2015.0 45.045507440083576   64.23562545168312 ...      NOT_AVAILABLE  176.7585764824491  -48.71046913941762  42.65116606192112 -16.129925384913665\n",
       "1635378410781933568 7627862074752    883950605    2015.0  45.03433035439128 0.30598928200282727 ...      NOT_AVAILABLE 176.74041338370182  -48.71442190008815  42.64182504417002 -16.121052173353853\n",
       "1635378410781933568 7834020517760    620182825    2015.0 44.976164977688924 0.25045896295833414 ...      NOT_AVAILABLE 176.69874824602977  -48.76879265884225   42.5784131237812  -16.12134043964016\n",
       "1635378410781933568 7902739996160    338184528    2015.0  44.96647918298047   54.64900487168641 ...      NOT_AVAILABLE 176.68121961230523  -48.77108036400259 42.570816246308794   -16.1120972505992\n",
       "1635378410781933568 8040178924672    978798713    2015.0  44.92766244671393  0.1222335963841248 ...      NOT_AVAILABLE 176.64546925558417  -48.80231220617528  42.53070748335227 -16.105360657031962\n",
       "1635378410781933568 8040178948096     91234372    2015.0  44.92104757165942   0.881245949408352 ...      NOT_AVAILABLE 176.63870361410872  -48.80720555725832  42.52406008232147 -16.103624790495527\n",
       "1635378410781933568 8040178950144    915163825    2015.0 44.928212467858486  0.7833705814081212 ...      NOT_AVAILABLE 176.63693316150082 -48.796084626792656  42.53380912099541  -16.09751734284514\n",
       "1635378410781933568 8143258139648    462214684    2015.0  44.97265616158445  0.2379426196551581 ...      NOT_AVAILABLE 176.67264319764715 -48.756988326667674  42.58119243103549  -16.10064449234684\n",
       "1635378410781933568 8177618164608    935229935    2015.0 44.952552187995416   47.42897739454767 ...      NOT_AVAILABLE 176.64781367605605  -48.76911848702038  42.56219085866062 -16.091604966055254\n",
       "1635378410781933568 8246337381248    589344551    2015.0  44.99857713805903  0.2668424720438201 ...      NOT_AVAILABLE 176.70772578260733  -48.74331382223535  42.60483065453176 -16.115007770295282"
      ]
     },
     "execution_count": 29,
     "metadata": {},
     "output_type": "execute_result"
    }
   ],
   "source": [
    "from astroquery.gaia import Gaia\n",
    "\n",
    "job = Gaia.launch_job_async(\"select top 100 * from gaiadr1.gaia_source order by source_id\")\n",
    "r = job.get_results()\n",
    "r"
   ]
  },
  {
   "cell_type": "markdown",
   "metadata": {
    "slideshow": {
     "slide_type": "slide"
    }
   },
   "source": [
    "## Summary\n",
    "\n",
    "The `astroquery` package provides you with a one-stop-shop for a number of Python modules to access diverse data existing in remote archives. If you need to grab some data from an archive, check the [astroquery documentation](http://astroquery.readthedocs.io/en/latest/index.html) first.\n",
    "\n",
    "`astroquery` is not without it's faults, though:\n",
    "* The API can vary from module to module (though there's an ongoing push to fix that)\n",
    "* The implementation quality of the individual modules is highly variable\n",
    "* The documentation could be better.\n",
    "* It doesn't expose all functionality that is available through web interfaces.\n",
    "\n",
    "All those issues aside, it's still much better than doing the equivalent manually!\n",
    "\n",
    "*** Note: this is an excellent package to begin with, if you want to contribute to open source astronomical software development!***"
   ]
  }
 ],
 "metadata": {
  "celltoolbar": "Slideshow",
  "kernelspec": {
   "display_name": "Python 3 (ipykernel)",
   "language": "python",
   "name": "python3"
  },
  "language_info": {
   "codemirror_mode": {
    "name": "ipython",
    "version": 3
   },
   "file_extension": ".py",
   "mimetype": "text/x-python",
   "name": "python",
   "nbconvert_exporter": "python",
   "pygments_lexer": "ipython3",
   "version": "3.8.11"
  },
  "livereveal": {
   "scroll": "true",
   "start_slideshow_at": "selected"
  }
 },
 "nbformat": 4,
 "nbformat_minor": 1
}
